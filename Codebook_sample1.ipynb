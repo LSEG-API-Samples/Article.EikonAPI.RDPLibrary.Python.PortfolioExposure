{
 "cells": [
  {
   "cell_type": "markdown",
   "metadata": {},
   "source": [
    "# Import libraries and app key"
   ]
  },
  {
   "cell_type": "code",
   "execution_count": 56,
   "metadata": {},
   "outputs": [],
   "source": [
    "import refinitiv.dataplatform.eikon as ek\n",
    "import numpy as np\n",
    "import pandas as pd\n",
    "from datetime import datetime as dt\n",
    "mask = '%Y%m%d'\n",
    "dte = dt.now().strftime(mask)\n",
    "from IPython.display import display_html\n",
    "def display_side_by_side(*args):\n",
    "    html_str=''\n",
    "    for df in args:\n",
    "        html_str+=df.to_html()\n",
    "    display_html(html_str.replace('table','table style=\"display:inline\"'),raw=True)\n",
    "\n",
    "import plotly.express as px\n",
    "ek.set_app_key('DEFAULT_CODE_BOOK_APP_KEY')"
   ]
  },
  {
   "cell_type": "markdown",
   "metadata": {},
   "source": [
    "# Import Refinitiv layout for charts"
   ]
  },
  {
   "cell_type": "code",
   "execution_count": 57,
   "metadata": {},
   "outputs": [],
   "source": [
    "def refinitiv_layout(figure):\n",
    "    figure.update_layout(margin=dict(t=5, b=5, l=10, r=10),\n",
    "        plot_bgcolor='#1A1A1D',\n",
    "        paper_bgcolor='#1A1A1D',\n",
    "        yaxis=dict(gridcolor='black', gridwidth=1, zerolinecolor='black', zerolinewidth=1, \n",
    "                   side='right', color='#D6D6D5', linecolor='#D6D6D5', ticks='outside'),\n",
    "        xaxis=dict(gridcolor='black', gridwidth=1, zerolinecolor='black', zerolinewidth=1, \n",
    "                   color='#D6D6D5', linecolor='#D6D6D5', ticks='outside'),\n",
    "        colorway=['#6978F7', '#A325E9', '#96E05D', '#4A7FB9', '#E75A2D', '#FBE55A', '#8C8C8D', '#5A54F6'],\n",
    "        legend=dict(font=dict(color='#D6D6D5'), orientation='v', yanchor='top', xanchor='center', y=1.1, x=0.1),\n",
    "        title = dict(xanchor='center', yanchor='top', x=0.5, font=dict(color='#D6D6D5')),\n",
    "        font=dict(color='#D6D6D5')\n",
    "    )\n",
    "    return"
   ]
  },
  {
   "cell_type": "markdown",
   "metadata": {},
   "source": [
    "# Retrieve portfolio constituents and details"
   ]
  },
  {
   "cell_type": "code",
   "execution_count": 58,
   "metadata": {},
   "outputs": [],
   "source": [
    "portfolio = 'Portfolio(SAMPLE_GL_DEV)'\n",
    "df, err = ek.get_data(portfolio, ['TR.PortfolioConstituentName','TR.PortfolioName','TR.PortfolioWeight','TR.TRESGScore', 'TR.TRBCEconomicSector','TR.ExchangeCountry','TR.ExchangeRegion'])\n",
    "df['Issuer Name'] = df['Issuer Name'].str.title() \n",
    "df['Portfolio Name'] = df['Portfolio Name'].str.title() \n",
    "#Renaming Country of Exchange to Exchange Country for consistency\n",
    "df.rename(columns = {'Country of Exchange':'Exchange Country'}, inplace = True) \n",
    "df.rename(columns = {'TRBC Economic Sector Name':'TRBC Economic Sector'}, inplace = True) \n",
    "#df.head()"
   ]
  },
  {
   "cell_type": "markdown",
   "metadata": {},
   "source": [
    "# List of instruments with no ESG coverage"
   ]
  },
  {
   "cell_type": "code",
   "execution_count": 59,
   "metadata": {},
   "outputs": [],
   "source": [
    "df_esg_na = df[df['ESG Score'].isnull()].copy()\n",
    "df_esg_na['Portfolio Weight'] = pd.Series([\"{0:.3f}%\".format(val * 100) for val in df_esg_na['Portfolio Weight']], index = df_esg_na.index)\n",
    "df_esg_na = df_esg_na.style.set_table_attributes(\"style='display:inline'\").set_caption('Instruments Without ESG Coverage')\n",
    "#df_esg_na.hide_index()"
   ]
  },
  {
   "cell_type": "markdown",
   "metadata": {},
   "source": [
    "# List of instruments with ESG coverage"
   ]
  },
  {
   "cell_type": "code",
   "execution_count": 60,
   "metadata": {},
   "outputs": [],
   "source": [
    "df_esg_full = df[df['ESG Score'].notna()].copy()\n",
    "df_esg_full['Portfolio Weight'] = pd.Series([\"{0:.3f}%\".format(val * 100) for val in df_esg_full['Portfolio Weight']], index = df_esg_full.index)\n",
    "df_esg_full = df_esg_full.style.set_table_attributes(\"style='display:inline'\").set_caption('Instruments With ESG Coverage')\n",
    "#df_esg_full.hide_index()"
   ]
  },
  {
   "cell_type": "markdown",
   "metadata": {},
   "source": [
    "# Portfolio ESG Coverage"
   ]
  },
  {
   "cell_type": "code",
   "execution_count": 61,
   "metadata": {},
   "outputs": [
    {
     "data": {
      "text/html": [
       "<style  type=\"text/css\" >\n",
       "</style><table id=\"T_91e13316_dcde_11ea_a600_3213ac3be811\" style='display:inline'><caption>Instruments Without ESG Coverage</caption><thead>    <tr>        <th class=\"blank level0\" ></th>        <th class=\"col_heading level0 col0\" >Instrument</th>        <th class=\"col_heading level0 col1\" >Issuer Name</th>        <th class=\"col_heading level0 col2\" >Portfolio Name</th>        <th class=\"col_heading level0 col3\" >Portfolio Weight</th>        <th class=\"col_heading level0 col4\" >ESG Score</th>        <th class=\"col_heading level0 col5\" >TRBC Economic Sector</th>        <th class=\"col_heading level0 col6\" >Exchange Country</th>        <th class=\"col_heading level0 col7\" >Exchange Region</th>    </tr></thead><tbody>\n",
       "                <tr>\n",
       "                        <th id=\"T_91e13316_dcde_11ea_a600_3213ac3be811level0_row0\" class=\"row_heading level0 row0\" >0</th>\n",
       "                        <td id=\"T_91e13316_dcde_11ea_a600_3213ac3be811row0_col0\" class=\"data row0 col0\" >.ONECHF</td>\n",
       "                        <td id=\"T_91e13316_dcde_11ea_a600_3213ac3be811row0_col1\" class=\"data row0 col1\" >Swiss Franc</td>\n",
       "                        <td id=\"T_91e13316_dcde_11ea_a600_3213ac3be811row0_col2\" class=\"data row0 col2\" >Global Developed</td>\n",
       "                        <td id=\"T_91e13316_dcde_11ea_a600_3213ac3be811row0_col3\" class=\"data row0 col3\" >0.005%</td>\n",
       "                        <td id=\"T_91e13316_dcde_11ea_a600_3213ac3be811row0_col4\" class=\"data row0 col4\" >nan</td>\n",
       "                        <td id=\"T_91e13316_dcde_11ea_a600_3213ac3be811row0_col5\" class=\"data row0 col5\" >None</td>\n",
       "                        <td id=\"T_91e13316_dcde_11ea_a600_3213ac3be811row0_col6\" class=\"data row0 col6\" >None</td>\n",
       "                        <td id=\"T_91e13316_dcde_11ea_a600_3213ac3be811row0_col7\" class=\"data row0 col7\" ></td>\n",
       "            </tr>\n",
       "            <tr>\n",
       "                        <th id=\"T_91e13316_dcde_11ea_a600_3213ac3be811level0_row1\" class=\"row_heading level0 row1\" >1</th>\n",
       "                        <td id=\"T_91e13316_dcde_11ea_a600_3213ac3be811row1_col0\" class=\"data row1 col0\" >.ONEUKP</td>\n",
       "                        <td id=\"T_91e13316_dcde_11ea_a600_3213ac3be811row1_col1\" class=\"data row1 col1\" >U K Pound</td>\n",
       "                        <td id=\"T_91e13316_dcde_11ea_a600_3213ac3be811row1_col2\" class=\"data row1 col2\" >Global Developed</td>\n",
       "                        <td id=\"T_91e13316_dcde_11ea_a600_3213ac3be811row1_col3\" class=\"data row1 col3\" >0.005%</td>\n",
       "                        <td id=\"T_91e13316_dcde_11ea_a600_3213ac3be811row1_col4\" class=\"data row1 col4\" >nan</td>\n",
       "                        <td id=\"T_91e13316_dcde_11ea_a600_3213ac3be811row1_col5\" class=\"data row1 col5\" >None</td>\n",
       "                        <td id=\"T_91e13316_dcde_11ea_a600_3213ac3be811row1_col6\" class=\"data row1 col6\" >None</td>\n",
       "                        <td id=\"T_91e13316_dcde_11ea_a600_3213ac3be811row1_col7\" class=\"data row1 col7\" ></td>\n",
       "            </tr>\n",
       "            <tr>\n",
       "                        <th id=\"T_91e13316_dcde_11ea_a600_3213ac3be811level0_row2\" class=\"row_heading level0 row2\" >2</th>\n",
       "                        <td id=\"T_91e13316_dcde_11ea_a600_3213ac3be811row2_col0\" class=\"data row2 col0\" >.ONEUSD</td>\n",
       "                        <td id=\"T_91e13316_dcde_11ea_a600_3213ac3be811row2_col1\" class=\"data row2 col1\" >U S Dollar</td>\n",
       "                        <td id=\"T_91e13316_dcde_11ea_a600_3213ac3be811row2_col2\" class=\"data row2 col2\" >Global Developed</td>\n",
       "                        <td id=\"T_91e13316_dcde_11ea_a600_3213ac3be811row2_col3\" class=\"data row2 col3\" >0.005%</td>\n",
       "                        <td id=\"T_91e13316_dcde_11ea_a600_3213ac3be811row2_col4\" class=\"data row2 col4\" >nan</td>\n",
       "                        <td id=\"T_91e13316_dcde_11ea_a600_3213ac3be811row2_col5\" class=\"data row2 col5\" >None</td>\n",
       "                        <td id=\"T_91e13316_dcde_11ea_a600_3213ac3be811row2_col6\" class=\"data row2 col6\" >None</td>\n",
       "                        <td id=\"T_91e13316_dcde_11ea_a600_3213ac3be811row2_col7\" class=\"data row2 col7\" ></td>\n",
       "            </tr>\n",
       "            <tr>\n",
       "                        <th id=\"T_91e13316_dcde_11ea_a600_3213ac3be811level0_row3\" class=\"row_heading level0 row3\" >3</th>\n",
       "                        <td id=\"T_91e13316_dcde_11ea_a600_3213ac3be811row3_col0\" class=\"data row3 col0\" >.ONEEUR</td>\n",
       "                        <td id=\"T_91e13316_dcde_11ea_a600_3213ac3be811row3_col1\" class=\"data row3 col1\" >Euro</td>\n",
       "                        <td id=\"T_91e13316_dcde_11ea_a600_3213ac3be811row3_col2\" class=\"data row3 col2\" >Global Developed</td>\n",
       "                        <td id=\"T_91e13316_dcde_11ea_a600_3213ac3be811row3_col3\" class=\"data row3 col3\" >0.005%</td>\n",
       "                        <td id=\"T_91e13316_dcde_11ea_a600_3213ac3be811row3_col4\" class=\"data row3 col4\" >nan</td>\n",
       "                        <td id=\"T_91e13316_dcde_11ea_a600_3213ac3be811row3_col5\" class=\"data row3 col5\" >None</td>\n",
       "                        <td id=\"T_91e13316_dcde_11ea_a600_3213ac3be811row3_col6\" class=\"data row3 col6\" >None</td>\n",
       "                        <td id=\"T_91e13316_dcde_11ea_a600_3213ac3be811row3_col7\" class=\"data row3 col7\" ></td>\n",
       "            </tr>\n",
       "    </tbody></table> <style  type=\"text/css\" >\n",
       "</style><table id=\"T_91e180b4_dcde_11ea_a600_3213ac3be811\" style='display:inline'><caption>Instruments With ESG Coverage</caption><thead>    <tr>        <th class=\"blank level0\" ></th>        <th class=\"col_heading level0 col0\" >Instrument</th>        <th class=\"col_heading level0 col1\" >Issuer Name</th>        <th class=\"col_heading level0 col2\" >Portfolio Name</th>        <th class=\"col_heading level0 col3\" >Portfolio Weight</th>        <th class=\"col_heading level0 col4\" >ESG Score</th>        <th class=\"col_heading level0 col5\" >TRBC Economic Sector</th>        <th class=\"col_heading level0 col6\" >Exchange Country</th>        <th class=\"col_heading level0 col7\" >Exchange Region</th>    </tr></thead><tbody>\n",
       "                <tr>\n",
       "                        <th id=\"T_91e180b4_dcde_11ea_a600_3213ac3be811level0_row0\" class=\"row_heading level0 row0\" >4</th>\n",
       "                        <td id=\"T_91e180b4_dcde_11ea_a600_3213ac3be811row0_col0\" class=\"data row0 col0\" >CSL.AX</td>\n",
       "                        <td id=\"T_91e180b4_dcde_11ea_a600_3213ac3be811row0_col1\" class=\"data row0 col1\" >Csl Ltd</td>\n",
       "                        <td id=\"T_91e180b4_dcde_11ea_a600_3213ac3be811row0_col2\" class=\"data row0 col2\" >Global Developed</td>\n",
       "                        <td id=\"T_91e180b4_dcde_11ea_a600_3213ac3be811row0_col3\" class=\"data row0 col3\" >2.418%</td>\n",
       "                        <td id=\"T_91e180b4_dcde_11ea_a600_3213ac3be811row0_col4\" class=\"data row0 col4\" >78.6222</td>\n",
       "                        <td id=\"T_91e180b4_dcde_11ea_a600_3213ac3be811row0_col5\" class=\"data row0 col5\" >Healthcare</td>\n",
       "                        <td id=\"T_91e180b4_dcde_11ea_a600_3213ac3be811row0_col6\" class=\"data row0 col6\" >Australia</td>\n",
       "                        <td id=\"T_91e180b4_dcde_11ea_a600_3213ac3be811row0_col7\" class=\"data row0 col7\" >Oceania</td>\n",
       "            </tr>\n",
       "            <tr>\n",
       "                        <th id=\"T_91e180b4_dcde_11ea_a600_3213ac3be811level0_row1\" class=\"row_heading level0 row1\" >5</th>\n",
       "                        <td id=\"T_91e180b4_dcde_11ea_a600_3213ac3be811row1_col0\" class=\"data row1 col0\" >9202.T</td>\n",
       "                        <td id=\"T_91e180b4_dcde_11ea_a600_3213ac3be811row1_col1\" class=\"data row1 col1\" >Ana Holdings Inc</td>\n",
       "                        <td id=\"T_91e180b4_dcde_11ea_a600_3213ac3be811row1_col2\" class=\"data row1 col2\" >Global Developed</td>\n",
       "                        <td id=\"T_91e180b4_dcde_11ea_a600_3213ac3be811row1_col3\" class=\"data row1 col3\" >1.956%</td>\n",
       "                        <td id=\"T_91e180b4_dcde_11ea_a600_3213ac3be811row1_col4\" class=\"data row1 col4\" >75.2584</td>\n",
       "                        <td id=\"T_91e180b4_dcde_11ea_a600_3213ac3be811row1_col5\" class=\"data row1 col5\" >Industrials</td>\n",
       "                        <td id=\"T_91e180b4_dcde_11ea_a600_3213ac3be811row1_col6\" class=\"data row1 col6\" >Japan</td>\n",
       "                        <td id=\"T_91e180b4_dcde_11ea_a600_3213ac3be811row1_col7\" class=\"data row1 col7\" >Asia</td>\n",
       "            </tr>\n",
       "            <tr>\n",
       "                        <th id=\"T_91e180b4_dcde_11ea_a600_3213ac3be811level0_row2\" class=\"row_heading level0 row2\" >6</th>\n",
       "                        <td id=\"T_91e180b4_dcde_11ea_a600_3213ac3be811row2_col0\" class=\"data row2 col0\" >6367.T</td>\n",
       "                        <td id=\"T_91e180b4_dcde_11ea_a600_3213ac3be811row2_col1\" class=\"data row2 col1\" >Daikin Industries Ltd</td>\n",
       "                        <td id=\"T_91e180b4_dcde_11ea_a600_3213ac3be811row2_col2\" class=\"data row2 col2\" >Global Developed</td>\n",
       "                        <td id=\"T_91e180b4_dcde_11ea_a600_3213ac3be811row2_col3\" class=\"data row2 col3\" >1.284%</td>\n",
       "                        <td id=\"T_91e180b4_dcde_11ea_a600_3213ac3be811row2_col4\" class=\"data row2 col4\" >67.8821</td>\n",
       "                        <td id=\"T_91e180b4_dcde_11ea_a600_3213ac3be811row2_col5\" class=\"data row2 col5\" >Industrials</td>\n",
       "                        <td id=\"T_91e180b4_dcde_11ea_a600_3213ac3be811row2_col6\" class=\"data row2 col6\" >Japan</td>\n",
       "                        <td id=\"T_91e180b4_dcde_11ea_a600_3213ac3be811row2_col7\" class=\"data row2 col7\" >Asia</td>\n",
       "            </tr>\n",
       "            <tr>\n",
       "                        <th id=\"T_91e180b4_dcde_11ea_a600_3213ac3be811level0_row3\" class=\"row_heading level0 row3\" >7</th>\n",
       "                        <td id=\"T_91e180b4_dcde_11ea_a600_3213ac3be811row3_col0\" class=\"data row3 col0\" >9042.T</td>\n",
       "                        <td id=\"T_91e180b4_dcde_11ea_a600_3213ac3be811row3_col1\" class=\"data row3 col1\" >Hankyu Hanshin Holdings Inc</td>\n",
       "                        <td id=\"T_91e180b4_dcde_11ea_a600_3213ac3be811row3_col2\" class=\"data row3 col2\" >Global Developed</td>\n",
       "                        <td id=\"T_91e180b4_dcde_11ea_a600_3213ac3be811row3_col3\" class=\"data row3 col3\" >0.967%</td>\n",
       "                        <td id=\"T_91e180b4_dcde_11ea_a600_3213ac3be811row3_col4\" class=\"data row3 col4\" >27.7633</td>\n",
       "                        <td id=\"T_91e180b4_dcde_11ea_a600_3213ac3be811row3_col5\" class=\"data row3 col5\" >Industrials</td>\n",
       "                        <td id=\"T_91e180b4_dcde_11ea_a600_3213ac3be811row3_col6\" class=\"data row3 col6\" >Japan</td>\n",
       "                        <td id=\"T_91e180b4_dcde_11ea_a600_3213ac3be811row3_col7\" class=\"data row3 col7\" >Asia</td>\n",
       "            </tr>\n",
       "            <tr>\n",
       "                        <th id=\"T_91e180b4_dcde_11ea_a600_3213ac3be811level0_row4\" class=\"row_heading level0 row4\" >8</th>\n",
       "                        <td id=\"T_91e180b4_dcde_11ea_a600_3213ac3be811row4_col0\" class=\"data row4 col0\" >6701.T</td>\n",
       "                        <td id=\"T_91e180b4_dcde_11ea_a600_3213ac3be811row4_col1\" class=\"data row4 col1\" >Nec Corp</td>\n",
       "                        <td id=\"T_91e180b4_dcde_11ea_a600_3213ac3be811row4_col2\" class=\"data row4 col2\" >Global Developed</td>\n",
       "                        <td id=\"T_91e180b4_dcde_11ea_a600_3213ac3be811row4_col3\" class=\"data row4 col3\" >3.209%</td>\n",
       "                        <td id=\"T_91e180b4_dcde_11ea_a600_3213ac3be811row4_col4\" class=\"data row4 col4\" >82.8184</td>\n",
       "                        <td id=\"T_91e180b4_dcde_11ea_a600_3213ac3be811row4_col5\" class=\"data row4 col5\" >Technology</td>\n",
       "                        <td id=\"T_91e180b4_dcde_11ea_a600_3213ac3be811row4_col6\" class=\"data row4 col6\" >Japan</td>\n",
       "                        <td id=\"T_91e180b4_dcde_11ea_a600_3213ac3be811row4_col7\" class=\"data row4 col7\" >Asia</td>\n",
       "            </tr>\n",
       "            <tr>\n",
       "                        <th id=\"T_91e180b4_dcde_11ea_a600_3213ac3be811level0_row5\" class=\"row_heading level0 row5\" >9</th>\n",
       "                        <td id=\"T_91e180b4_dcde_11ea_a600_3213ac3be811row5_col0\" class=\"data row5 col0\" >6273.T</td>\n",
       "                        <td id=\"T_91e180b4_dcde_11ea_a600_3213ac3be811row5_col1\" class=\"data row5 col1\" >Smc Corp</td>\n",
       "                        <td id=\"T_91e180b4_dcde_11ea_a600_3213ac3be811row5_col2\" class=\"data row5 col2\" >Global Developed</td>\n",
       "                        <td id=\"T_91e180b4_dcde_11ea_a600_3213ac3be811row5_col3\" class=\"data row5 col3\" >0.908%</td>\n",
       "                        <td id=\"T_91e180b4_dcde_11ea_a600_3213ac3be811row5_col4\" class=\"data row5 col4\" >47.4089</td>\n",
       "                        <td id=\"T_91e180b4_dcde_11ea_a600_3213ac3be811row5_col5\" class=\"data row5 col5\" >Industrials</td>\n",
       "                        <td id=\"T_91e180b4_dcde_11ea_a600_3213ac3be811row5_col6\" class=\"data row5 col6\" >Japan</td>\n",
       "                        <td id=\"T_91e180b4_dcde_11ea_a600_3213ac3be811row5_col7\" class=\"data row5 col7\" >Asia</td>\n",
       "            </tr>\n",
       "            <tr>\n",
       "                        <th id=\"T_91e180b4_dcde_11ea_a600_3213ac3be811level0_row6\" class=\"row_heading level0 row6\" >10</th>\n",
       "                        <td id=\"T_91e180b4_dcde_11ea_a600_3213ac3be811row6_col0\" class=\"data row6 col0\" >9984.T</td>\n",
       "                        <td id=\"T_91e180b4_dcde_11ea_a600_3213ac3be811row6_col1\" class=\"data row6 col1\" >Softbank Group Corp</td>\n",
       "                        <td id=\"T_91e180b4_dcde_11ea_a600_3213ac3be811row6_col2\" class=\"data row6 col2\" >Global Developed</td>\n",
       "                        <td id=\"T_91e180b4_dcde_11ea_a600_3213ac3be811row6_col3\" class=\"data row6 col3\" >1.745%</td>\n",
       "                        <td id=\"T_91e180b4_dcde_11ea_a600_3213ac3be811row6_col4\" class=\"data row6 col4\" >37.6693</td>\n",
       "                        <td id=\"T_91e180b4_dcde_11ea_a600_3213ac3be811row6_col5\" class=\"data row6 col5\" >Telecommunications Services</td>\n",
       "                        <td id=\"T_91e180b4_dcde_11ea_a600_3213ac3be811row6_col6\" class=\"data row6 col6\" >Japan</td>\n",
       "                        <td id=\"T_91e180b4_dcde_11ea_a600_3213ac3be811row6_col7\" class=\"data row6 col7\" >Asia</td>\n",
       "            </tr>\n",
       "            <tr>\n",
       "                        <th id=\"T_91e180b4_dcde_11ea_a600_3213ac3be811level0_row7\" class=\"row_heading level0 row7\" >11</th>\n",
       "                        <td id=\"T_91e180b4_dcde_11ea_a600_3213ac3be811row7_col0\" class=\"data row7 col0\" >4063.T</td>\n",
       "                        <td id=\"T_91e180b4_dcde_11ea_a600_3213ac3be811row7_col1\" class=\"data row7 col1\" >Shin-Etsu Chemical Co Ltd</td>\n",
       "                        <td id=\"T_91e180b4_dcde_11ea_a600_3213ac3be811row7_col2\" class=\"data row7 col2\" >Global Developed</td>\n",
       "                        <td id=\"T_91e180b4_dcde_11ea_a600_3213ac3be811row7_col3\" class=\"data row7 col3\" >1.260%</td>\n",
       "                        <td id=\"T_91e180b4_dcde_11ea_a600_3213ac3be811row7_col4\" class=\"data row7 col4\" >62.8564</td>\n",
       "                        <td id=\"T_91e180b4_dcde_11ea_a600_3213ac3be811row7_col5\" class=\"data row7 col5\" >Basic Materials</td>\n",
       "                        <td id=\"T_91e180b4_dcde_11ea_a600_3213ac3be811row7_col6\" class=\"data row7 col6\" >Japan</td>\n",
       "                        <td id=\"T_91e180b4_dcde_11ea_a600_3213ac3be811row7_col7\" class=\"data row7 col7\" >Asia</td>\n",
       "            </tr>\n",
       "            <tr>\n",
       "                        <th id=\"T_91e180b4_dcde_11ea_a600_3213ac3be811level0_row8\" class=\"row_heading level0 row8\" >12</th>\n",
       "                        <td id=\"T_91e180b4_dcde_11ea_a600_3213ac3be811row8_col0\" class=\"data row8 col0\" >6758.T</td>\n",
       "                        <td id=\"T_91e180b4_dcde_11ea_a600_3213ac3be811row8_col1\" class=\"data row8 col1\" >Sony Corp</td>\n",
       "                        <td id=\"T_91e180b4_dcde_11ea_a600_3213ac3be811row8_col2\" class=\"data row8 col2\" >Global Developed</td>\n",
       "                        <td id=\"T_91e180b4_dcde_11ea_a600_3213ac3be811row8_col3\" class=\"data row8 col3\" >1.974%</td>\n",
       "                        <td id=\"T_91e180b4_dcde_11ea_a600_3213ac3be811row8_col4\" class=\"data row8 col4\" >82.822</td>\n",
       "                        <td id=\"T_91e180b4_dcde_11ea_a600_3213ac3be811row8_col5\" class=\"data row8 col5\" >Technology</td>\n",
       "                        <td id=\"T_91e180b4_dcde_11ea_a600_3213ac3be811row8_col6\" class=\"data row8 col6\" >Japan</td>\n",
       "                        <td id=\"T_91e180b4_dcde_11ea_a600_3213ac3be811row8_col7\" class=\"data row8 col7\" >Asia</td>\n",
       "            </tr>\n",
       "            <tr>\n",
       "                        <th id=\"T_91e180b4_dcde_11ea_a600_3213ac3be811level0_row9\" class=\"row_heading level0 row9\" >13</th>\n",
       "                        <td id=\"T_91e180b4_dcde_11ea_a600_3213ac3be811row9_col0\" class=\"data row9 col0\" >6502.T</td>\n",
       "                        <td id=\"T_91e180b4_dcde_11ea_a600_3213ac3be811row9_col1\" class=\"data row9 col1\" >Toshiba Corp</td>\n",
       "                        <td id=\"T_91e180b4_dcde_11ea_a600_3213ac3be811row9_col2\" class=\"data row9 col2\" >Global Developed</td>\n",
       "                        <td id=\"T_91e180b4_dcde_11ea_a600_3213ac3be811row9_col3\" class=\"data row9 col3\" >3.361%</td>\n",
       "                        <td id=\"T_91e180b4_dcde_11ea_a600_3213ac3be811row9_col4\" class=\"data row9 col4\" >86.4178</td>\n",
       "                        <td id=\"T_91e180b4_dcde_11ea_a600_3213ac3be811row9_col5\" class=\"data row9 col5\" >Industrials</td>\n",
       "                        <td id=\"T_91e180b4_dcde_11ea_a600_3213ac3be811row9_col6\" class=\"data row9 col6\" >Japan</td>\n",
       "                        <td id=\"T_91e180b4_dcde_11ea_a600_3213ac3be811row9_col7\" class=\"data row9 col7\" >Asia</td>\n",
       "            </tr>\n",
       "            <tr>\n",
       "                        <th id=\"T_91e180b4_dcde_11ea_a600_3213ac3be811level0_row10\" class=\"row_heading level0 row10\" >14</th>\n",
       "                        <td id=\"T_91e180b4_dcde_11ea_a600_3213ac3be811row10_col0\" class=\"data row10 col0\" >000660.KS</td>\n",
       "                        <td id=\"T_91e180b4_dcde_11ea_a600_3213ac3be811row10_col1\" class=\"data row10 col1\" >Sk Hynix Inc</td>\n",
       "                        <td id=\"T_91e180b4_dcde_11ea_a600_3213ac3be811row10_col2\" class=\"data row10 col2\" >Global Developed</td>\n",
       "                        <td id=\"T_91e180b4_dcde_11ea_a600_3213ac3be811row10_col3\" class=\"data row10 col3\" >1.158%</td>\n",
       "                        <td id=\"T_91e180b4_dcde_11ea_a600_3213ac3be811row10_col4\" class=\"data row10 col4\" >78.5313</td>\n",
       "                        <td id=\"T_91e180b4_dcde_11ea_a600_3213ac3be811row10_col5\" class=\"data row10 col5\" >Technology</td>\n",
       "                        <td id=\"T_91e180b4_dcde_11ea_a600_3213ac3be811row10_col6\" class=\"data row10 col6\" >Korea; Republic (S. Korea)</td>\n",
       "                        <td id=\"T_91e180b4_dcde_11ea_a600_3213ac3be811row10_col7\" class=\"data row10 col7\" >Asia</td>\n",
       "            </tr>\n",
       "            <tr>\n",
       "                        <th id=\"T_91e180b4_dcde_11ea_a600_3213ac3be811level0_row11\" class=\"row_heading level0 row11\" >15</th>\n",
       "                        <td id=\"T_91e180b4_dcde_11ea_a600_3213ac3be811row11_col0\" class=\"data row11 col0\" >ERICb.ST</td>\n",
       "                        <td id=\"T_91e180b4_dcde_11ea_a600_3213ac3be811row11_col1\" class=\"data row11 col1\" >Telefonaktiebolaget Lm Ericsson</td>\n",
       "                        <td id=\"T_91e180b4_dcde_11ea_a600_3213ac3be811row11_col2\" class=\"data row11 col2\" >Global Developed</td>\n",
       "                        <td id=\"T_91e180b4_dcde_11ea_a600_3213ac3be811row11_col3\" class=\"data row11 col3\" >0.863%</td>\n",
       "                        <td id=\"T_91e180b4_dcde_11ea_a600_3213ac3be811row11_col4\" class=\"data row11 col4\" >78.0306</td>\n",
       "                        <td id=\"T_91e180b4_dcde_11ea_a600_3213ac3be811row11_col5\" class=\"data row11 col5\" >Technology</td>\n",
       "                        <td id=\"T_91e180b4_dcde_11ea_a600_3213ac3be811row11_col6\" class=\"data row11 col6\" >Sweden</td>\n",
       "                        <td id=\"T_91e180b4_dcde_11ea_a600_3213ac3be811row11_col7\" class=\"data row11 col7\" >Europe</td>\n",
       "            </tr>\n",
       "            <tr>\n",
       "                        <th id=\"T_91e180b4_dcde_11ea_a600_3213ac3be811level0_row12\" class=\"row_heading level0 row12\" >16</th>\n",
       "                        <td id=\"T_91e180b4_dcde_11ea_a600_3213ac3be811row12_col0\" class=\"data row12 col0\" >ATVI.OQ</td>\n",
       "                        <td id=\"T_91e180b4_dcde_11ea_a600_3213ac3be811row12_col1\" class=\"data row12 col1\" >Activision Blizzard Inc</td>\n",
       "                        <td id=\"T_91e180b4_dcde_11ea_a600_3213ac3be811row12_col2\" class=\"data row12 col2\" >Global Developed</td>\n",
       "                        <td id=\"T_91e180b4_dcde_11ea_a600_3213ac3be811row12_col3\" class=\"data row12 col3\" >1.484%</td>\n",
       "                        <td id=\"T_91e180b4_dcde_11ea_a600_3213ac3be811row12_col4\" class=\"data row12 col4\" >60.788</td>\n",
       "                        <td id=\"T_91e180b4_dcde_11ea_a600_3213ac3be811row12_col5\" class=\"data row12 col5\" >Technology</td>\n",
       "                        <td id=\"T_91e180b4_dcde_11ea_a600_3213ac3be811row12_col6\" class=\"data row12 col6\" >United States of America</td>\n",
       "                        <td id=\"T_91e180b4_dcde_11ea_a600_3213ac3be811row12_col7\" class=\"data row12 col7\" >America</td>\n",
       "            </tr>\n",
       "            <tr>\n",
       "                        <th id=\"T_91e180b4_dcde_11ea_a600_3213ac3be811level0_row13\" class=\"row_heading level0 row13\" >17</th>\n",
       "                        <td id=\"T_91e180b4_dcde_11ea_a600_3213ac3be811row13_col0\" class=\"data row13 col0\" >AON.N</td>\n",
       "                        <td id=\"T_91e180b4_dcde_11ea_a600_3213ac3be811row13_col1\" class=\"data row13 col1\" >Aon Plc</td>\n",
       "                        <td id=\"T_91e180b4_dcde_11ea_a600_3213ac3be811row13_col2\" class=\"data row13 col2\" >Global Developed</td>\n",
       "                        <td id=\"T_91e180b4_dcde_11ea_a600_3213ac3be811row13_col3\" class=\"data row13 col3\" >1.090%</td>\n",
       "                        <td id=\"T_91e180b4_dcde_11ea_a600_3213ac3be811row13_col4\" class=\"data row13 col4\" >48.9056</td>\n",
       "                        <td id=\"T_91e180b4_dcde_11ea_a600_3213ac3be811row13_col5\" class=\"data row13 col5\" >Financials</td>\n",
       "                        <td id=\"T_91e180b4_dcde_11ea_a600_3213ac3be811row13_col6\" class=\"data row13 col6\" >United States of America</td>\n",
       "                        <td id=\"T_91e180b4_dcde_11ea_a600_3213ac3be811row13_col7\" class=\"data row13 col7\" >America</td>\n",
       "            </tr>\n",
       "            <tr>\n",
       "                        <th id=\"T_91e180b4_dcde_11ea_a600_3213ac3be811level0_row14\" class=\"row_heading level0 row14\" >18</th>\n",
       "                        <td id=\"T_91e180b4_dcde_11ea_a600_3213ac3be811row14_col0\" class=\"data row14 col0\" >AMAT.OQ</td>\n",
       "                        <td id=\"T_91e180b4_dcde_11ea_a600_3213ac3be811row14_col1\" class=\"data row14 col1\" >Applied Materials Inc</td>\n",
       "                        <td id=\"T_91e180b4_dcde_11ea_a600_3213ac3be811row14_col2\" class=\"data row14 col2\" >Global Developed</td>\n",
       "                        <td id=\"T_91e180b4_dcde_11ea_a600_3213ac3be811row14_col3\" class=\"data row14 col3\" >1.438%</td>\n",
       "                        <td id=\"T_91e180b4_dcde_11ea_a600_3213ac3be811row14_col4\" class=\"data row14 col4\" >77.7768</td>\n",
       "                        <td id=\"T_91e180b4_dcde_11ea_a600_3213ac3be811row14_col5\" class=\"data row14 col5\" >Technology</td>\n",
       "                        <td id=\"T_91e180b4_dcde_11ea_a600_3213ac3be811row14_col6\" class=\"data row14 col6\" >United States of America</td>\n",
       "                        <td id=\"T_91e180b4_dcde_11ea_a600_3213ac3be811row14_col7\" class=\"data row14 col7\" >America</td>\n",
       "            </tr>\n",
       "            <tr>\n",
       "                        <th id=\"T_91e180b4_dcde_11ea_a600_3213ac3be811level0_row15\" class=\"row_heading level0 row15\" >19</th>\n",
       "                        <td id=\"T_91e180b4_dcde_11ea_a600_3213ac3be811row15_col0\" class=\"data row15 col0\" >BSX.N</td>\n",
       "                        <td id=\"T_91e180b4_dcde_11ea_a600_3213ac3be811row15_col1\" class=\"data row15 col1\" >Boston Scientific Corp</td>\n",
       "                        <td id=\"T_91e180b4_dcde_11ea_a600_3213ac3be811row15_col2\" class=\"data row15 col2\" >Global Developed</td>\n",
       "                        <td id=\"T_91e180b4_dcde_11ea_a600_3213ac3be811row15_col3\" class=\"data row15 col3\" >1.366%</td>\n",
       "                        <td id=\"T_91e180b4_dcde_11ea_a600_3213ac3be811row15_col4\" class=\"data row15 col4\" >83.551</td>\n",
       "                        <td id=\"T_91e180b4_dcde_11ea_a600_3213ac3be811row15_col5\" class=\"data row15 col5\" >Healthcare</td>\n",
       "                        <td id=\"T_91e180b4_dcde_11ea_a600_3213ac3be811row15_col6\" class=\"data row15 col6\" >United States of America</td>\n",
       "                        <td id=\"T_91e180b4_dcde_11ea_a600_3213ac3be811row15_col7\" class=\"data row15 col7\" >America</td>\n",
       "            </tr>\n",
       "            <tr>\n",
       "                        <th id=\"T_91e180b4_dcde_11ea_a600_3213ac3be811level0_row16\" class=\"row_heading level0 row16\" >20</th>\n",
       "                        <td id=\"T_91e180b4_dcde_11ea_a600_3213ac3be811row16_col0\" class=\"data row16 col0\" >CI.N</td>\n",
       "                        <td id=\"T_91e180b4_dcde_11ea_a600_3213ac3be811row16_col1\" class=\"data row16 col1\" >Cigna Corp</td>\n",
       "                        <td id=\"T_91e180b4_dcde_11ea_a600_3213ac3be811row16_col2\" class=\"data row16 col2\" >Global Developed</td>\n",
       "                        <td id=\"T_91e180b4_dcde_11ea_a600_3213ac3be811row16_col3\" class=\"data row16 col3\" >1.637%</td>\n",
       "                        <td id=\"T_91e180b4_dcde_11ea_a600_3213ac3be811row16_col4\" class=\"data row16 col4\" >65.0723</td>\n",
       "                        <td id=\"T_91e180b4_dcde_11ea_a600_3213ac3be811row16_col5\" class=\"data row16 col5\" >Healthcare</td>\n",
       "                        <td id=\"T_91e180b4_dcde_11ea_a600_3213ac3be811row16_col6\" class=\"data row16 col6\" >United States of America</td>\n",
       "                        <td id=\"T_91e180b4_dcde_11ea_a600_3213ac3be811row16_col7\" class=\"data row16 col7\" >America</td>\n",
       "            </tr>\n",
       "            <tr>\n",
       "                        <th id=\"T_91e180b4_dcde_11ea_a600_3213ac3be811level0_row17\" class=\"row_heading level0 row17\" >21</th>\n",
       "                        <td id=\"T_91e180b4_dcde_11ea_a600_3213ac3be811row17_col0\" class=\"data row17 col0\" >CSX.OQ</td>\n",
       "                        <td id=\"T_91e180b4_dcde_11ea_a600_3213ac3be811row17_col1\" class=\"data row17 col1\" >Csx Corp</td>\n",
       "                        <td id=\"T_91e180b4_dcde_11ea_a600_3213ac3be811row17_col2\" class=\"data row17 col2\" >Global Developed</td>\n",
       "                        <td id=\"T_91e180b4_dcde_11ea_a600_3213ac3be811row17_col3\" class=\"data row17 col3\" >1.399%</td>\n",
       "                        <td id=\"T_91e180b4_dcde_11ea_a600_3213ac3be811row17_col4\" class=\"data row17 col4\" >57.1226</td>\n",
       "                        <td id=\"T_91e180b4_dcde_11ea_a600_3213ac3be811row17_col5\" class=\"data row17 col5\" >Industrials</td>\n",
       "                        <td id=\"T_91e180b4_dcde_11ea_a600_3213ac3be811row17_col6\" class=\"data row17 col6\" >United States of America</td>\n",
       "                        <td id=\"T_91e180b4_dcde_11ea_a600_3213ac3be811row17_col7\" class=\"data row17 col7\" >America</td>\n",
       "            </tr>\n",
       "            <tr>\n",
       "                        <th id=\"T_91e180b4_dcde_11ea_a600_3213ac3be811level0_row18\" class=\"row_heading level0 row18\" >22</th>\n",
       "                        <td id=\"T_91e180b4_dcde_11ea_a600_3213ac3be811row18_col0\" class=\"data row18 col0\" >DE.N</td>\n",
       "                        <td id=\"T_91e180b4_dcde_11ea_a600_3213ac3be811row18_col1\" class=\"data row18 col1\" >Deere & Co</td>\n",
       "                        <td id=\"T_91e180b4_dcde_11ea_a600_3213ac3be811row18_col2\" class=\"data row18 col2\" >Global Developed</td>\n",
       "                        <td id=\"T_91e180b4_dcde_11ea_a600_3213ac3be811row18_col3\" class=\"data row18 col3\" >1.474%</td>\n",
       "                        <td id=\"T_91e180b4_dcde_11ea_a600_3213ac3be811row18_col4\" class=\"data row18 col4\" >65.9612</td>\n",
       "                        <td id=\"T_91e180b4_dcde_11ea_a600_3213ac3be811row18_col5\" class=\"data row18 col5\" >Industrials</td>\n",
       "                        <td id=\"T_91e180b4_dcde_11ea_a600_3213ac3be811row18_col6\" class=\"data row18 col6\" >United States of America</td>\n",
       "                        <td id=\"T_91e180b4_dcde_11ea_a600_3213ac3be811row18_col7\" class=\"data row18 col7\" >America</td>\n",
       "            </tr>\n",
       "            <tr>\n",
       "                        <th id=\"T_91e180b4_dcde_11ea_a600_3213ac3be811level0_row19\" class=\"row_heading level0 row19\" >23</th>\n",
       "                        <td id=\"T_91e180b4_dcde_11ea_a600_3213ac3be811row19_col0\" class=\"data row19 col0\" >EA.OQ</td>\n",
       "                        <td id=\"T_91e180b4_dcde_11ea_a600_3213ac3be811row19_col1\" class=\"data row19 col1\" >Electronic Arts Inc</td>\n",
       "                        <td id=\"T_91e180b4_dcde_11ea_a600_3213ac3be811row19_col2\" class=\"data row19 col2\" >Global Developed</td>\n",
       "                        <td id=\"T_91e180b4_dcde_11ea_a600_3213ac3be811row19_col3\" class=\"data row19 col3\" >0.953%</td>\n",
       "                        <td id=\"T_91e180b4_dcde_11ea_a600_3213ac3be811row19_col4\" class=\"data row19 col4\" >49.1297</td>\n",
       "                        <td id=\"T_91e180b4_dcde_11ea_a600_3213ac3be811row19_col5\" class=\"data row19 col5\" >Technology</td>\n",
       "                        <td id=\"T_91e180b4_dcde_11ea_a600_3213ac3be811row19_col6\" class=\"data row19 col6\" >United States of America</td>\n",
       "                        <td id=\"T_91e180b4_dcde_11ea_a600_3213ac3be811row19_col7\" class=\"data row19 col7\" >America</td>\n",
       "            </tr>\n",
       "            <tr>\n",
       "                        <th id=\"T_91e180b4_dcde_11ea_a600_3213ac3be811level0_row20\" class=\"row_heading level0 row20\" >24</th>\n",
       "                        <td id=\"T_91e180b4_dcde_11ea_a600_3213ac3be811row20_col0\" class=\"data row20 col0\" >FDX.N</td>\n",
       "                        <td id=\"T_91e180b4_dcde_11ea_a600_3213ac3be811row20_col1\" class=\"data row20 col1\" >Fedex Corp</td>\n",
       "                        <td id=\"T_91e180b4_dcde_11ea_a600_3213ac3be811row20_col2\" class=\"data row20 col2\" >Global Developed</td>\n",
       "                        <td id=\"T_91e180b4_dcde_11ea_a600_3213ac3be811row20_col3\" class=\"data row20 col3\" >1.252%</td>\n",
       "                        <td id=\"T_91e180b4_dcde_11ea_a600_3213ac3be811row20_col4\" class=\"data row20 col4\" >75.6284</td>\n",
       "                        <td id=\"T_91e180b4_dcde_11ea_a600_3213ac3be811row20_col5\" class=\"data row20 col5\" >Industrials</td>\n",
       "                        <td id=\"T_91e180b4_dcde_11ea_a600_3213ac3be811row20_col6\" class=\"data row20 col6\" >United States of America</td>\n",
       "                        <td id=\"T_91e180b4_dcde_11ea_a600_3213ac3be811row20_col7\" class=\"data row20 col7\" >America</td>\n",
       "            </tr>\n",
       "            <tr>\n",
       "                        <th id=\"T_91e180b4_dcde_11ea_a600_3213ac3be811level0_row21\" class=\"row_heading level0 row21\" >25</th>\n",
       "                        <td id=\"T_91e180b4_dcde_11ea_a600_3213ac3be811row21_col0\" class=\"data row21 col0\" >GE.N</td>\n",
       "                        <td id=\"T_91e180b4_dcde_11ea_a600_3213ac3be811row21_col1\" class=\"data row21 col1\" >General Electric Co</td>\n",
       "                        <td id=\"T_91e180b4_dcde_11ea_a600_3213ac3be811row21_col2\" class=\"data row21 col2\" >Global Developed</td>\n",
       "                        <td id=\"T_91e180b4_dcde_11ea_a600_3213ac3be811row21_col3\" class=\"data row21 col3\" >1.433%</td>\n",
       "                        <td id=\"T_91e180b4_dcde_11ea_a600_3213ac3be811row21_col4\" class=\"data row21 col4\" >79.1856</td>\n",
       "                        <td id=\"T_91e180b4_dcde_11ea_a600_3213ac3be811row21_col5\" class=\"data row21 col5\" >Industrials</td>\n",
       "                        <td id=\"T_91e180b4_dcde_11ea_a600_3213ac3be811row21_col6\" class=\"data row21 col6\" >United States of America</td>\n",
       "                        <td id=\"T_91e180b4_dcde_11ea_a600_3213ac3be811row21_col7\" class=\"data row21 col7\" >America</td>\n",
       "            </tr>\n",
       "            <tr>\n",
       "                        <th id=\"T_91e180b4_dcde_11ea_a600_3213ac3be811level0_row22\" class=\"row_heading level0 row22\" >26</th>\n",
       "                        <td id=\"T_91e180b4_dcde_11ea_a600_3213ac3be811row22_col0\" class=\"data row22 col0\" >HUM.N</td>\n",
       "                        <td id=\"T_91e180b4_dcde_11ea_a600_3213ac3be811row22_col1\" class=\"data row22 col1\" >Humana Inc</td>\n",
       "                        <td id=\"T_91e180b4_dcde_11ea_a600_3213ac3be811row22_col2\" class=\"data row22 col2\" >Global Developed</td>\n",
       "                        <td id=\"T_91e180b4_dcde_11ea_a600_3213ac3be811row22_col3\" class=\"data row22 col3\" >1.337%</td>\n",
       "                        <td id=\"T_91e180b4_dcde_11ea_a600_3213ac3be811row22_col4\" class=\"data row22 col4\" >85.9176</td>\n",
       "                        <td id=\"T_91e180b4_dcde_11ea_a600_3213ac3be811row22_col5\" class=\"data row22 col5\" >Healthcare</td>\n",
       "                        <td id=\"T_91e180b4_dcde_11ea_a600_3213ac3be811row22_col6\" class=\"data row22 col6\" >United States of America</td>\n",
       "                        <td id=\"T_91e180b4_dcde_11ea_a600_3213ac3be811row22_col7\" class=\"data row22 col7\" >America</td>\n",
       "            </tr>\n",
       "            <tr>\n",
       "                        <th id=\"T_91e180b4_dcde_11ea_a600_3213ac3be811level0_row23\" class=\"row_heading level0 row23\" >27</th>\n",
       "                        <td id=\"T_91e180b4_dcde_11ea_a600_3213ac3be811row23_col0\" class=\"data row23 col0\" >BIIB.OQ</td>\n",
       "                        <td id=\"T_91e180b4_dcde_11ea_a600_3213ac3be811row23_col1\" class=\"data row23 col1\" >Biogen Inc</td>\n",
       "                        <td id=\"T_91e180b4_dcde_11ea_a600_3213ac3be811row23_col2\" class=\"data row23 col2\" >Global Developed</td>\n",
       "                        <td id=\"T_91e180b4_dcde_11ea_a600_3213ac3be811row23_col3\" class=\"data row23 col3\" >1.116%</td>\n",
       "                        <td id=\"T_91e180b4_dcde_11ea_a600_3213ac3be811row23_col4\" class=\"data row23 col4\" >72.5558</td>\n",
       "                        <td id=\"T_91e180b4_dcde_11ea_a600_3213ac3be811row23_col5\" class=\"data row23 col5\" >Healthcare</td>\n",
       "                        <td id=\"T_91e180b4_dcde_11ea_a600_3213ac3be811row23_col6\" class=\"data row23 col6\" >United States of America</td>\n",
       "                        <td id=\"T_91e180b4_dcde_11ea_a600_3213ac3be811row23_col7\" class=\"data row23 col7\" >America</td>\n",
       "            </tr>\n",
       "            <tr>\n",
       "                        <th id=\"T_91e180b4_dcde_11ea_a600_3213ac3be811level0_row24\" class=\"row_heading level0 row24\" >28</th>\n",
       "                        <td id=\"T_91e180b4_dcde_11ea_a600_3213ac3be811row24_col0\" class=\"data row24 col0\" >LRCX.OQ</td>\n",
       "                        <td id=\"T_91e180b4_dcde_11ea_a600_3213ac3be811row24_col1\" class=\"data row24 col1\" >Lam Research Corp</td>\n",
       "                        <td id=\"T_91e180b4_dcde_11ea_a600_3213ac3be811row24_col2\" class=\"data row24 col2\" >Global Developed</td>\n",
       "                        <td id=\"T_91e180b4_dcde_11ea_a600_3213ac3be811row24_col3\" class=\"data row24 col3\" >1.304%</td>\n",
       "                        <td id=\"T_91e180b4_dcde_11ea_a600_3213ac3be811row24_col4\" class=\"data row24 col4\" >65.5985</td>\n",
       "                        <td id=\"T_91e180b4_dcde_11ea_a600_3213ac3be811row24_col5\" class=\"data row24 col5\" >Technology</td>\n",
       "                        <td id=\"T_91e180b4_dcde_11ea_a600_3213ac3be811row24_col6\" class=\"data row24 col6\" >United States of America</td>\n",
       "                        <td id=\"T_91e180b4_dcde_11ea_a600_3213ac3be811row24_col7\" class=\"data row24 col7\" >America</td>\n",
       "            </tr>\n",
       "            <tr>\n",
       "                        <th id=\"T_91e180b4_dcde_11ea_a600_3213ac3be811level0_row25\" class=\"row_heading level0 row25\" >29</th>\n",
       "                        <td id=\"T_91e180b4_dcde_11ea_a600_3213ac3be811row25_col0\" class=\"data row25 col0\" >LOW.N</td>\n",
       "                        <td id=\"T_91e180b4_dcde_11ea_a600_3213ac3be811row25_col1\" class=\"data row25 col1\" >Lowe'S Companies Ord</td>\n",
       "                        <td id=\"T_91e180b4_dcde_11ea_a600_3213ac3be811row25_col2\" class=\"data row25 col2\" >Global Developed</td>\n",
       "                        <td id=\"T_91e180b4_dcde_11ea_a600_3213ac3be811row25_col3\" class=\"data row25 col3\" >2.826%</td>\n",
       "                        <td id=\"T_91e180b4_dcde_11ea_a600_3213ac3be811row25_col4\" class=\"data row25 col4\" >82.8771</td>\n",
       "                        <td id=\"T_91e180b4_dcde_11ea_a600_3213ac3be811row25_col5\" class=\"data row25 col5\" >Consumer Cyclicals</td>\n",
       "                        <td id=\"T_91e180b4_dcde_11ea_a600_3213ac3be811row25_col6\" class=\"data row25 col6\" >United States of America</td>\n",
       "                        <td id=\"T_91e180b4_dcde_11ea_a600_3213ac3be811row25_col7\" class=\"data row25 col7\" >America</td>\n",
       "            </tr>\n",
       "            <tr>\n",
       "                        <th id=\"T_91e180b4_dcde_11ea_a600_3213ac3be811level0_row26\" class=\"row_heading level0 row26\" >30</th>\n",
       "                        <td id=\"T_91e180b4_dcde_11ea_a600_3213ac3be811row26_col0\" class=\"data row26 col0\" >MMC.N</td>\n",
       "                        <td id=\"T_91e180b4_dcde_11ea_a600_3213ac3be811row26_col1\" class=\"data row26 col1\" >Marsh & Mclennan Companies Inc</td>\n",
       "                        <td id=\"T_91e180b4_dcde_11ea_a600_3213ac3be811row26_col2\" class=\"data row26 col2\" >Global Developed</td>\n",
       "                        <td id=\"T_91e180b4_dcde_11ea_a600_3213ac3be811row26_col3\" class=\"data row26 col3\" >1.441%</td>\n",
       "                        <td id=\"T_91e180b4_dcde_11ea_a600_3213ac3be811row26_col4\" class=\"data row26 col4\" >43.1759</td>\n",
       "                        <td id=\"T_91e180b4_dcde_11ea_a600_3213ac3be811row26_col5\" class=\"data row26 col5\" >Financials</td>\n",
       "                        <td id=\"T_91e180b4_dcde_11ea_a600_3213ac3be811row26_col6\" class=\"data row26 col6\" >United States of America</td>\n",
       "                        <td id=\"T_91e180b4_dcde_11ea_a600_3213ac3be811row26_col7\" class=\"data row26 col7\" >America</td>\n",
       "            </tr>\n",
       "            <tr>\n",
       "                        <th id=\"T_91e180b4_dcde_11ea_a600_3213ac3be811level0_row27\" class=\"row_heading level0 row27\" >31</th>\n",
       "                        <td id=\"T_91e180b4_dcde_11ea_a600_3213ac3be811row27_col0\" class=\"data row27 col0\" >SPGI.N</td>\n",
       "                        <td id=\"T_91e180b4_dcde_11ea_a600_3213ac3be811row27_col1\" class=\"data row27 col1\" >S&P Global Inc</td>\n",
       "                        <td id=\"T_91e180b4_dcde_11ea_a600_3213ac3be811row27_col2\" class=\"data row27 col2\" >Global Developed</td>\n",
       "                        <td id=\"T_91e180b4_dcde_11ea_a600_3213ac3be811row27_col3\" class=\"data row27 col3\" >2.017%</td>\n",
       "                        <td id=\"T_91e180b4_dcde_11ea_a600_3213ac3be811row27_col4\" class=\"data row27 col4\" >84.2486</td>\n",
       "                        <td id=\"T_91e180b4_dcde_11ea_a600_3213ac3be811row27_col5\" class=\"data row27 col5\" >Industrials</td>\n",
       "                        <td id=\"T_91e180b4_dcde_11ea_a600_3213ac3be811row27_col6\" class=\"data row27 col6\" >United States of America</td>\n",
       "                        <td id=\"T_91e180b4_dcde_11ea_a600_3213ac3be811row27_col7\" class=\"data row27 col7\" >America</td>\n",
       "            </tr>\n",
       "            <tr>\n",
       "                        <th id=\"T_91e180b4_dcde_11ea_a600_3213ac3be811level0_row28\" class=\"row_heading level0 row28\" >32</th>\n",
       "                        <td id=\"T_91e180b4_dcde_11ea_a600_3213ac3be811row28_col0\" class=\"data row28 col0\" >MU.OQ</td>\n",
       "                        <td id=\"T_91e180b4_dcde_11ea_a600_3213ac3be811row28_col1\" class=\"data row28 col1\" >Micron Technology Inc</td>\n",
       "                        <td id=\"T_91e180b4_dcde_11ea_a600_3213ac3be811row28_col2\" class=\"data row28 col2\" >Global Developed</td>\n",
       "                        <td id=\"T_91e180b4_dcde_11ea_a600_3213ac3be811row28_col3\" class=\"data row28 col3\" >1.291%</td>\n",
       "                        <td id=\"T_91e180b4_dcde_11ea_a600_3213ac3be811row28_col4\" class=\"data row28 col4\" >67.483</td>\n",
       "                        <td id=\"T_91e180b4_dcde_11ea_a600_3213ac3be811row28_col5\" class=\"data row28 col5\" >Technology</td>\n",
       "                        <td id=\"T_91e180b4_dcde_11ea_a600_3213ac3be811row28_col6\" class=\"data row28 col6\" >United States of America</td>\n",
       "                        <td id=\"T_91e180b4_dcde_11ea_a600_3213ac3be811row28_col7\" class=\"data row28 col7\" >America</td>\n",
       "            </tr>\n",
       "            <tr>\n",
       "                        <th id=\"T_91e180b4_dcde_11ea_a600_3213ac3be811level0_row29\" class=\"row_heading level0 row29\" >33</th>\n",
       "                        <td id=\"T_91e180b4_dcde_11ea_a600_3213ac3be811row29_col0\" class=\"data row29 col0\" >NEM.N</td>\n",
       "                        <td id=\"T_91e180b4_dcde_11ea_a600_3213ac3be811row29_col1\" class=\"data row29 col1\" >Newmont Corporation</td>\n",
       "                        <td id=\"T_91e180b4_dcde_11ea_a600_3213ac3be811row29_col2\" class=\"data row29 col2\" >Global Developed</td>\n",
       "                        <td id=\"T_91e180b4_dcde_11ea_a600_3213ac3be811row29_col3\" class=\"data row29 col3\" >1.229%</td>\n",
       "                        <td id=\"T_91e180b4_dcde_11ea_a600_3213ac3be811row29_col4\" class=\"data row29 col4\" >83.9279</td>\n",
       "                        <td id=\"T_91e180b4_dcde_11ea_a600_3213ac3be811row29_col5\" class=\"data row29 col5\" >Basic Materials</td>\n",
       "                        <td id=\"T_91e180b4_dcde_11ea_a600_3213ac3be811row29_col6\" class=\"data row29 col6\" >United States of America</td>\n",
       "                        <td id=\"T_91e180b4_dcde_11ea_a600_3213ac3be811row29_col7\" class=\"data row29 col7\" >America</td>\n",
       "            </tr>\n",
       "            <tr>\n",
       "                        <th id=\"T_91e180b4_dcde_11ea_a600_3213ac3be811level0_row30\" class=\"row_heading level0 row30\" >34</th>\n",
       "                        <td id=\"T_91e180b4_dcde_11ea_a600_3213ac3be811row30_col0\" class=\"data row30 col0\" >NOC.N</td>\n",
       "                        <td id=\"T_91e180b4_dcde_11ea_a600_3213ac3be811row30_col1\" class=\"data row30 col1\" >Northrop Grumman Corp</td>\n",
       "                        <td id=\"T_91e180b4_dcde_11ea_a600_3213ac3be811row30_col2\" class=\"data row30 col2\" >Global Developed</td>\n",
       "                        <td id=\"T_91e180b4_dcde_11ea_a600_3213ac3be811row30_col3\" class=\"data row30 col3\" >1.387%</td>\n",
       "                        <td id=\"T_91e180b4_dcde_11ea_a600_3213ac3be811row30_col4\" class=\"data row30 col4\" >75.4698</td>\n",
       "                        <td id=\"T_91e180b4_dcde_11ea_a600_3213ac3be811row30_col5\" class=\"data row30 col5\" >Industrials</td>\n",
       "                        <td id=\"T_91e180b4_dcde_11ea_a600_3213ac3be811row30_col6\" class=\"data row30 col6\" >United States of America</td>\n",
       "                        <td id=\"T_91e180b4_dcde_11ea_a600_3213ac3be811row30_col7\" class=\"data row30 col7\" >America</td>\n",
       "            </tr>\n",
       "            <tr>\n",
       "                        <th id=\"T_91e180b4_dcde_11ea_a600_3213ac3be811level0_row31\" class=\"row_heading level0 row31\" >35</th>\n",
       "                        <td id=\"T_91e180b4_dcde_11ea_a600_3213ac3be811row31_col0\" class=\"data row31 col0\" >ORCL.N</td>\n",
       "                        <td id=\"T_91e180b4_dcde_11ea_a600_3213ac3be811row31_col1\" class=\"data row31 col1\" >Oracle Corp</td>\n",
       "                        <td id=\"T_91e180b4_dcde_11ea_a600_3213ac3be811row31_col2\" class=\"data row31 col2\" >Global Developed</td>\n",
       "                        <td id=\"T_91e180b4_dcde_11ea_a600_3213ac3be811row31_col3\" class=\"data row31 col3\" >4.052%</td>\n",
       "                        <td id=\"T_91e180b4_dcde_11ea_a600_3213ac3be811row31_col4\" class=\"data row31 col4\" >52.3625</td>\n",
       "                        <td id=\"T_91e180b4_dcde_11ea_a600_3213ac3be811row31_col5\" class=\"data row31 col5\" >Technology</td>\n",
       "                        <td id=\"T_91e180b4_dcde_11ea_a600_3213ac3be811row31_col6\" class=\"data row31 col6\" >United States of America</td>\n",
       "                        <td id=\"T_91e180b4_dcde_11ea_a600_3213ac3be811row31_col7\" class=\"data row31 col7\" >America</td>\n",
       "            </tr>\n",
       "            <tr>\n",
       "                        <th id=\"T_91e180b4_dcde_11ea_a600_3213ac3be811level0_row32\" class=\"row_heading level0 row32\" >36</th>\n",
       "                        <td id=\"T_91e180b4_dcde_11ea_a600_3213ac3be811row32_col0\" class=\"data row32 col0\" >ORLY.OQ</td>\n",
       "                        <td id=\"T_91e180b4_dcde_11ea_a600_3213ac3be811row32_col1\" class=\"data row32 col1\" >O'Reilly Automotive Inc</td>\n",
       "                        <td id=\"T_91e180b4_dcde_11ea_a600_3213ac3be811row32_col2\" class=\"data row32 col2\" >Global Developed</td>\n",
       "                        <td id=\"T_91e180b4_dcde_11ea_a600_3213ac3be811row32_col3\" class=\"data row32 col3\" >0.822%</td>\n",
       "                        <td id=\"T_91e180b4_dcde_11ea_a600_3213ac3be811row32_col4\" class=\"data row32 col4\" >46.3789</td>\n",
       "                        <td id=\"T_91e180b4_dcde_11ea_a600_3213ac3be811row32_col5\" class=\"data row32 col5\" >Consumer Cyclicals</td>\n",
       "                        <td id=\"T_91e180b4_dcde_11ea_a600_3213ac3be811row32_col6\" class=\"data row32 col6\" >United States of America</td>\n",
       "                        <td id=\"T_91e180b4_dcde_11ea_a600_3213ac3be811row32_col7\" class=\"data row32 col7\" >America</td>\n",
       "            </tr>\n",
       "            <tr>\n",
       "                        <th id=\"T_91e180b4_dcde_11ea_a600_3213ac3be811level0_row33\" class=\"row_heading level0 row33\" >37</th>\n",
       "                        <td id=\"T_91e180b4_dcde_11ea_a600_3213ac3be811row33_col0\" class=\"data row33 col0\" >PGR.N</td>\n",
       "                        <td id=\"T_91e180b4_dcde_11ea_a600_3213ac3be811row33_col1\" class=\"data row33 col1\" >Progressive Corp</td>\n",
       "                        <td id=\"T_91e180b4_dcde_11ea_a600_3213ac3be811row33_col2\" class=\"data row33 col2\" >Global Developed</td>\n",
       "                        <td id=\"T_91e180b4_dcde_11ea_a600_3213ac3be811row33_col3\" class=\"data row33 col3\" >1.268%</td>\n",
       "                        <td id=\"T_91e180b4_dcde_11ea_a600_3213ac3be811row33_col4\" class=\"data row33 col4\" >45.5054</td>\n",
       "                        <td id=\"T_91e180b4_dcde_11ea_a600_3213ac3be811row33_col5\" class=\"data row33 col5\" >Financials</td>\n",
       "                        <td id=\"T_91e180b4_dcde_11ea_a600_3213ac3be811row33_col6\" class=\"data row33 col6\" >United States of America</td>\n",
       "                        <td id=\"T_91e180b4_dcde_11ea_a600_3213ac3be811row33_col7\" class=\"data row33 col7\" >America</td>\n",
       "            </tr>\n",
       "            <tr>\n",
       "                        <th id=\"T_91e180b4_dcde_11ea_a600_3213ac3be811level0_row34\" class=\"row_heading level0 row34\" >38</th>\n",
       "                        <td id=\"T_91e180b4_dcde_11ea_a600_3213ac3be811row34_col0\" class=\"data row34 col0\" >REGN.OQ</td>\n",
       "                        <td id=\"T_91e180b4_dcde_11ea_a600_3213ac3be811row34_col1\" class=\"data row34 col1\" >Regeneron Pharmaceuticals Inc</td>\n",
       "                        <td id=\"T_91e180b4_dcde_11ea_a600_3213ac3be811row34_col2\" class=\"data row34 col2\" >Global Developed</td>\n",
       "                        <td id=\"T_91e180b4_dcde_11ea_a600_3213ac3be811row34_col3\" class=\"data row34 col3\" >1.641%</td>\n",
       "                        <td id=\"T_91e180b4_dcde_11ea_a600_3213ac3be811row34_col4\" class=\"data row34 col4\" >64.6757</td>\n",
       "                        <td id=\"T_91e180b4_dcde_11ea_a600_3213ac3be811row34_col5\" class=\"data row34 col5\" >Healthcare</td>\n",
       "                        <td id=\"T_91e180b4_dcde_11ea_a600_3213ac3be811row34_col6\" class=\"data row34 col6\" >United States of America</td>\n",
       "                        <td id=\"T_91e180b4_dcde_11ea_a600_3213ac3be811row34_col7\" class=\"data row34 col7\" >America</td>\n",
       "            </tr>\n",
       "            <tr>\n",
       "                        <th id=\"T_91e180b4_dcde_11ea_a600_3213ac3be811level0_row35\" class=\"row_heading level0 row35\" >39</th>\n",
       "                        <td id=\"T_91e180b4_dcde_11ea_a600_3213ac3be811row35_col0\" class=\"data row35 col0\" >SHW.N</td>\n",
       "                        <td id=\"T_91e180b4_dcde_11ea_a600_3213ac3be811row35_col1\" class=\"data row35 col1\" >Sherwin-Williams Co</td>\n",
       "                        <td id=\"T_91e180b4_dcde_11ea_a600_3213ac3be811row35_col2\" class=\"data row35 col2\" >Global Developed</td>\n",
       "                        <td id=\"T_91e180b4_dcde_11ea_a600_3213ac3be811row35_col3\" class=\"data row35 col3\" >1.446%</td>\n",
       "                        <td id=\"T_91e180b4_dcde_11ea_a600_3213ac3be811row35_col4\" class=\"data row35 col4\" >75.1671</td>\n",
       "                        <td id=\"T_91e180b4_dcde_11ea_a600_3213ac3be811row35_col5\" class=\"data row35 col5\" >Basic Materials</td>\n",
       "                        <td id=\"T_91e180b4_dcde_11ea_a600_3213ac3be811row35_col6\" class=\"data row35 col6\" >United States of America</td>\n",
       "                        <td id=\"T_91e180b4_dcde_11ea_a600_3213ac3be811row35_col7\" class=\"data row35 col7\" >America</td>\n",
       "            </tr>\n",
       "            <tr>\n",
       "                        <th id=\"T_91e180b4_dcde_11ea_a600_3213ac3be811level0_row36\" class=\"row_heading level0 row36\" >40</th>\n",
       "                        <td id=\"T_91e180b4_dcde_11ea_a600_3213ac3be811row36_col0\" class=\"data row36 col0\" >SYK.N</td>\n",
       "                        <td id=\"T_91e180b4_dcde_11ea_a600_3213ac3be811row36_col1\" class=\"data row36 col1\" >Stryker Corp</td>\n",
       "                        <td id=\"T_91e180b4_dcde_11ea_a600_3213ac3be811row36_col2\" class=\"data row36 col2\" >Global Developed</td>\n",
       "                        <td id=\"T_91e180b4_dcde_11ea_a600_3213ac3be811row36_col3\" class=\"data row36 col3\" >1.724%</td>\n",
       "                        <td id=\"T_91e180b4_dcde_11ea_a600_3213ac3be811row36_col4\" class=\"data row36 col4\" >61.9425</td>\n",
       "                        <td id=\"T_91e180b4_dcde_11ea_a600_3213ac3be811row36_col5\" class=\"data row36 col5\" >Healthcare</td>\n",
       "                        <td id=\"T_91e180b4_dcde_11ea_a600_3213ac3be811row36_col6\" class=\"data row36 col6\" >United States of America</td>\n",
       "                        <td id=\"T_91e180b4_dcde_11ea_a600_3213ac3be811row36_col7\" class=\"data row36 col7\" >America</td>\n",
       "            </tr>\n",
       "            <tr>\n",
       "                        <th id=\"T_91e180b4_dcde_11ea_a600_3213ac3be811level0_row37\" class=\"row_heading level0 row37\" >41</th>\n",
       "                        <td id=\"T_91e180b4_dcde_11ea_a600_3213ac3be811row37_col0\" class=\"data row37 col0\" >TJX.N</td>\n",
       "                        <td id=\"T_91e180b4_dcde_11ea_a600_3213ac3be811row37_col1\" class=\"data row37 col1\" >Tjx Companies Inc</td>\n",
       "                        <td id=\"T_91e180b4_dcde_11ea_a600_3213ac3be811row37_col2\" class=\"data row37 col2\" >Global Developed</td>\n",
       "                        <td id=\"T_91e180b4_dcde_11ea_a600_3213ac3be811row37_col3\" class=\"data row37 col3\" >1.676%</td>\n",
       "                        <td id=\"T_91e180b4_dcde_11ea_a600_3213ac3be811row37_col4\" class=\"data row37 col4\" >66.2186</td>\n",
       "                        <td id=\"T_91e180b4_dcde_11ea_a600_3213ac3be811row37_col5\" class=\"data row37 col5\" >Consumer Cyclicals</td>\n",
       "                        <td id=\"T_91e180b4_dcde_11ea_a600_3213ac3be811row37_col6\" class=\"data row37 col6\" >United States of America</td>\n",
       "                        <td id=\"T_91e180b4_dcde_11ea_a600_3213ac3be811row37_col7\" class=\"data row37 col7\" >America</td>\n",
       "            </tr>\n",
       "            <tr>\n",
       "                        <th id=\"T_91e180b4_dcde_11ea_a600_3213ac3be811level0_row38\" class=\"row_heading level0 row38\" >42</th>\n",
       "                        <td id=\"T_91e180b4_dcde_11ea_a600_3213ac3be811row38_col0\" class=\"data row38 col0\" >VRTX.OQ</td>\n",
       "                        <td id=\"T_91e180b4_dcde_11ea_a600_3213ac3be811row38_col1\" class=\"data row38 col1\" >Vertex Pharmaceuticals Inc</td>\n",
       "                        <td id=\"T_91e180b4_dcde_11ea_a600_3213ac3be811row38_col2\" class=\"data row38 col2\" >Global Developed</td>\n",
       "                        <td id=\"T_91e180b4_dcde_11ea_a600_3213ac3be811row38_col3\" class=\"data row38 col3\" >1.653%</td>\n",
       "                        <td id=\"T_91e180b4_dcde_11ea_a600_3213ac3be811row38_col4\" class=\"data row38 col4\" >62.5914</td>\n",
       "                        <td id=\"T_91e180b4_dcde_11ea_a600_3213ac3be811row38_col5\" class=\"data row38 col5\" >Healthcare</td>\n",
       "                        <td id=\"T_91e180b4_dcde_11ea_a600_3213ac3be811row38_col6\" class=\"data row38 col6\" >United States of America</td>\n",
       "                        <td id=\"T_91e180b4_dcde_11ea_a600_3213ac3be811row38_col7\" class=\"data row38 col7\" >America</td>\n",
       "            </tr>\n",
       "            <tr>\n",
       "                        <th id=\"T_91e180b4_dcde_11ea_a600_3213ac3be811level0_row39\" class=\"row_heading level0 row39\" >43</th>\n",
       "                        <td id=\"T_91e180b4_dcde_11ea_a600_3213ac3be811row39_col0\" class=\"data row39 col0\" >MCO.N</td>\n",
       "                        <td id=\"T_91e180b4_dcde_11ea_a600_3213ac3be811row39_col1\" class=\"data row39 col1\" >Moody'S Corp</td>\n",
       "                        <td id=\"T_91e180b4_dcde_11ea_a600_3213ac3be811row39_col2\" class=\"data row39 col2\" >Global Developed</td>\n",
       "                        <td id=\"T_91e180b4_dcde_11ea_a600_3213ac3be811row39_col3\" class=\"data row39 col3\" >1.250%</td>\n",
       "                        <td id=\"T_91e180b4_dcde_11ea_a600_3213ac3be811row39_col4\" class=\"data row39 col4\" >62.7331</td>\n",
       "                        <td id=\"T_91e180b4_dcde_11ea_a600_3213ac3be811row39_col5\" class=\"data row39 col5\" >Industrials</td>\n",
       "                        <td id=\"T_91e180b4_dcde_11ea_a600_3213ac3be811row39_col6\" class=\"data row39 col6\" >United States of America</td>\n",
       "                        <td id=\"T_91e180b4_dcde_11ea_a600_3213ac3be811row39_col7\" class=\"data row39 col7\" >America</td>\n",
       "            </tr>\n",
       "            <tr>\n",
       "                        <th id=\"T_91e180b4_dcde_11ea_a600_3213ac3be811level0_row40\" class=\"row_heading level0 row40\" >44</th>\n",
       "                        <td id=\"T_91e180b4_dcde_11ea_a600_3213ac3be811row40_col0\" class=\"data row40 col0\" >CTSH.OQ</td>\n",
       "                        <td id=\"T_91e180b4_dcde_11ea_a600_3213ac3be811row40_col1\" class=\"data row40 col1\" >Cognizant Technology Solutions Corp</td>\n",
       "                        <td id=\"T_91e180b4_dcde_11ea_a600_3213ac3be811row40_col2\" class=\"data row40 col2\" >Global Developed</td>\n",
       "                        <td id=\"T_91e180b4_dcde_11ea_a600_3213ac3be811row40_col3\" class=\"data row40 col3\" >0.878%</td>\n",
       "                        <td id=\"T_91e180b4_dcde_11ea_a600_3213ac3be811row40_col4\" class=\"data row40 col4\" >56.2224</td>\n",
       "                        <td id=\"T_91e180b4_dcde_11ea_a600_3213ac3be811row40_col5\" class=\"data row40 col5\" >Technology</td>\n",
       "                        <td id=\"T_91e180b4_dcde_11ea_a600_3213ac3be811row40_col6\" class=\"data row40 col6\" >United States of America</td>\n",
       "                        <td id=\"T_91e180b4_dcde_11ea_a600_3213ac3be811row40_col7\" class=\"data row40 col7\" >America</td>\n",
       "            </tr>\n",
       "            <tr>\n",
       "                        <th id=\"T_91e180b4_dcde_11ea_a600_3213ac3be811level0_row41\" class=\"row_heading level0 row41\" >45</th>\n",
       "                        <td id=\"T_91e180b4_dcde_11ea_a600_3213ac3be811row41_col0\" class=\"data row41 col0\" >EBAY.OQ</td>\n",
       "                        <td id=\"T_91e180b4_dcde_11ea_a600_3213ac3be811row41_col1\" class=\"data row41 col1\" >Ebay Inc</td>\n",
       "                        <td id=\"T_91e180b4_dcde_11ea_a600_3213ac3be811row41_col2\" class=\"data row41 col2\" >Global Developed</td>\n",
       "                        <td id=\"T_91e180b4_dcde_11ea_a600_3213ac3be811row41_col3\" class=\"data row41 col3\" >0.925%</td>\n",
       "                        <td id=\"T_91e180b4_dcde_11ea_a600_3213ac3be811row41_col4\" class=\"data row41 col4\" >58.0607</td>\n",
       "                        <td id=\"T_91e180b4_dcde_11ea_a600_3213ac3be811row41_col5\" class=\"data row41 col5\" >Technology</td>\n",
       "                        <td id=\"T_91e180b4_dcde_11ea_a600_3213ac3be811row41_col6\" class=\"data row41 col6\" >United States of America</td>\n",
       "                        <td id=\"T_91e180b4_dcde_11ea_a600_3213ac3be811row41_col7\" class=\"data row41 col7\" >America</td>\n",
       "            </tr>\n",
       "            <tr>\n",
       "                        <th id=\"T_91e180b4_dcde_11ea_a600_3213ac3be811level0_row42\" class=\"row_heading level0 row42\" >46</th>\n",
       "                        <td id=\"T_91e180b4_dcde_11ea_a600_3213ac3be811row42_col0\" class=\"data row42 col0\" >BKNG.OQ</td>\n",
       "                        <td id=\"T_91e180b4_dcde_11ea_a600_3213ac3be811row42_col1\" class=\"data row42 col1\" >Booking Holdings Inc</td>\n",
       "                        <td id=\"T_91e180b4_dcde_11ea_a600_3213ac3be811row42_col2\" class=\"data row42 col2\" >Global Developed</td>\n",
       "                        <td id=\"T_91e180b4_dcde_11ea_a600_3213ac3be811row42_col3\" class=\"data row42 col3\" >1.804%</td>\n",
       "                        <td id=\"T_91e180b4_dcde_11ea_a600_3213ac3be811row42_col4\" class=\"data row42 col4\" >41.3904</td>\n",
       "                        <td id=\"T_91e180b4_dcde_11ea_a600_3213ac3be811row42_col5\" class=\"data row42 col5\" >Consumer Cyclicals</td>\n",
       "                        <td id=\"T_91e180b4_dcde_11ea_a600_3213ac3be811row42_col6\" class=\"data row42 col6\" >United States of America</td>\n",
       "                        <td id=\"T_91e180b4_dcde_11ea_a600_3213ac3be811row42_col7\" class=\"data row42 col7\" >America</td>\n",
       "            </tr>\n",
       "            <tr>\n",
       "                        <th id=\"T_91e180b4_dcde_11ea_a600_3213ac3be811level0_row43\" class=\"row_heading level0 row43\" >47</th>\n",
       "                        <td id=\"T_91e180b4_dcde_11ea_a600_3213ac3be811row43_col0\" class=\"data row43 col0\" >EQNR.OL</td>\n",
       "                        <td id=\"T_91e180b4_dcde_11ea_a600_3213ac3be811row43_col1\" class=\"data row43 col1\" >Equinor Asa</td>\n",
       "                        <td id=\"T_91e180b4_dcde_11ea_a600_3213ac3be811row43_col2\" class=\"data row43 col2\" >Global Developed</td>\n",
       "                        <td id=\"T_91e180b4_dcde_11ea_a600_3213ac3be811row43_col3\" class=\"data row43 col3\" >1.282%</td>\n",
       "                        <td id=\"T_91e180b4_dcde_11ea_a600_3213ac3be811row43_col4\" class=\"data row43 col4\" >81.7662</td>\n",
       "                        <td id=\"T_91e180b4_dcde_11ea_a600_3213ac3be811row43_col5\" class=\"data row43 col5\" >Energy</td>\n",
       "                        <td id=\"T_91e180b4_dcde_11ea_a600_3213ac3be811row43_col6\" class=\"data row43 col6\" >Norway</td>\n",
       "                        <td id=\"T_91e180b4_dcde_11ea_a600_3213ac3be811row43_col7\" class=\"data row43 col7\" >Europe</td>\n",
       "            </tr>\n",
       "            <tr>\n",
       "                        <th id=\"T_91e180b4_dcde_11ea_a600_3213ac3be811level0_row44\" class=\"row_heading level0 row44\" >48</th>\n",
       "                        <td id=\"T_91e180b4_dcde_11ea_a600_3213ac3be811row44_col0\" class=\"data row44 col0\" >ABX.TO</td>\n",
       "                        <td id=\"T_91e180b4_dcde_11ea_a600_3213ac3be811row44_col1\" class=\"data row44 col1\" >Barrick Gold Corp</td>\n",
       "                        <td id=\"T_91e180b4_dcde_11ea_a600_3213ac3be811row44_col2\" class=\"data row44 col2\" >Global Developed</td>\n",
       "                        <td id=\"T_91e180b4_dcde_11ea_a600_3213ac3be811row44_col3\" class=\"data row44 col3\" >1.134%</td>\n",
       "                        <td id=\"T_91e180b4_dcde_11ea_a600_3213ac3be811row44_col4\" class=\"data row44 col4\" >77.8066</td>\n",
       "                        <td id=\"T_91e180b4_dcde_11ea_a600_3213ac3be811row44_col5\" class=\"data row44 col5\" >Basic Materials</td>\n",
       "                        <td id=\"T_91e180b4_dcde_11ea_a600_3213ac3be811row44_col6\" class=\"data row44 col6\" >Canada</td>\n",
       "                        <td id=\"T_91e180b4_dcde_11ea_a600_3213ac3be811row44_col7\" class=\"data row44 col7\" >America</td>\n",
       "            </tr>\n",
       "            <tr>\n",
       "                        <th id=\"T_91e180b4_dcde_11ea_a600_3213ac3be811level0_row45\" class=\"row_heading level0 row45\" >49</th>\n",
       "                        <td id=\"T_91e180b4_dcde_11ea_a600_3213ac3be811row45_col0\" class=\"data row45 col0\" >BAMa.TO</td>\n",
       "                        <td id=\"T_91e180b4_dcde_11ea_a600_3213ac3be811row45_col1\" class=\"data row45 col1\" >Brookfield Asset Management Inc</td>\n",
       "                        <td id=\"T_91e180b4_dcde_11ea_a600_3213ac3be811row45_col2\" class=\"data row45 col2\" >Global Developed</td>\n",
       "                        <td id=\"T_91e180b4_dcde_11ea_a600_3213ac3be811row45_col3\" class=\"data row45 col3\" >1.297%</td>\n",
       "                        <td id=\"T_91e180b4_dcde_11ea_a600_3213ac3be811row45_col4\" class=\"data row45 col4\" >51.5539</td>\n",
       "                        <td id=\"T_91e180b4_dcde_11ea_a600_3213ac3be811row45_col5\" class=\"data row45 col5\" >Financials</td>\n",
       "                        <td id=\"T_91e180b4_dcde_11ea_a600_3213ac3be811row45_col6\" class=\"data row45 col6\" >Canada</td>\n",
       "                        <td id=\"T_91e180b4_dcde_11ea_a600_3213ac3be811row45_col7\" class=\"data row45 col7\" >America</td>\n",
       "            </tr>\n",
       "            <tr>\n",
       "                        <th id=\"T_91e180b4_dcde_11ea_a600_3213ac3be811level0_row46\" class=\"row_heading level0 row46\" >50</th>\n",
       "                        <td id=\"T_91e180b4_dcde_11ea_a600_3213ac3be811row46_col0\" class=\"data row46 col0\" >CP.TO</td>\n",
       "                        <td id=\"T_91e180b4_dcde_11ea_a600_3213ac3be811row46_col1\" class=\"data row46 col1\" >Canadian Pacific Railway Ltd</td>\n",
       "                        <td id=\"T_91e180b4_dcde_11ea_a600_3213ac3be811row46_col2\" class=\"data row46 col2\" >Global Developed</td>\n",
       "                        <td id=\"T_91e180b4_dcde_11ea_a600_3213ac3be811row46_col3\" class=\"data row46 col3\" >0.959%</td>\n",
       "                        <td id=\"T_91e180b4_dcde_11ea_a600_3213ac3be811row46_col4\" class=\"data row46 col4\" >71.6565</td>\n",
       "                        <td id=\"T_91e180b4_dcde_11ea_a600_3213ac3be811row46_col5\" class=\"data row46 col5\" >Industrials</td>\n",
       "                        <td id=\"T_91e180b4_dcde_11ea_a600_3213ac3be811row46_col6\" class=\"data row46 col6\" >Canada</td>\n",
       "                        <td id=\"T_91e180b4_dcde_11ea_a600_3213ac3be811row46_col7\" class=\"data row46 col7\" >America</td>\n",
       "            </tr>\n",
       "            <tr>\n",
       "                        <th id=\"T_91e180b4_dcde_11ea_a600_3213ac3be811level0_row47\" class=\"row_heading level0 row47\" >51</th>\n",
       "                        <td id=\"T_91e180b4_dcde_11ea_a600_3213ac3be811row47_col0\" class=\"data row47 col0\" >ACN.N</td>\n",
       "                        <td id=\"T_91e180b4_dcde_11ea_a600_3213ac3be811row47_col1\" class=\"data row47 col1\" >Accenture Plc</td>\n",
       "                        <td id=\"T_91e180b4_dcde_11ea_a600_3213ac3be811row47_col2\" class=\"data row47 col2\" >Global Developed</td>\n",
       "                        <td id=\"T_91e180b4_dcde_11ea_a600_3213ac3be811row47_col3\" class=\"data row47 col3\" >3.691%</td>\n",
       "                        <td id=\"T_91e180b4_dcde_11ea_a600_3213ac3be811row47_col4\" class=\"data row47 col4\" >71.8864</td>\n",
       "                        <td id=\"T_91e180b4_dcde_11ea_a600_3213ac3be811row47_col5\" class=\"data row47 col5\" >Technology</td>\n",
       "                        <td id=\"T_91e180b4_dcde_11ea_a600_3213ac3be811row47_col6\" class=\"data row47 col6\" >United States of America</td>\n",
       "                        <td id=\"T_91e180b4_dcde_11ea_a600_3213ac3be811row47_col7\" class=\"data row47 col7\" >America</td>\n",
       "            </tr>\n",
       "            <tr>\n",
       "                        <th id=\"T_91e180b4_dcde_11ea_a600_3213ac3be811level0_row48\" class=\"row_heading level0 row48\" >52</th>\n",
       "                        <td id=\"T_91e180b4_dcde_11ea_a600_3213ac3be811row48_col0\" class=\"data row48 col0\" >ANTM.N</td>\n",
       "                        <td id=\"T_91e180b4_dcde_11ea_a600_3213ac3be811row48_col1\" class=\"data row48 col1\" >Anthem Inc</td>\n",
       "                        <td id=\"T_91e180b4_dcde_11ea_a600_3213ac3be811row48_col2\" class=\"data row48 col2\" >Global Developed</td>\n",
       "                        <td id=\"T_91e180b4_dcde_11ea_a600_3213ac3be811row48_col3\" class=\"data row48 col3\" >1.714%</td>\n",
       "                        <td id=\"T_91e180b4_dcde_11ea_a600_3213ac3be811row48_col4\" class=\"data row48 col4\" >82.6703</td>\n",
       "                        <td id=\"T_91e180b4_dcde_11ea_a600_3213ac3be811row48_col5\" class=\"data row48 col5\" >Healthcare</td>\n",
       "                        <td id=\"T_91e180b4_dcde_11ea_a600_3213ac3be811row48_col6\" class=\"data row48 col6\" >United States of America</td>\n",
       "                        <td id=\"T_91e180b4_dcde_11ea_a600_3213ac3be811row48_col7\" class=\"data row48 col7\" >America</td>\n",
       "            </tr>\n",
       "            <tr>\n",
       "                        <th id=\"T_91e180b4_dcde_11ea_a600_3213ac3be811level0_row49\" class=\"row_heading level0 row49\" >53</th>\n",
       "                        <td id=\"T_91e180b4_dcde_11ea_a600_3213ac3be811row49_col0\" class=\"data row49 col0\" >CNC.N</td>\n",
       "                        <td id=\"T_91e180b4_dcde_11ea_a600_3213ac3be811row49_col1\" class=\"data row49 col1\" >Centene Corp</td>\n",
       "                        <td id=\"T_91e180b4_dcde_11ea_a600_3213ac3be811row49_col2\" class=\"data row49 col2\" >Global Developed</td>\n",
       "                        <td id=\"T_91e180b4_dcde_11ea_a600_3213ac3be811row49_col3\" class=\"data row49 col3\" >0.887%</td>\n",
       "                        <td id=\"T_91e180b4_dcde_11ea_a600_3213ac3be811row49_col4\" class=\"data row49 col4\" >34.1856</td>\n",
       "                        <td id=\"T_91e180b4_dcde_11ea_a600_3213ac3be811row49_col5\" class=\"data row49 col5\" >Healthcare</td>\n",
       "                        <td id=\"T_91e180b4_dcde_11ea_a600_3213ac3be811row49_col6\" class=\"data row49 col6\" >United States of America</td>\n",
       "                        <td id=\"T_91e180b4_dcde_11ea_a600_3213ac3be811row49_col7\" class=\"data row49 col7\" >America</td>\n",
       "            </tr>\n",
       "            <tr>\n",
       "                        <th id=\"T_91e180b4_dcde_11ea_a600_3213ac3be811level0_row50\" class=\"row_heading level0 row50\" >54</th>\n",
       "                        <td id=\"T_91e180b4_dcde_11ea_a600_3213ac3be811row50_col0\" class=\"data row50 col0\" >TMUS.OQ</td>\n",
       "                        <td id=\"T_91e180b4_dcde_11ea_a600_3213ac3be811row50_col1\" class=\"data row50 col1\" >T-Mobile Us Inc</td>\n",
       "                        <td id=\"T_91e180b4_dcde_11ea_a600_3213ac3be811row50_col2\" class=\"data row50 col2\" >Global Developed</td>\n",
       "                        <td id=\"T_91e180b4_dcde_11ea_a600_3213ac3be811row50_col3\" class=\"data row50 col3\" >3.424%</td>\n",
       "                        <td id=\"T_91e180b4_dcde_11ea_a600_3213ac3be811row50_col4\" class=\"data row50 col4\" >31.5915</td>\n",
       "                        <td id=\"T_91e180b4_dcde_11ea_a600_3213ac3be811row50_col5\" class=\"data row50 col5\" >Telecommunications Services</td>\n",
       "                        <td id=\"T_91e180b4_dcde_11ea_a600_3213ac3be811row50_col6\" class=\"data row50 col6\" >United States of America</td>\n",
       "                        <td id=\"T_91e180b4_dcde_11ea_a600_3213ac3be811row50_col7\" class=\"data row50 col7\" >America</td>\n",
       "            </tr>\n",
       "            <tr>\n",
       "                        <th id=\"T_91e180b4_dcde_11ea_a600_3213ac3be811level0_row51\" class=\"row_heading level0 row51\" >55</th>\n",
       "                        <td id=\"T_91e180b4_dcde_11ea_a600_3213ac3be811row51_col0\" class=\"data row51 col0\" >ICE.N</td>\n",
       "                        <td id=\"T_91e180b4_dcde_11ea_a600_3213ac3be811row51_col1\" class=\"data row51 col1\" >Intercontinental Exchange Inc</td>\n",
       "                        <td id=\"T_91e180b4_dcde_11ea_a600_3213ac3be811row51_col2\" class=\"data row51 col2\" >Global Developed</td>\n",
       "                        <td id=\"T_91e180b4_dcde_11ea_a600_3213ac3be811row51_col3\" class=\"data row51 col3\" >1.304%</td>\n",
       "                        <td id=\"T_91e180b4_dcde_11ea_a600_3213ac3be811row51_col4\" class=\"data row51 col4\" >64.0549</td>\n",
       "                        <td id=\"T_91e180b4_dcde_11ea_a600_3213ac3be811row51_col5\" class=\"data row51 col5\" >Financials</td>\n",
       "                        <td id=\"T_91e180b4_dcde_11ea_a600_3213ac3be811row51_col6\" class=\"data row51 col6\" >United States of America</td>\n",
       "                        <td id=\"T_91e180b4_dcde_11ea_a600_3213ac3be811row51_col7\" class=\"data row51 col7\" >America</td>\n",
       "            </tr>\n",
       "            <tr>\n",
       "                        <th id=\"T_91e180b4_dcde_11ea_a600_3213ac3be811level0_row52\" class=\"row_heading level0 row52\" >56</th>\n",
       "                        <td id=\"T_91e180b4_dcde_11ea_a600_3213ac3be811row52_col0\" class=\"data row52 col0\" >MELI.OQ</td>\n",
       "                        <td id=\"T_91e180b4_dcde_11ea_a600_3213ac3be811row52_col1\" class=\"data row52 col1\" >Mercadolibre Inc</td>\n",
       "                        <td id=\"T_91e180b4_dcde_11ea_a600_3213ac3be811row52_col2\" class=\"data row52 col2\" >Global Developed</td>\n",
       "                        <td id=\"T_91e180b4_dcde_11ea_a600_3213ac3be811row52_col3\" class=\"data row52 col3\" >1.328%</td>\n",
       "                        <td id=\"T_91e180b4_dcde_11ea_a600_3213ac3be811row52_col4\" class=\"data row52 col4\" >43.5695</td>\n",
       "                        <td id=\"T_91e180b4_dcde_11ea_a600_3213ac3be811row52_col5\" class=\"data row52 col5\" >Technology</td>\n",
       "                        <td id=\"T_91e180b4_dcde_11ea_a600_3213ac3be811row52_col6\" class=\"data row52 col6\" >United States of America</td>\n",
       "                        <td id=\"T_91e180b4_dcde_11ea_a600_3213ac3be811row52_col7\" class=\"data row52 col7\" >America</td>\n",
       "            </tr>\n",
       "            <tr>\n",
       "                        <th id=\"T_91e180b4_dcde_11ea_a600_3213ac3be811level0_row53\" class=\"row_heading level0 row53\" >57</th>\n",
       "                        <td id=\"T_91e180b4_dcde_11ea_a600_3213ac3be811row53_col0\" class=\"data row53 col0\" >DG.N</td>\n",
       "                        <td id=\"T_91e180b4_dcde_11ea_a600_3213ac3be811row53_col1\" class=\"data row53 col1\" >Dollar General Corp</td>\n",
       "                        <td id=\"T_91e180b4_dcde_11ea_a600_3213ac3be811row53_col2\" class=\"data row53 col2\" >Global Developed</td>\n",
       "                        <td id=\"T_91e180b4_dcde_11ea_a600_3213ac3be811row53_col3\" class=\"data row53 col3\" >1.170%</td>\n",
       "                        <td id=\"T_91e180b4_dcde_11ea_a600_3213ac3be811row53_col4\" class=\"data row53 col4\" >44.7813</td>\n",
       "                        <td id=\"T_91e180b4_dcde_11ea_a600_3213ac3be811row53_col5\" class=\"data row53 col5\" >Consumer Cyclicals</td>\n",
       "                        <td id=\"T_91e180b4_dcde_11ea_a600_3213ac3be811row53_col6\" class=\"data row53 col6\" >United States of America</td>\n",
       "                        <td id=\"T_91e180b4_dcde_11ea_a600_3213ac3be811row53_col7\" class=\"data row53 col7\" >America</td>\n",
       "            </tr>\n",
       "            <tr>\n",
       "                        <th id=\"T_91e180b4_dcde_11ea_a600_3213ac3be811level0_row54\" class=\"row_heading level0 row54\" >58</th>\n",
       "                        <td id=\"T_91e180b4_dcde_11ea_a600_3213ac3be811row54_col0\" class=\"data row54 col0\" >HCA.N</td>\n",
       "                        <td id=\"T_91e180b4_dcde_11ea_a600_3213ac3be811row54_col1\" class=\"data row54 col1\" >Hca Healthcare Inc</td>\n",
       "                        <td id=\"T_91e180b4_dcde_11ea_a600_3213ac3be811row54_col2\" class=\"data row54 col2\" >Global Developed</td>\n",
       "                        <td id=\"T_91e180b4_dcde_11ea_a600_3213ac3be811row54_col3\" class=\"data row54 col3\" >1.082%</td>\n",
       "                        <td id=\"T_91e180b4_dcde_11ea_a600_3213ac3be811row54_col4\" class=\"data row54 col4\" >61.193</td>\n",
       "                        <td id=\"T_91e180b4_dcde_11ea_a600_3213ac3be811row54_col5\" class=\"data row54 col5\" >Healthcare</td>\n",
       "                        <td id=\"T_91e180b4_dcde_11ea_a600_3213ac3be811row54_col6\" class=\"data row54 col6\" >United States of America</td>\n",
       "                        <td id=\"T_91e180b4_dcde_11ea_a600_3213ac3be811row54_col7\" class=\"data row54 col7\" >America</td>\n",
       "            </tr>\n",
       "            <tr>\n",
       "                        <th id=\"T_91e180b4_dcde_11ea_a600_3213ac3be811level0_row55\" class=\"row_heading level0 row55\" >59</th>\n",
       "                        <td id=\"T_91e180b4_dcde_11ea_a600_3213ac3be811row55_col0\" class=\"data row55 col0\" >1299.HK</td>\n",
       "                        <td id=\"T_91e180b4_dcde_11ea_a600_3213ac3be811row55_col1\" class=\"data row55 col1\" >Aia Group Ltd</td>\n",
       "                        <td id=\"T_91e180b4_dcde_11ea_a600_3213ac3be811row55_col2\" class=\"data row55 col2\" >Global Developed</td>\n",
       "                        <td id=\"T_91e180b4_dcde_11ea_a600_3213ac3be811row55_col3\" class=\"data row55 col3\" >2.758%</td>\n",
       "                        <td id=\"T_91e180b4_dcde_11ea_a600_3213ac3be811row55_col4\" class=\"data row55 col4\" >75.1006</td>\n",
       "                        <td id=\"T_91e180b4_dcde_11ea_a600_3213ac3be811row55_col5\" class=\"data row55 col5\" >Financials</td>\n",
       "                        <td id=\"T_91e180b4_dcde_11ea_a600_3213ac3be811row55_col6\" class=\"data row55 col6\" >Hong Kong</td>\n",
       "                        <td id=\"T_91e180b4_dcde_11ea_a600_3213ac3be811row55_col7\" class=\"data row55 col7\" >Asia</td>\n",
       "            </tr>\n",
       "            <tr>\n",
       "                        <th id=\"T_91e180b4_dcde_11ea_a600_3213ac3be811level0_row56\" class=\"row_heading level0 row56\" >60</th>\n",
       "                        <td id=\"T_91e180b4_dcde_11ea_a600_3213ac3be811row56_col0\" class=\"data row56 col0\" >WDAY.OQ</td>\n",
       "                        <td id=\"T_91e180b4_dcde_11ea_a600_3213ac3be811row56_col1\" class=\"data row56 col1\" >Workday Inc</td>\n",
       "                        <td id=\"T_91e180b4_dcde_11ea_a600_3213ac3be811row56_col2\" class=\"data row56 col2\" >Global Developed</td>\n",
       "                        <td id=\"T_91e180b4_dcde_11ea_a600_3213ac3be811row56_col3\" class=\"data row56 col3\" >1.015%</td>\n",
       "                        <td id=\"T_91e180b4_dcde_11ea_a600_3213ac3be811row56_col4\" class=\"data row56 col4\" >47.9888</td>\n",
       "                        <td id=\"T_91e180b4_dcde_11ea_a600_3213ac3be811row56_col5\" class=\"data row56 col5\" >Technology</td>\n",
       "                        <td id=\"T_91e180b4_dcde_11ea_a600_3213ac3be811row56_col6\" class=\"data row56 col6\" >United States of America</td>\n",
       "                        <td id=\"T_91e180b4_dcde_11ea_a600_3213ac3be811row56_col7\" class=\"data row56 col7\" >America</td>\n",
       "            </tr>\n",
       "            <tr>\n",
       "                        <th id=\"T_91e180b4_dcde_11ea_a600_3213ac3be811level0_row57\" class=\"row_heading level0 row57\" >61</th>\n",
       "                        <td id=\"T_91e180b4_dcde_11ea_a600_3213ac3be811row57_col0\" class=\"data row57 col0\" >ORSTED.CO</td>\n",
       "                        <td id=\"T_91e180b4_dcde_11ea_a600_3213ac3be811row57_col1\" class=\"data row57 col1\" >Orsted A/S</td>\n",
       "                        <td id=\"T_91e180b4_dcde_11ea_a600_3213ac3be811row57_col2\" class=\"data row57 col2\" >Global Developed</td>\n",
       "                        <td id=\"T_91e180b4_dcde_11ea_a600_3213ac3be811row57_col3\" class=\"data row57 col3\" >1.438%</td>\n",
       "                        <td id=\"T_91e180b4_dcde_11ea_a600_3213ac3be811row57_col4\" class=\"data row57 col4\" >69.895</td>\n",
       "                        <td id=\"T_91e180b4_dcde_11ea_a600_3213ac3be811row57_col5\" class=\"data row57 col5\" >Utilities</td>\n",
       "                        <td id=\"T_91e180b4_dcde_11ea_a600_3213ac3be811row57_col6\" class=\"data row57 col6\" >Denmark</td>\n",
       "                        <td id=\"T_91e180b4_dcde_11ea_a600_3213ac3be811row57_col7\" class=\"data row57 col7\" >Europe</td>\n",
       "            </tr>\n",
       "            <tr>\n",
       "                        <th id=\"T_91e180b4_dcde_11ea_a600_3213ac3be811level0_row58\" class=\"row_heading level0 row58\" >62</th>\n",
       "                        <td id=\"T_91e180b4_dcde_11ea_a600_3213ac3be811row58_col0\" class=\"data row58 col0\" >SQ.N</td>\n",
       "                        <td id=\"T_91e180b4_dcde_11ea_a600_3213ac3be811row58_col1\" class=\"data row58 col1\" >Square Inc</td>\n",
       "                        <td id=\"T_91e180b4_dcde_11ea_a600_3213ac3be811row58_col2\" class=\"data row58 col2\" >Global Developed</td>\n",
       "                        <td id=\"T_91e180b4_dcde_11ea_a600_3213ac3be811row58_col3\" class=\"data row58 col3\" >1.477%</td>\n",
       "                        <td id=\"T_91e180b4_dcde_11ea_a600_3213ac3be811row58_col4\" class=\"data row58 col4\" >42.7606</td>\n",
       "                        <td id=\"T_91e180b4_dcde_11ea_a600_3213ac3be811row58_col5\" class=\"data row58 col5\" >Technology</td>\n",
       "                        <td id=\"T_91e180b4_dcde_11ea_a600_3213ac3be811row58_col6\" class=\"data row58 col6\" >United States of America</td>\n",
       "                        <td id=\"T_91e180b4_dcde_11ea_a600_3213ac3be811row58_col7\" class=\"data row58 col7\" >America</td>\n",
       "            </tr>\n",
       "            <tr>\n",
       "                        <th id=\"T_91e180b4_dcde_11ea_a600_3213ac3be811level0_row59\" class=\"row_heading level0 row59\" >63</th>\n",
       "                        <td id=\"T_91e180b4_dcde_11ea_a600_3213ac3be811row59_col0\" class=\"data row59 col0\" >TEAM.OQ</td>\n",
       "                        <td id=\"T_91e180b4_dcde_11ea_a600_3213ac3be811row59_col1\" class=\"data row59 col1\" >Atlassian Corporation Plc</td>\n",
       "                        <td id=\"T_91e180b4_dcde_11ea_a600_3213ac3be811row59_col2\" class=\"data row59 col2\" >Global Developed</td>\n",
       "                        <td id=\"T_91e180b4_dcde_11ea_a600_3213ac3be811row59_col3\" class=\"data row59 col3\" >0.959%</td>\n",
       "                        <td id=\"T_91e180b4_dcde_11ea_a600_3213ac3be811row59_col4\" class=\"data row59 col4\" >54.0676</td>\n",
       "                        <td id=\"T_91e180b4_dcde_11ea_a600_3213ac3be811row59_col5\" class=\"data row59 col5\" >Technology</td>\n",
       "                        <td id=\"T_91e180b4_dcde_11ea_a600_3213ac3be811row59_col6\" class=\"data row59 col6\" >United States of America</td>\n",
       "                        <td id=\"T_91e180b4_dcde_11ea_a600_3213ac3be811row59_col7\" class=\"data row59 col7\" >America</td>\n",
       "            </tr>\n",
       "            <tr>\n",
       "                        <th id=\"T_91e180b4_dcde_11ea_a600_3213ac3be811level0_row60\" class=\"row_heading level0 row60\" >64</th>\n",
       "                        <td id=\"T_91e180b4_dcde_11ea_a600_3213ac3be811row60_col0\" class=\"data row60 col0\" >TWLO.N</td>\n",
       "                        <td id=\"T_91e180b4_dcde_11ea_a600_3213ac3be811row60_col1\" class=\"data row60 col1\" >Twilio Inc</td>\n",
       "                        <td id=\"T_91e180b4_dcde_11ea_a600_3213ac3be811row60_col2\" class=\"data row60 col2\" >Global Developed</td>\n",
       "                        <td id=\"T_91e180b4_dcde_11ea_a600_3213ac3be811row60_col3\" class=\"data row60 col3\" >0.832%</td>\n",
       "                        <td id=\"T_91e180b4_dcde_11ea_a600_3213ac3be811row60_col4\" class=\"data row60 col4\" >34.9985</td>\n",
       "                        <td id=\"T_91e180b4_dcde_11ea_a600_3213ac3be811row60_col5\" class=\"data row60 col5\" >Technology</td>\n",
       "                        <td id=\"T_91e180b4_dcde_11ea_a600_3213ac3be811row60_col6\" class=\"data row60 col6\" >United States of America</td>\n",
       "                        <td id=\"T_91e180b4_dcde_11ea_a600_3213ac3be811row60_col7\" class=\"data row60 col7\" >America</td>\n",
       "            </tr>\n",
       "            <tr>\n",
       "                        <th id=\"T_91e180b4_dcde_11ea_a600_3213ac3be811level0_row61\" class=\"row_heading level0 row61\" >65</th>\n",
       "                        <td id=\"T_91e180b4_dcde_11ea_a600_3213ac3be811row61_col0\" class=\"data row61 col0\" >SHLG.DE</td>\n",
       "                        <td id=\"T_91e180b4_dcde_11ea_a600_3213ac3be811row61_col1\" class=\"data row61 col1\" >Siemens Healthineers Ag</td>\n",
       "                        <td id=\"T_91e180b4_dcde_11ea_a600_3213ac3be811row61_col2\" class=\"data row61 col2\" >Global Developed</td>\n",
       "                        <td id=\"T_91e180b4_dcde_11ea_a600_3213ac3be811row61_col3\" class=\"data row61 col3\" >1.185%</td>\n",
       "                        <td id=\"T_91e180b4_dcde_11ea_a600_3213ac3be811row61_col4\" class=\"data row61 col4\" >73.8853</td>\n",
       "                        <td id=\"T_91e180b4_dcde_11ea_a600_3213ac3be811row61_col5\" class=\"data row61 col5\" >Healthcare</td>\n",
       "                        <td id=\"T_91e180b4_dcde_11ea_a600_3213ac3be811row61_col6\" class=\"data row61 col6\" >Germany</td>\n",
       "                        <td id=\"T_91e180b4_dcde_11ea_a600_3213ac3be811row61_col7\" class=\"data row61 col7\" >Europe</td>\n",
       "            </tr>\n",
       "            <tr>\n",
       "                        <th id=\"T_91e180b4_dcde_11ea_a600_3213ac3be811level0_row62\" class=\"row_heading level0 row62\" >66</th>\n",
       "                        <td id=\"T_91e180b4_dcde_11ea_a600_3213ac3be811row62_col0\" class=\"data row62 col0\" >SPOT.N</td>\n",
       "                        <td id=\"T_91e180b4_dcde_11ea_a600_3213ac3be811row62_col1\" class=\"data row62 col1\" >Spotify Technology Sa</td>\n",
       "                        <td id=\"T_91e180b4_dcde_11ea_a600_3213ac3be811row62_col2\" class=\"data row62 col2\" >Global Developed</td>\n",
       "                        <td id=\"T_91e180b4_dcde_11ea_a600_3213ac3be811row62_col3\" class=\"data row62 col3\" >1.147%</td>\n",
       "                        <td id=\"T_91e180b4_dcde_11ea_a600_3213ac3be811row62_col4\" class=\"data row62 col4\" >49.509</td>\n",
       "                        <td id=\"T_91e180b4_dcde_11ea_a600_3213ac3be811row62_col5\" class=\"data row62 col5\" >Technology</td>\n",
       "                        <td id=\"T_91e180b4_dcde_11ea_a600_3213ac3be811row62_col6\" class=\"data row62 col6\" >United States of America</td>\n",
       "                        <td id=\"T_91e180b4_dcde_11ea_a600_3213ac3be811row62_col7\" class=\"data row62 col7\" >America</td>\n",
       "            </tr>\n",
       "            <tr>\n",
       "                        <th id=\"T_91e180b4_dcde_11ea_a600_3213ac3be811level0_row63\" class=\"row_heading level0 row63\" >67</th>\n",
       "                        <td id=\"T_91e180b4_dcde_11ea_a600_3213ac3be811row63_col0\" class=\"data row63 col0\" >DOCU.OQ</td>\n",
       "                        <td id=\"T_91e180b4_dcde_11ea_a600_3213ac3be811row63_col1\" class=\"data row63 col1\" >Docusign Inc</td>\n",
       "                        <td id=\"T_91e180b4_dcde_11ea_a600_3213ac3be811row63_col2\" class=\"data row63 col2\" >Global Developed</td>\n",
       "                        <td id=\"T_91e180b4_dcde_11ea_a600_3213ac3be811row63_col3\" class=\"data row63 col3\" >0.856%</td>\n",
       "                        <td id=\"T_91e180b4_dcde_11ea_a600_3213ac3be811row63_col4\" class=\"data row63 col4\" >38.6016</td>\n",
       "                        <td id=\"T_91e180b4_dcde_11ea_a600_3213ac3be811row63_col5\" class=\"data row63 col5\" >Technology</td>\n",
       "                        <td id=\"T_91e180b4_dcde_11ea_a600_3213ac3be811row63_col6\" class=\"data row63 col6\" >United States of America</td>\n",
       "                        <td id=\"T_91e180b4_dcde_11ea_a600_3213ac3be811row63_col7\" class=\"data row63 col7\" >America</td>\n",
       "            </tr>\n",
       "            <tr>\n",
       "                        <th id=\"T_91e180b4_dcde_11ea_a600_3213ac3be811level0_row64\" class=\"row_heading level0 row64\" >68</th>\n",
       "                        <td id=\"T_91e180b4_dcde_11ea_a600_3213ac3be811row64_col0\" class=\"data row64 col0\" >UBER.N</td>\n",
       "                        <td id=\"T_91e180b4_dcde_11ea_a600_3213ac3be811row64_col1\" class=\"data row64 col1\" >Uber Technologies Inc</td>\n",
       "                        <td id=\"T_91e180b4_dcde_11ea_a600_3213ac3be811row64_col2\" class=\"data row64 col2\" >Global Developed</td>\n",
       "                        <td id=\"T_91e180b4_dcde_11ea_a600_3213ac3be811row64_col3\" class=\"data row64 col3\" >1.326%</td>\n",
       "                        <td id=\"T_91e180b4_dcde_11ea_a600_3213ac3be811row64_col4\" class=\"data row64 col4\" >36.7778</td>\n",
       "                        <td id=\"T_91e180b4_dcde_11ea_a600_3213ac3be811row64_col5\" class=\"data row64 col5\" >Technology</td>\n",
       "                        <td id=\"T_91e180b4_dcde_11ea_a600_3213ac3be811row64_col6\" class=\"data row64 col6\" >United States of America</td>\n",
       "                        <td id=\"T_91e180b4_dcde_11ea_a600_3213ac3be811row64_col7\" class=\"data row64 col7\" >America</td>\n",
       "            </tr>\n",
       "    </tbody></table>"
      ]
     },
     "metadata": {},
     "output_type": "display_data"
    }
   ],
   "source": [
    "display_html(df_esg_na._repr_html_()+ ' ' + df_esg_full._repr_html_(), raw=True)"
   ]
  },
  {
   "cell_type": "markdown",
   "metadata": {},
   "source": [
    "# Export to excel the list of instruments covered by ESG"
   ]
  },
  {
   "cell_type": "code",
   "execution_count": 62,
   "metadata": {},
   "outputs": [],
   "source": [
    "fname = \"Portfolio_ESG_{}.xlsx\".format(dte)\n",
    "#df_esg_full.to_excel(fname)"
   ]
  },
  {
   "cell_type": "markdown",
   "metadata": {},
   "source": [
    "# % of portfolio with ESG coverage"
   ]
  },
  {
   "cell_type": "code",
   "execution_count": 70,
   "metadata": {},
   "outputs": [
    {
     "data": {
      "text/plain": [
       "'99.98%'"
      ]
     },
     "execution_count": 70,
     "metadata": {},
     "output_type": "execute_result"
    }
   ],
   "source": [
    "df_esg_sum = df[df['ESG Score'].notna()].copy()\n",
    "df_esg_sum = df_esg_sum['Portfolio Weight'].sum()\n",
    "df_esg_sum = \"{:.2%}\".format(df_esg_sum)\n",
    "df_esg_sum"
   ]
  },
  {
   "cell_type": "markdown",
   "metadata": {},
   "source": [
    "# Normalize weights of the securities covered by ESG"
   ]
  },
  {
   "cell_type": "code",
   "execution_count": 99,
   "metadata": {},
   "outputs": [],
   "source": [
    "df_esg_port = df[df['ESG Score'].notna()].copy()\n",
    "df_esg_port['ESG Portfolio Weight'] = df_esg_port['Portfolio Weight'].transform(lambda x: x / x.sum())\n",
    "#df_esg_port.head()"
   ]
  },
  {
   "cell_type": "markdown",
   "metadata": {},
   "source": [
    "# Top 5 holdings"
   ]
  },
  {
   "cell_type": "code",
   "execution_count": 100,
   "metadata": {},
   "outputs": [],
   "source": [
    "df_top = df.nlargest(5,'Portfolio Weight')\n",
    "df_top = df_top[['Instrument','Issuer Name','Portfolio Weight','ESG Score','TRBC Economic Sector']]\n",
    "df_top['Portfolio Weight'] = pd.Series([\"{0:.3f}%\".format(val * 100) for val in df_top['Portfolio Weight']], index = df_top.index)\n",
    "df_top = df_top.style.set_table_attributes(\"style='display:inline'\").set_caption('Top 5 holdings')\n",
    "#df_top.hide_index()"
   ]
  },
  {
   "cell_type": "markdown",
   "metadata": {},
   "source": [
    "# Bottom 5 holdings"
   ]
  },
  {
   "cell_type": "code",
   "execution_count": 77,
   "metadata": {},
   "outputs": [],
   "source": [
    "df_bottom = df.nsmallest(5,'Portfolio Weight')\n",
    "df_bottom = df_bottom[['Instrument','Issuer Name','Portfolio Weight','ESG Score','TRBC Economic Sector']]\n",
    "df_bottom['Portfolio Weight'] = pd.Series([\"{0:.3f}%\".format(val * 100) for val in df_bottom['Portfolio Weight']], index = df_bottom.index)\n",
    "df_bottom = df_bottom.style.set_table_attributes(\"style='display:inline'\").set_caption('Bottom 5 holdings')\n",
    "#df_bottom.hide_index()"
   ]
  },
  {
   "cell_type": "markdown",
   "metadata": {},
   "source": [
    "# Top & bottom 5 holdings"
   ]
  },
  {
   "cell_type": "code",
   "execution_count": 79,
   "metadata": {},
   "outputs": [
    {
     "data": {
      "text/html": [
       "<style  type=\"text/css\" >\n",
       "</style><table id=\"T_c421576a_dcdf_11ea_a600_3213ac3be811\" style='display:inline'><caption>Top 5 holdings</caption><thead>    <tr>        <th class=\"blank level0\" ></th>        <th class=\"col_heading level0 col0\" >Instrument</th>        <th class=\"col_heading level0 col1\" >Issuer Name</th>        <th class=\"col_heading level0 col2\" >Portfolio Weight</th>        <th class=\"col_heading level0 col3\" >ESG Score</th>        <th class=\"col_heading level0 col4\" >TRBC Economic Sector</th>    </tr></thead><tbody>\n",
       "                <tr>\n",
       "                        <th id=\"T_c421576a_dcdf_11ea_a600_3213ac3be811level0_row0\" class=\"row_heading level0 row0\" >35</th>\n",
       "                        <td id=\"T_c421576a_dcdf_11ea_a600_3213ac3be811row0_col0\" class=\"data row0 col0\" >ORCL.N</td>\n",
       "                        <td id=\"T_c421576a_dcdf_11ea_a600_3213ac3be811row0_col1\" class=\"data row0 col1\" >Oracle Corp</td>\n",
       "                        <td id=\"T_c421576a_dcdf_11ea_a600_3213ac3be811row0_col2\" class=\"data row0 col2\" >4.052%</td>\n",
       "                        <td id=\"T_c421576a_dcdf_11ea_a600_3213ac3be811row0_col3\" class=\"data row0 col3\" >52.3625</td>\n",
       "                        <td id=\"T_c421576a_dcdf_11ea_a600_3213ac3be811row0_col4\" class=\"data row0 col4\" >Technology</td>\n",
       "            </tr>\n",
       "            <tr>\n",
       "                        <th id=\"T_c421576a_dcdf_11ea_a600_3213ac3be811level0_row1\" class=\"row_heading level0 row1\" >51</th>\n",
       "                        <td id=\"T_c421576a_dcdf_11ea_a600_3213ac3be811row1_col0\" class=\"data row1 col0\" >ACN.N</td>\n",
       "                        <td id=\"T_c421576a_dcdf_11ea_a600_3213ac3be811row1_col1\" class=\"data row1 col1\" >Accenture Plc</td>\n",
       "                        <td id=\"T_c421576a_dcdf_11ea_a600_3213ac3be811row1_col2\" class=\"data row1 col2\" >3.691%</td>\n",
       "                        <td id=\"T_c421576a_dcdf_11ea_a600_3213ac3be811row1_col3\" class=\"data row1 col3\" >71.8864</td>\n",
       "                        <td id=\"T_c421576a_dcdf_11ea_a600_3213ac3be811row1_col4\" class=\"data row1 col4\" >Technology</td>\n",
       "            </tr>\n",
       "            <tr>\n",
       "                        <th id=\"T_c421576a_dcdf_11ea_a600_3213ac3be811level0_row2\" class=\"row_heading level0 row2\" >54</th>\n",
       "                        <td id=\"T_c421576a_dcdf_11ea_a600_3213ac3be811row2_col0\" class=\"data row2 col0\" >TMUS.OQ</td>\n",
       "                        <td id=\"T_c421576a_dcdf_11ea_a600_3213ac3be811row2_col1\" class=\"data row2 col1\" >T-Mobile Us Inc</td>\n",
       "                        <td id=\"T_c421576a_dcdf_11ea_a600_3213ac3be811row2_col2\" class=\"data row2 col2\" >3.424%</td>\n",
       "                        <td id=\"T_c421576a_dcdf_11ea_a600_3213ac3be811row2_col3\" class=\"data row2 col3\" >31.5915</td>\n",
       "                        <td id=\"T_c421576a_dcdf_11ea_a600_3213ac3be811row2_col4\" class=\"data row2 col4\" >Telecommunications Services</td>\n",
       "            </tr>\n",
       "            <tr>\n",
       "                        <th id=\"T_c421576a_dcdf_11ea_a600_3213ac3be811level0_row3\" class=\"row_heading level0 row3\" >13</th>\n",
       "                        <td id=\"T_c421576a_dcdf_11ea_a600_3213ac3be811row3_col0\" class=\"data row3 col0\" >6502.T</td>\n",
       "                        <td id=\"T_c421576a_dcdf_11ea_a600_3213ac3be811row3_col1\" class=\"data row3 col1\" >Toshiba Corp</td>\n",
       "                        <td id=\"T_c421576a_dcdf_11ea_a600_3213ac3be811row3_col2\" class=\"data row3 col2\" >3.361%</td>\n",
       "                        <td id=\"T_c421576a_dcdf_11ea_a600_3213ac3be811row3_col3\" class=\"data row3 col3\" >86.4178</td>\n",
       "                        <td id=\"T_c421576a_dcdf_11ea_a600_3213ac3be811row3_col4\" class=\"data row3 col4\" >Industrials</td>\n",
       "            </tr>\n",
       "            <tr>\n",
       "                        <th id=\"T_c421576a_dcdf_11ea_a600_3213ac3be811level0_row4\" class=\"row_heading level0 row4\" >8</th>\n",
       "                        <td id=\"T_c421576a_dcdf_11ea_a600_3213ac3be811row4_col0\" class=\"data row4 col0\" >6701.T</td>\n",
       "                        <td id=\"T_c421576a_dcdf_11ea_a600_3213ac3be811row4_col1\" class=\"data row4 col1\" >Nec Corp</td>\n",
       "                        <td id=\"T_c421576a_dcdf_11ea_a600_3213ac3be811row4_col2\" class=\"data row4 col2\" >3.209%</td>\n",
       "                        <td id=\"T_c421576a_dcdf_11ea_a600_3213ac3be811row4_col3\" class=\"data row4 col3\" >82.8184</td>\n",
       "                        <td id=\"T_c421576a_dcdf_11ea_a600_3213ac3be811row4_col4\" class=\"data row4 col4\" >Technology</td>\n",
       "            </tr>\n",
       "    </tbody></table> <style  type=\"text/css\" >\n",
       "</style><table id=\"T_c421a8c8_dcdf_11ea_a600_3213ac3be811\" style='display:inline'><caption>Bottom 5 holdings</caption><thead>    <tr>        <th class=\"blank level0\" ></th>        <th class=\"col_heading level0 col0\" >Instrument</th>        <th class=\"col_heading level0 col1\" >Issuer Name</th>        <th class=\"col_heading level0 col2\" >Portfolio Weight</th>        <th class=\"col_heading level0 col3\" >ESG Score</th>        <th class=\"col_heading level0 col4\" >TRBC Economic Sector</th>    </tr></thead><tbody>\n",
       "                <tr>\n",
       "                        <th id=\"T_c421a8c8_dcdf_11ea_a600_3213ac3be811level0_row0\" class=\"row_heading level0 row0\" >0</th>\n",
       "                        <td id=\"T_c421a8c8_dcdf_11ea_a600_3213ac3be811row0_col0\" class=\"data row0 col0\" >.ONECHF</td>\n",
       "                        <td id=\"T_c421a8c8_dcdf_11ea_a600_3213ac3be811row0_col1\" class=\"data row0 col1\" >Swiss Franc</td>\n",
       "                        <td id=\"T_c421a8c8_dcdf_11ea_a600_3213ac3be811row0_col2\" class=\"data row0 col2\" >0.005%</td>\n",
       "                        <td id=\"T_c421a8c8_dcdf_11ea_a600_3213ac3be811row0_col3\" class=\"data row0 col3\" >nan</td>\n",
       "                        <td id=\"T_c421a8c8_dcdf_11ea_a600_3213ac3be811row0_col4\" class=\"data row0 col4\" >None</td>\n",
       "            </tr>\n",
       "            <tr>\n",
       "                        <th id=\"T_c421a8c8_dcdf_11ea_a600_3213ac3be811level0_row1\" class=\"row_heading level0 row1\" >3</th>\n",
       "                        <td id=\"T_c421a8c8_dcdf_11ea_a600_3213ac3be811row1_col0\" class=\"data row1 col0\" >.ONEEUR</td>\n",
       "                        <td id=\"T_c421a8c8_dcdf_11ea_a600_3213ac3be811row1_col1\" class=\"data row1 col1\" >Euro</td>\n",
       "                        <td id=\"T_c421a8c8_dcdf_11ea_a600_3213ac3be811row1_col2\" class=\"data row1 col2\" >0.005%</td>\n",
       "                        <td id=\"T_c421a8c8_dcdf_11ea_a600_3213ac3be811row1_col3\" class=\"data row1 col3\" >nan</td>\n",
       "                        <td id=\"T_c421a8c8_dcdf_11ea_a600_3213ac3be811row1_col4\" class=\"data row1 col4\" >None</td>\n",
       "            </tr>\n",
       "            <tr>\n",
       "                        <th id=\"T_c421a8c8_dcdf_11ea_a600_3213ac3be811level0_row2\" class=\"row_heading level0 row2\" >1</th>\n",
       "                        <td id=\"T_c421a8c8_dcdf_11ea_a600_3213ac3be811row2_col0\" class=\"data row2 col0\" >.ONEUKP</td>\n",
       "                        <td id=\"T_c421a8c8_dcdf_11ea_a600_3213ac3be811row2_col1\" class=\"data row2 col1\" >U K Pound</td>\n",
       "                        <td id=\"T_c421a8c8_dcdf_11ea_a600_3213ac3be811row2_col2\" class=\"data row2 col2\" >0.005%</td>\n",
       "                        <td id=\"T_c421a8c8_dcdf_11ea_a600_3213ac3be811row2_col3\" class=\"data row2 col3\" >nan</td>\n",
       "                        <td id=\"T_c421a8c8_dcdf_11ea_a600_3213ac3be811row2_col4\" class=\"data row2 col4\" >None</td>\n",
       "            </tr>\n",
       "            <tr>\n",
       "                        <th id=\"T_c421a8c8_dcdf_11ea_a600_3213ac3be811level0_row3\" class=\"row_heading level0 row3\" >2</th>\n",
       "                        <td id=\"T_c421a8c8_dcdf_11ea_a600_3213ac3be811row3_col0\" class=\"data row3 col0\" >.ONEUSD</td>\n",
       "                        <td id=\"T_c421a8c8_dcdf_11ea_a600_3213ac3be811row3_col1\" class=\"data row3 col1\" >U S Dollar</td>\n",
       "                        <td id=\"T_c421a8c8_dcdf_11ea_a600_3213ac3be811row3_col2\" class=\"data row3 col2\" >0.005%</td>\n",
       "                        <td id=\"T_c421a8c8_dcdf_11ea_a600_3213ac3be811row3_col3\" class=\"data row3 col3\" >nan</td>\n",
       "                        <td id=\"T_c421a8c8_dcdf_11ea_a600_3213ac3be811row3_col4\" class=\"data row3 col4\" >None</td>\n",
       "            </tr>\n",
       "            <tr>\n",
       "                        <th id=\"T_c421a8c8_dcdf_11ea_a600_3213ac3be811level0_row4\" class=\"row_heading level0 row4\" >36</th>\n",
       "                        <td id=\"T_c421a8c8_dcdf_11ea_a600_3213ac3be811row4_col0\" class=\"data row4 col0\" >ORLY.OQ</td>\n",
       "                        <td id=\"T_c421a8c8_dcdf_11ea_a600_3213ac3be811row4_col1\" class=\"data row4 col1\" >O'Reilly Automotive Inc</td>\n",
       "                        <td id=\"T_c421a8c8_dcdf_11ea_a600_3213ac3be811row4_col2\" class=\"data row4 col2\" >0.822%</td>\n",
       "                        <td id=\"T_c421a8c8_dcdf_11ea_a600_3213ac3be811row4_col3\" class=\"data row4 col3\" >46.3789</td>\n",
       "                        <td id=\"T_c421a8c8_dcdf_11ea_a600_3213ac3be811row4_col4\" class=\"data row4 col4\" >Consumer Cyclicals</td>\n",
       "            </tr>\n",
       "    </tbody></table>"
      ]
     },
     "metadata": {},
     "output_type": "display_data"
    }
   ],
   "source": [
    "display_html(df_top._repr_html_()+ ' ' + df_bottom._repr_html_(), raw=True)"
   ]
  },
  {
   "cell_type": "markdown",
   "metadata": {},
   "source": [
    "# Top 5 holdings by ESG Score"
   ]
  },
  {
   "cell_type": "code",
   "execution_count": 124,
   "metadata": {},
   "outputs": [
    {
     "data": {
      "text/html": [
       "<style  type=\"text/css\" >\n",
       "</style><table id=\"T_1ce91854_dce2_11ea_a600_3213ac3be811\" style='display:inline'><caption>Top 5 holdings by ESG Score</caption><thead>    <tr>        <th class=\"col_heading level0 col0\" >Instrument</th>        <th class=\"col_heading level0 col1\" >Issuer Name</th>        <th class=\"col_heading level0 col2\" >ESG Score</th>        <th class=\"col_heading level0 col3\" >Portfolio Weight</th>        <th class=\"col_heading level0 col4\" >TRBC Economic Sector</th>    </tr></thead><tbody>\n",
       "                <tr>\n",
       "                                <td id=\"T_1ce91854_dce2_11ea_a600_3213ac3be811row0_col0\" class=\"data row0 col0\" >6502.T</td>\n",
       "                        <td id=\"T_1ce91854_dce2_11ea_a600_3213ac3be811row0_col1\" class=\"data row0 col1\" >Toshiba Corp</td>\n",
       "                        <td id=\"T_1ce91854_dce2_11ea_a600_3213ac3be811row0_col2\" class=\"data row0 col2\" >86.4178</td>\n",
       "                        <td id=\"T_1ce91854_dce2_11ea_a600_3213ac3be811row0_col3\" class=\"data row0 col3\" >0.0336054</td>\n",
       "                        <td id=\"T_1ce91854_dce2_11ea_a600_3213ac3be811row0_col4\" class=\"data row0 col4\" >Industrials</td>\n",
       "            </tr>\n",
       "            <tr>\n",
       "                                <td id=\"T_1ce91854_dce2_11ea_a600_3213ac3be811row1_col0\" class=\"data row1 col0\" >HUM.N</td>\n",
       "                        <td id=\"T_1ce91854_dce2_11ea_a600_3213ac3be811row1_col1\" class=\"data row1 col1\" >Humana Inc</td>\n",
       "                        <td id=\"T_1ce91854_dce2_11ea_a600_3213ac3be811row1_col2\" class=\"data row1 col2\" >85.9176</td>\n",
       "                        <td id=\"T_1ce91854_dce2_11ea_a600_3213ac3be811row1_col3\" class=\"data row1 col3\" >0.0133707</td>\n",
       "                        <td id=\"T_1ce91854_dce2_11ea_a600_3213ac3be811row1_col4\" class=\"data row1 col4\" >Healthcare</td>\n",
       "            </tr>\n",
       "            <tr>\n",
       "                                <td id=\"T_1ce91854_dce2_11ea_a600_3213ac3be811row2_col0\" class=\"data row2 col0\" >SPGI.N</td>\n",
       "                        <td id=\"T_1ce91854_dce2_11ea_a600_3213ac3be811row2_col1\" class=\"data row2 col1\" >S&P Global Inc</td>\n",
       "                        <td id=\"T_1ce91854_dce2_11ea_a600_3213ac3be811row2_col2\" class=\"data row2 col2\" >84.2486</td>\n",
       "                        <td id=\"T_1ce91854_dce2_11ea_a600_3213ac3be811row2_col3\" class=\"data row2 col3\" >0.0201681</td>\n",
       "                        <td id=\"T_1ce91854_dce2_11ea_a600_3213ac3be811row2_col4\" class=\"data row2 col4\" >Industrials</td>\n",
       "            </tr>\n",
       "            <tr>\n",
       "                                <td id=\"T_1ce91854_dce2_11ea_a600_3213ac3be811row3_col0\" class=\"data row3 col0\" >NEM.N</td>\n",
       "                        <td id=\"T_1ce91854_dce2_11ea_a600_3213ac3be811row3_col1\" class=\"data row3 col1\" >Newmont Corporation</td>\n",
       "                        <td id=\"T_1ce91854_dce2_11ea_a600_3213ac3be811row3_col2\" class=\"data row3 col2\" >83.9279</td>\n",
       "                        <td id=\"T_1ce91854_dce2_11ea_a600_3213ac3be811row3_col3\" class=\"data row3 col3\" >0.0122865</td>\n",
       "                        <td id=\"T_1ce91854_dce2_11ea_a600_3213ac3be811row3_col4\" class=\"data row3 col4\" >Basic Materials</td>\n",
       "            </tr>\n",
       "            <tr>\n",
       "                                <td id=\"T_1ce91854_dce2_11ea_a600_3213ac3be811row4_col0\" class=\"data row4 col0\" >BSX.N</td>\n",
       "                        <td id=\"T_1ce91854_dce2_11ea_a600_3213ac3be811row4_col1\" class=\"data row4 col1\" >Boston Scientific Corp</td>\n",
       "                        <td id=\"T_1ce91854_dce2_11ea_a600_3213ac3be811row4_col2\" class=\"data row4 col2\" >83.551</td>\n",
       "                        <td id=\"T_1ce91854_dce2_11ea_a600_3213ac3be811row4_col3\" class=\"data row4 col3\" >0.0136647</td>\n",
       "                        <td id=\"T_1ce91854_dce2_11ea_a600_3213ac3be811row4_col4\" class=\"data row4 col4\" >Healthcare</td>\n",
       "            </tr>\n",
       "    </tbody></table>"
      ],
      "text/plain": [
       "<pandas.io.formats.style.Styler at 0x7f8cbd6b09d0>"
      ]
     },
     "execution_count": 124,
     "metadata": {},
     "output_type": "execute_result"
    }
   ],
   "source": [
    "df_esg_top = df_esg_port.nlargest(5,'ESG Score')\n",
    "df_esg_top = df_esg_top[['Instrument','Issuer Name','ESG Score','Portfolio Weight','TRBC Economic Sector']]\n",
    "df_esg_top = df_esg_top.style.set_table_attributes(\"style='display:inline'\").set_caption('Top 5 holdings by ESG Score')\n",
    "df_esg_top.hide_index()"
   ]
  },
  {
   "cell_type": "markdown",
   "metadata": {},
   "source": [
    "# Bottom 5 holdings by ESG Score"
   ]
  },
  {
   "cell_type": "code",
   "execution_count": 123,
   "metadata": {},
   "outputs": [
    {
     "data": {
      "text/html": [
       "<style  type=\"text/css\" >\n",
       "</style><table id=\"T_1b949c8a_dce2_11ea_a600_3213ac3be811\" style='display:inline'><caption>Bottom 5 holdings by Combined ESG Score</caption><thead>    <tr>        <th class=\"col_heading level0 col0\" >Instrument</th>        <th class=\"col_heading level0 col1\" >Issuer Name</th>        <th class=\"col_heading level0 col2\" >ESG Score</th>        <th class=\"col_heading level0 col3\" >Portfolio Weight</th>        <th class=\"col_heading level0 col4\" >TRBC Economic Sector</th>    </tr></thead><tbody>\n",
       "                <tr>\n",
       "                                <td id=\"T_1b949c8a_dce2_11ea_a600_3213ac3be811row0_col0\" class=\"data row0 col0\" >9042.T</td>\n",
       "                        <td id=\"T_1b949c8a_dce2_11ea_a600_3213ac3be811row0_col1\" class=\"data row0 col1\" >Hankyu Hanshin Holdings Inc</td>\n",
       "                        <td id=\"T_1b949c8a_dce2_11ea_a600_3213ac3be811row0_col2\" class=\"data row0 col2\" >27.7633</td>\n",
       "                        <td id=\"T_1b949c8a_dce2_11ea_a600_3213ac3be811row0_col3\" class=\"data row0 col3\" >0.00967487</td>\n",
       "                        <td id=\"T_1b949c8a_dce2_11ea_a600_3213ac3be811row0_col4\" class=\"data row0 col4\" >Industrials</td>\n",
       "            </tr>\n",
       "            <tr>\n",
       "                                <td id=\"T_1b949c8a_dce2_11ea_a600_3213ac3be811row1_col0\" class=\"data row1 col0\" >TMUS.OQ</td>\n",
       "                        <td id=\"T_1b949c8a_dce2_11ea_a600_3213ac3be811row1_col1\" class=\"data row1 col1\" >T-Mobile Us Inc</td>\n",
       "                        <td id=\"T_1b949c8a_dce2_11ea_a600_3213ac3be811row1_col2\" class=\"data row1 col2\" >31.5915</td>\n",
       "                        <td id=\"T_1b949c8a_dce2_11ea_a600_3213ac3be811row1_col3\" class=\"data row1 col3\" >0.0342365</td>\n",
       "                        <td id=\"T_1b949c8a_dce2_11ea_a600_3213ac3be811row1_col4\" class=\"data row1 col4\" >Telecommunications Services</td>\n",
       "            </tr>\n",
       "            <tr>\n",
       "                                <td id=\"T_1b949c8a_dce2_11ea_a600_3213ac3be811row2_col0\" class=\"data row2 col0\" >CNC.N</td>\n",
       "                        <td id=\"T_1b949c8a_dce2_11ea_a600_3213ac3be811row2_col1\" class=\"data row2 col1\" >Centene Corp</td>\n",
       "                        <td id=\"T_1b949c8a_dce2_11ea_a600_3213ac3be811row2_col2\" class=\"data row2 col2\" >34.1856</td>\n",
       "                        <td id=\"T_1b949c8a_dce2_11ea_a600_3213ac3be811row2_col3\" class=\"data row2 col3\" >0.00886638</td>\n",
       "                        <td id=\"T_1b949c8a_dce2_11ea_a600_3213ac3be811row2_col4\" class=\"data row2 col4\" >Healthcare</td>\n",
       "            </tr>\n",
       "            <tr>\n",
       "                                <td id=\"T_1b949c8a_dce2_11ea_a600_3213ac3be811row3_col0\" class=\"data row3 col0\" >TWLO.N</td>\n",
       "                        <td id=\"T_1b949c8a_dce2_11ea_a600_3213ac3be811row3_col1\" class=\"data row3 col1\" >Twilio Inc</td>\n",
       "                        <td id=\"T_1b949c8a_dce2_11ea_a600_3213ac3be811row3_col2\" class=\"data row3 col2\" >34.9985</td>\n",
       "                        <td id=\"T_1b949c8a_dce2_11ea_a600_3213ac3be811row3_col3\" class=\"data row3 col3\" >0.0083222</td>\n",
       "                        <td id=\"T_1b949c8a_dce2_11ea_a600_3213ac3be811row3_col4\" class=\"data row3 col4\" >Technology</td>\n",
       "            </tr>\n",
       "            <tr>\n",
       "                                <td id=\"T_1b949c8a_dce2_11ea_a600_3213ac3be811row4_col0\" class=\"data row4 col0\" >UBER.N</td>\n",
       "                        <td id=\"T_1b949c8a_dce2_11ea_a600_3213ac3be811row4_col1\" class=\"data row4 col1\" >Uber Technologies Inc</td>\n",
       "                        <td id=\"T_1b949c8a_dce2_11ea_a600_3213ac3be811row4_col2\" class=\"data row4 col2\" >36.7778</td>\n",
       "                        <td id=\"T_1b949c8a_dce2_11ea_a600_3213ac3be811row4_col3\" class=\"data row4 col3\" >0.0132579</td>\n",
       "                        <td id=\"T_1b949c8a_dce2_11ea_a600_3213ac3be811row4_col4\" class=\"data row4 col4\" >Technology</td>\n",
       "            </tr>\n",
       "    </tbody></table>"
      ],
      "text/plain": [
       "<pandas.io.formats.style.Styler at 0x7f8cbd64fed0>"
      ]
     },
     "execution_count": 123,
     "metadata": {},
     "output_type": "execute_result"
    }
   ],
   "source": [
    "df_esg_bottom = df_esg_port.nsmallest(5,'ESG Score')\n",
    "df_esg_bottom = df_esg_bottom[['Instrument','Issuer Name','ESG Score','Portfolio Weight','TRBC Economic Sector']]\n",
    "df_esg_bottom = df_esg_bottom.style.set_table_attributes(\"style='display:inline'\").set_caption('Bottom 5 holdings by Combined ESG Score')\n",
    "df_esg_bottom.hide_index()"
   ]
  },
  {
   "cell_type": "markdown",
   "metadata": {},
   "source": [
    "# Top & bottom 5 holdings by ESG"
   ]
  },
  {
   "cell_type": "code",
   "execution_count": 125,
   "metadata": {},
   "outputs": [
    {
     "data": {
      "text/html": [
       "<style  type=\"text/css\" >\n",
       "</style><table id=\"T_1e783e98_dce2_11ea_a600_3213ac3be811\" style='display:inline'><caption>Top 5 holdings by ESG Score</caption><thead>    <tr>        <th class=\"col_heading level0 col0\" >Instrument</th>        <th class=\"col_heading level0 col1\" >Issuer Name</th>        <th class=\"col_heading level0 col2\" >ESG Score</th>        <th class=\"col_heading level0 col3\" >Portfolio Weight</th>        <th class=\"col_heading level0 col4\" >TRBC Economic Sector</th>    </tr></thead><tbody>\n",
       "                <tr>\n",
       "                                <td id=\"T_1e783e98_dce2_11ea_a600_3213ac3be811row0_col0\" class=\"data row0 col0\" >6502.T</td>\n",
       "                        <td id=\"T_1e783e98_dce2_11ea_a600_3213ac3be811row0_col1\" class=\"data row0 col1\" >Toshiba Corp</td>\n",
       "                        <td id=\"T_1e783e98_dce2_11ea_a600_3213ac3be811row0_col2\" class=\"data row0 col2\" >86.4178</td>\n",
       "                        <td id=\"T_1e783e98_dce2_11ea_a600_3213ac3be811row0_col3\" class=\"data row0 col3\" >0.0336054</td>\n",
       "                        <td id=\"T_1e783e98_dce2_11ea_a600_3213ac3be811row0_col4\" class=\"data row0 col4\" >Industrials</td>\n",
       "            </tr>\n",
       "            <tr>\n",
       "                                <td id=\"T_1e783e98_dce2_11ea_a600_3213ac3be811row1_col0\" class=\"data row1 col0\" >HUM.N</td>\n",
       "                        <td id=\"T_1e783e98_dce2_11ea_a600_3213ac3be811row1_col1\" class=\"data row1 col1\" >Humana Inc</td>\n",
       "                        <td id=\"T_1e783e98_dce2_11ea_a600_3213ac3be811row1_col2\" class=\"data row1 col2\" >85.9176</td>\n",
       "                        <td id=\"T_1e783e98_dce2_11ea_a600_3213ac3be811row1_col3\" class=\"data row1 col3\" >0.0133707</td>\n",
       "                        <td id=\"T_1e783e98_dce2_11ea_a600_3213ac3be811row1_col4\" class=\"data row1 col4\" >Healthcare</td>\n",
       "            </tr>\n",
       "            <tr>\n",
       "                                <td id=\"T_1e783e98_dce2_11ea_a600_3213ac3be811row2_col0\" class=\"data row2 col0\" >SPGI.N</td>\n",
       "                        <td id=\"T_1e783e98_dce2_11ea_a600_3213ac3be811row2_col1\" class=\"data row2 col1\" >S&P Global Inc</td>\n",
       "                        <td id=\"T_1e783e98_dce2_11ea_a600_3213ac3be811row2_col2\" class=\"data row2 col2\" >84.2486</td>\n",
       "                        <td id=\"T_1e783e98_dce2_11ea_a600_3213ac3be811row2_col3\" class=\"data row2 col3\" >0.0201681</td>\n",
       "                        <td id=\"T_1e783e98_dce2_11ea_a600_3213ac3be811row2_col4\" class=\"data row2 col4\" >Industrials</td>\n",
       "            </tr>\n",
       "            <tr>\n",
       "                                <td id=\"T_1e783e98_dce2_11ea_a600_3213ac3be811row3_col0\" class=\"data row3 col0\" >NEM.N</td>\n",
       "                        <td id=\"T_1e783e98_dce2_11ea_a600_3213ac3be811row3_col1\" class=\"data row3 col1\" >Newmont Corporation</td>\n",
       "                        <td id=\"T_1e783e98_dce2_11ea_a600_3213ac3be811row3_col2\" class=\"data row3 col2\" >83.9279</td>\n",
       "                        <td id=\"T_1e783e98_dce2_11ea_a600_3213ac3be811row3_col3\" class=\"data row3 col3\" >0.0122865</td>\n",
       "                        <td id=\"T_1e783e98_dce2_11ea_a600_3213ac3be811row3_col4\" class=\"data row3 col4\" >Basic Materials</td>\n",
       "            </tr>\n",
       "            <tr>\n",
       "                                <td id=\"T_1e783e98_dce2_11ea_a600_3213ac3be811row4_col0\" class=\"data row4 col0\" >BSX.N</td>\n",
       "                        <td id=\"T_1e783e98_dce2_11ea_a600_3213ac3be811row4_col1\" class=\"data row4 col1\" >Boston Scientific Corp</td>\n",
       "                        <td id=\"T_1e783e98_dce2_11ea_a600_3213ac3be811row4_col2\" class=\"data row4 col2\" >83.551</td>\n",
       "                        <td id=\"T_1e783e98_dce2_11ea_a600_3213ac3be811row4_col3\" class=\"data row4 col3\" >0.0136647</td>\n",
       "                        <td id=\"T_1e783e98_dce2_11ea_a600_3213ac3be811row4_col4\" class=\"data row4 col4\" >Healthcare</td>\n",
       "            </tr>\n",
       "    </tbody></table> <style  type=\"text/css\" >\n",
       "</style><table id=\"T_1e7879b2_dce2_11ea_a600_3213ac3be811\" style='display:inline'><caption>Bottom 5 holdings by Combined ESG Score</caption><thead>    <tr>        <th class=\"col_heading level0 col0\" >Instrument</th>        <th class=\"col_heading level0 col1\" >Issuer Name</th>        <th class=\"col_heading level0 col2\" >ESG Score</th>        <th class=\"col_heading level0 col3\" >Portfolio Weight</th>        <th class=\"col_heading level0 col4\" >TRBC Economic Sector</th>    </tr></thead><tbody>\n",
       "                <tr>\n",
       "                                <td id=\"T_1e7879b2_dce2_11ea_a600_3213ac3be811row0_col0\" class=\"data row0 col0\" >9042.T</td>\n",
       "                        <td id=\"T_1e7879b2_dce2_11ea_a600_3213ac3be811row0_col1\" class=\"data row0 col1\" >Hankyu Hanshin Holdings Inc</td>\n",
       "                        <td id=\"T_1e7879b2_dce2_11ea_a600_3213ac3be811row0_col2\" class=\"data row0 col2\" >27.7633</td>\n",
       "                        <td id=\"T_1e7879b2_dce2_11ea_a600_3213ac3be811row0_col3\" class=\"data row0 col3\" >0.00967487</td>\n",
       "                        <td id=\"T_1e7879b2_dce2_11ea_a600_3213ac3be811row0_col4\" class=\"data row0 col4\" >Industrials</td>\n",
       "            </tr>\n",
       "            <tr>\n",
       "                                <td id=\"T_1e7879b2_dce2_11ea_a600_3213ac3be811row1_col0\" class=\"data row1 col0\" >TMUS.OQ</td>\n",
       "                        <td id=\"T_1e7879b2_dce2_11ea_a600_3213ac3be811row1_col1\" class=\"data row1 col1\" >T-Mobile Us Inc</td>\n",
       "                        <td id=\"T_1e7879b2_dce2_11ea_a600_3213ac3be811row1_col2\" class=\"data row1 col2\" >31.5915</td>\n",
       "                        <td id=\"T_1e7879b2_dce2_11ea_a600_3213ac3be811row1_col3\" class=\"data row1 col3\" >0.0342365</td>\n",
       "                        <td id=\"T_1e7879b2_dce2_11ea_a600_3213ac3be811row1_col4\" class=\"data row1 col4\" >Telecommunications Services</td>\n",
       "            </tr>\n",
       "            <tr>\n",
       "                                <td id=\"T_1e7879b2_dce2_11ea_a600_3213ac3be811row2_col0\" class=\"data row2 col0\" >CNC.N</td>\n",
       "                        <td id=\"T_1e7879b2_dce2_11ea_a600_3213ac3be811row2_col1\" class=\"data row2 col1\" >Centene Corp</td>\n",
       "                        <td id=\"T_1e7879b2_dce2_11ea_a600_3213ac3be811row2_col2\" class=\"data row2 col2\" >34.1856</td>\n",
       "                        <td id=\"T_1e7879b2_dce2_11ea_a600_3213ac3be811row2_col3\" class=\"data row2 col3\" >0.00886638</td>\n",
       "                        <td id=\"T_1e7879b2_dce2_11ea_a600_3213ac3be811row2_col4\" class=\"data row2 col4\" >Healthcare</td>\n",
       "            </tr>\n",
       "            <tr>\n",
       "                                <td id=\"T_1e7879b2_dce2_11ea_a600_3213ac3be811row3_col0\" class=\"data row3 col0\" >TWLO.N</td>\n",
       "                        <td id=\"T_1e7879b2_dce2_11ea_a600_3213ac3be811row3_col1\" class=\"data row3 col1\" >Twilio Inc</td>\n",
       "                        <td id=\"T_1e7879b2_dce2_11ea_a600_3213ac3be811row3_col2\" class=\"data row3 col2\" >34.9985</td>\n",
       "                        <td id=\"T_1e7879b2_dce2_11ea_a600_3213ac3be811row3_col3\" class=\"data row3 col3\" >0.0083222</td>\n",
       "                        <td id=\"T_1e7879b2_dce2_11ea_a600_3213ac3be811row3_col4\" class=\"data row3 col4\" >Technology</td>\n",
       "            </tr>\n",
       "            <tr>\n",
       "                                <td id=\"T_1e7879b2_dce2_11ea_a600_3213ac3be811row4_col0\" class=\"data row4 col0\" >UBER.N</td>\n",
       "                        <td id=\"T_1e7879b2_dce2_11ea_a600_3213ac3be811row4_col1\" class=\"data row4 col1\" >Uber Technologies Inc</td>\n",
       "                        <td id=\"T_1e7879b2_dce2_11ea_a600_3213ac3be811row4_col2\" class=\"data row4 col2\" >36.7778</td>\n",
       "                        <td id=\"T_1e7879b2_dce2_11ea_a600_3213ac3be811row4_col3\" class=\"data row4 col3\" >0.0132579</td>\n",
       "                        <td id=\"T_1e7879b2_dce2_11ea_a600_3213ac3be811row4_col4\" class=\"data row4 col4\" >Technology</td>\n",
       "            </tr>\n",
       "    </tbody></table>"
      ]
     },
     "metadata": {},
     "output_type": "display_data"
    }
   ],
   "source": [
    "display_html(df_esg_top._repr_html_()+ ' ' + df_esg_bottom._repr_html_(), raw=True)"
   ]
  },
  {
   "cell_type": "markdown",
   "metadata": {},
   "source": [
    "# Define weighted average"
   ]
  },
  {
   "cell_type": "code",
   "execution_count": 101,
   "metadata": {},
   "outputs": [],
   "source": [
    "def wavg(group, avg_name, weight_name):\n",
    "    d = group[avg_name]\n",
    "    w = group[weight_name]\n",
    "    try:\n",
    "        return (d * w).sum() / w.sum()\n",
    "    except ZeroDivisionError:\n",
    "        return d.mean()"
   ]
  },
  {
   "cell_type": "markdown",
   "metadata": {},
   "source": [
    "# Portfolio ESG Score by Region"
   ]
  },
  {
   "cell_type": "code",
   "execution_count": 118,
   "metadata": {},
   "outputs": [
    {
     "data": {
      "text/html": [
       "<style  type=\"text/css\" >\n",
       "</style><table id=\"T_0cf0762c_dce2_11ea_a600_3213ac3be811\" style='display:inline'><caption>Portfolio ESG Score by Region</caption><thead>    <tr>        <th class=\"col_heading level0 col0\" >Exchange Region</th>        <th class=\"col_heading level0 col1\" >ESG Score</th>    </tr></thead><tbody>\n",
       "                <tr>\n",
       "                                <td id=\"T_0cf0762c_dce2_11ea_a600_3213ac3be811row0_col0\" class=\"data row0 col0\" >America</td>\n",
       "                        <td id=\"T_0cf0762c_dce2_11ea_a600_3213ac3be811row0_col1\" class=\"data row0 col1\" >61.092</td>\n",
       "            </tr>\n",
       "            <tr>\n",
       "                                <td id=\"T_0cf0762c_dce2_11ea_a600_3213ac3be811row1_col0\" class=\"data row1 col0\" >Asia</td>\n",
       "                        <td id=\"T_0cf0762c_dce2_11ea_a600_3213ac3be811row1_col1\" class=\"data row1 col1\" >71.279</td>\n",
       "            </tr>\n",
       "            <tr>\n",
       "                                <td id=\"T_0cf0762c_dce2_11ea_a600_3213ac3be811row2_col0\" class=\"data row2 col0\" >Europe</td>\n",
       "                        <td id=\"T_0cf0762c_dce2_11ea_a600_3213ac3be811row2_col1\" class=\"data row2 col1\" >75.552</td>\n",
       "            </tr>\n",
       "            <tr>\n",
       "                                <td id=\"T_0cf0762c_dce2_11ea_a600_3213ac3be811row3_col0\" class=\"data row3 col0\" >Oceania</td>\n",
       "                        <td id=\"T_0cf0762c_dce2_11ea_a600_3213ac3be811row3_col1\" class=\"data row3 col1\" >78.622</td>\n",
       "            </tr>\n",
       "    </tbody></table>"
      ],
      "text/plain": [
       "<pandas.io.formats.style.Styler at 0x7f8cbd654cd0>"
      ]
     },
     "execution_count": 118,
     "metadata": {},
     "output_type": "execute_result"
    }
   ],
   "source": [
    "df_esg_region = df_esg_port.groupby(['Exchange Region']).apply(wavg, 'ESG Score','ESG Portfolio Weight')\n",
    "df_esg_region = df_esg_region.to_frame('ESG Score').reset_index()\n",
    "df_esg_region['ESG Score'] = df_esg_region['ESG Score'].apply(lambda x: round(x, 3))\n",
    "df_esg_region = df_esg_region.style.set_table_attributes(\"style='display:inline'\").set_caption('Portfolio ESG Score by Region')\n",
    "df_esg_region.hide_index()"
   ]
  },
  {
   "cell_type": "markdown",
   "metadata": {},
   "source": [
    "# Portfolio Allocation by Region"
   ]
  },
  {
   "cell_type": "code",
   "execution_count": 104,
   "metadata": {},
   "outputs": [
    {
     "data": {
      "text/html": [
       "<style  type=\"text/css\" >\n",
       "</style><table id=\"T_5ca43a9c_dce1_11ea_a600_3213ac3be811\" style='display:inline'><caption>Portfolio Allocation by Region</caption><thead>    <tr>        <th class=\"col_heading level0 col0\" >Exchange Region</th>        <th class=\"col_heading level0 col1\" >Portfolio Weight</th>    </tr></thead><tbody>\n",
       "                <tr>\n",
       "                                <td id=\"T_5ca43a9c_dce1_11ea_a600_3213ac3be811row0_col0\" class=\"data row0 col0\" >America</td>\n",
       "                        <td id=\"T_5ca43a9c_dce1_11ea_a600_3213ac3be811row0_col1\" class=\"data row0 col1\" >72.228%</td>\n",
       "            </tr>\n",
       "            <tr>\n",
       "                                <td id=\"T_5ca43a9c_dce1_11ea_a600_3213ac3be811row1_col0\" class=\"data row1 col0\" >Asia</td>\n",
       "                        <td id=\"T_5ca43a9c_dce1_11ea_a600_3213ac3be811row1_col1\" class=\"data row1 col1\" >20.584%</td>\n",
       "            </tr>\n",
       "            <tr>\n",
       "                                <td id=\"T_5ca43a9c_dce1_11ea_a600_3213ac3be811row2_col0\" class=\"data row2 col0\" >Europe</td>\n",
       "                        <td id=\"T_5ca43a9c_dce1_11ea_a600_3213ac3be811row2_col1\" class=\"data row2 col1\" >4.770%</td>\n",
       "            </tr>\n",
       "            <tr>\n",
       "                                <td id=\"T_5ca43a9c_dce1_11ea_a600_3213ac3be811row3_col0\" class=\"data row3 col0\" >Oceania</td>\n",
       "                        <td id=\"T_5ca43a9c_dce1_11ea_a600_3213ac3be811row3_col1\" class=\"data row3 col1\" >2.418%</td>\n",
       "            </tr>\n",
       "    </tbody></table>"
      ],
      "text/plain": [
       "<pandas.io.formats.style.Styler at 0x7f8cd08766d0>"
      ]
     },
     "execution_count": 104,
     "metadata": {},
     "output_type": "execute_result"
    }
   ],
   "source": [
    "df_region_allo = df_esg_port.groupby(['Exchange Region'])['ESG Portfolio Weight'].sum()\n",
    "df_region_allo = df_region_allo.to_frame('Portfolio Weight').reset_index()\n",
    "df_region_allo['Portfolio Weight'] = pd.Series([\"{0:.3f}%\".format(val * 100) for val in df_region_allo['Portfolio Weight']], index = df_region_allo.index)\n",
    "df_region_allo = df_region_allo.style.set_table_attributes(\"style='display:inline'\").set_caption('Portfolio Allocation by Region')\n",
    "df_region_allo.hide_index()"
   ]
  },
  {
   "cell_type": "markdown",
   "metadata": {},
   "source": [
    "# Portfolio ESG Score by Country"
   ]
  },
  {
   "cell_type": "code",
   "execution_count": 126,
   "metadata": {},
   "outputs": [
    {
     "data": {
      "text/html": [
       "<style  type=\"text/css\" >\n",
       "</style><table id=\"T_23612a0a_dce2_11ea_a600_3213ac3be811\" style='display:inline'><caption>Portfolio ESG Score by Country</caption><thead>    <tr>        <th class=\"col_heading level0 col0\" >Exchange Country</th>        <th class=\"col_heading level0 col1\" >ESG Score</th>    </tr></thead><tbody>\n",
       "                <tr>\n",
       "                                <td id=\"T_23612a0a_dce2_11ea_a600_3213ac3be811row0_col0\" class=\"data row0 col0\" >Australia</td>\n",
       "                        <td id=\"T_23612a0a_dce2_11ea_a600_3213ac3be811row0_col1\" class=\"data row0 col1\" >78.622</td>\n",
       "            </tr>\n",
       "            <tr>\n",
       "                                <td id=\"T_23612a0a_dce2_11ea_a600_3213ac3be811row1_col0\" class=\"data row1 col0\" >Canada</td>\n",
       "                        <td id=\"T_23612a0a_dce2_11ea_a600_3213ac3be811row1_col1\" class=\"data row1 col1\" >66.022</td>\n",
       "            </tr>\n",
       "            <tr>\n",
       "                                <td id=\"T_23612a0a_dce2_11ea_a600_3213ac3be811row2_col0\" class=\"data row2 col0\" >Denmark</td>\n",
       "                        <td id=\"T_23612a0a_dce2_11ea_a600_3213ac3be811row2_col1\" class=\"data row2 col1\" >69.895</td>\n",
       "            </tr>\n",
       "            <tr>\n",
       "                                <td id=\"T_23612a0a_dce2_11ea_a600_3213ac3be811row3_col0\" class=\"data row3 col0\" >Germany</td>\n",
       "                        <td id=\"T_23612a0a_dce2_11ea_a600_3213ac3be811row3_col1\" class=\"data row3 col1\" >73.885</td>\n",
       "            </tr>\n",
       "            <tr>\n",
       "                                <td id=\"T_23612a0a_dce2_11ea_a600_3213ac3be811row4_col0\" class=\"data row4 col0\" >Hong Kong</td>\n",
       "                        <td id=\"T_23612a0a_dce2_11ea_a600_3213ac3be811row4_col1\" class=\"data row4 col1\" >75.101</td>\n",
       "            </tr>\n",
       "            <tr>\n",
       "                                <td id=\"T_23612a0a_dce2_11ea_a600_3213ac3be811row5_col0\" class=\"data row5 col0\" >Japan</td>\n",
       "                        <td id=\"T_23612a0a_dce2_11ea_a600_3213ac3be811row5_col1\" class=\"data row5 col1\" >70.142</td>\n",
       "            </tr>\n",
       "            <tr>\n",
       "                                <td id=\"T_23612a0a_dce2_11ea_a600_3213ac3be811row6_col0\" class=\"data row6 col0\" >Korea; Republic (S. Korea)</td>\n",
       "                        <td id=\"T_23612a0a_dce2_11ea_a600_3213ac3be811row6_col1\" class=\"data row6 col1\" >78.531</td>\n",
       "            </tr>\n",
       "            <tr>\n",
       "                                <td id=\"T_23612a0a_dce2_11ea_a600_3213ac3be811row7_col0\" class=\"data row7 col0\" >Norway</td>\n",
       "                        <td id=\"T_23612a0a_dce2_11ea_a600_3213ac3be811row7_col1\" class=\"data row7 col1\" >81.766</td>\n",
       "            </tr>\n",
       "            <tr>\n",
       "                                <td id=\"T_23612a0a_dce2_11ea_a600_3213ac3be811row8_col0\" class=\"data row8 col0\" >Sweden</td>\n",
       "                        <td id=\"T_23612a0a_dce2_11ea_a600_3213ac3be811row8_col1\" class=\"data row8 col1\" >78.031</td>\n",
       "            </tr>\n",
       "            <tr>\n",
       "                                <td id=\"T_23612a0a_dce2_11ea_a600_3213ac3be811row9_col0\" class=\"data row9 col0\" >United States of America</td>\n",
       "                        <td id=\"T_23612a0a_dce2_11ea_a600_3213ac3be811row9_col1\" class=\"data row9 col1\" >60.85</td>\n",
       "            </tr>\n",
       "    </tbody></table>"
      ],
      "text/plain": [
       "<pandas.io.formats.style.Styler at 0x7f8cbd64f610>"
      ]
     },
     "execution_count": 126,
     "metadata": {},
     "output_type": "execute_result"
    }
   ],
   "source": [
    "df_esg_country = df_esg_port.groupby(['Exchange Country']).apply(wavg, 'ESG Score','ESG Portfolio Weight')\n",
    "df_esg_country = df_esg_country.to_frame('ESG Score').reset_index()\n",
    "df_esg_country['ESG Score'] = df_esg_country['ESG Score'].apply(lambda x: round(x, 3))\n",
    "df_esg_country = df_esg_country.style.set_table_attributes(\"style='display:inline'\").set_caption('Portfolio ESG Score by Country')\n",
    "df_esg_country.hide_index()"
   ]
  },
  {
   "cell_type": "markdown",
   "metadata": {},
   "source": [
    "# Portfolio Allocation by Country"
   ]
  },
  {
   "cell_type": "code",
   "execution_count": 111,
   "metadata": {},
   "outputs": [
    {
     "data": {
      "text/html": [
       "<style  type=\"text/css\" >\n",
       "</style><table id=\"T_e63cb69e_dce1_11ea_a600_3213ac3be811\" style='display:inline'><caption>Portfolio Allocation by Country</caption><thead>    <tr>        <th class=\"col_heading level0 col0\" >Exchange Country</th>        <th class=\"col_heading level0 col1\" >Portfolio Weight</th>    </tr></thead><tbody>\n",
       "                <tr>\n",
       "                                <td id=\"T_e63cb69e_dce1_11ea_a600_3213ac3be811row0_col0\" class=\"data row0 col0\" >Australia</td>\n",
       "                        <td id=\"T_e63cb69e_dce1_11ea_a600_3213ac3be811row0_col1\" class=\"data row0 col1\" >2.418%</td>\n",
       "            </tr>\n",
       "            <tr>\n",
       "                                <td id=\"T_e63cb69e_dce1_11ea_a600_3213ac3be811row1_col0\" class=\"data row1 col0\" >Canada</td>\n",
       "                        <td id=\"T_e63cb69e_dce1_11ea_a600_3213ac3be811row1_col1\" class=\"data row1 col1\" >3.391%</td>\n",
       "            </tr>\n",
       "            <tr>\n",
       "                                <td id=\"T_e63cb69e_dce1_11ea_a600_3213ac3be811row2_col0\" class=\"data row2 col0\" >Denmark</td>\n",
       "                        <td id=\"T_e63cb69e_dce1_11ea_a600_3213ac3be811row2_col1\" class=\"data row2 col1\" >1.438%</td>\n",
       "            </tr>\n",
       "            <tr>\n",
       "                                <td id=\"T_e63cb69e_dce1_11ea_a600_3213ac3be811row3_col0\" class=\"data row3 col0\" >Germany</td>\n",
       "                        <td id=\"T_e63cb69e_dce1_11ea_a600_3213ac3be811row3_col1\" class=\"data row3 col1\" >1.185%</td>\n",
       "            </tr>\n",
       "            <tr>\n",
       "                                <td id=\"T_e63cb69e_dce1_11ea_a600_3213ac3be811row4_col0\" class=\"data row4 col0\" >Hong Kong</td>\n",
       "                        <td id=\"T_e63cb69e_dce1_11ea_a600_3213ac3be811row4_col1\" class=\"data row4 col1\" >2.758%</td>\n",
       "            </tr>\n",
       "            <tr>\n",
       "                                <td id=\"T_e63cb69e_dce1_11ea_a600_3213ac3be811row5_col0\" class=\"data row5 col0\" >Japan</td>\n",
       "                        <td id=\"T_e63cb69e_dce1_11ea_a600_3213ac3be811row5_col1\" class=\"data row5 col1\" >16.667%</td>\n",
       "            </tr>\n",
       "            <tr>\n",
       "                                <td id=\"T_e63cb69e_dce1_11ea_a600_3213ac3be811row6_col0\" class=\"data row6 col0\" >Korea; Republic (S. Korea)</td>\n",
       "                        <td id=\"T_e63cb69e_dce1_11ea_a600_3213ac3be811row6_col1\" class=\"data row6 col1\" >1.158%</td>\n",
       "            </tr>\n",
       "            <tr>\n",
       "                                <td id=\"T_e63cb69e_dce1_11ea_a600_3213ac3be811row7_col0\" class=\"data row7 col0\" >Norway</td>\n",
       "                        <td id=\"T_e63cb69e_dce1_11ea_a600_3213ac3be811row7_col1\" class=\"data row7 col1\" >1.283%</td>\n",
       "            </tr>\n",
       "            <tr>\n",
       "                                <td id=\"T_e63cb69e_dce1_11ea_a600_3213ac3be811row8_col0\" class=\"data row8 col0\" >Sweden</td>\n",
       "                        <td id=\"T_e63cb69e_dce1_11ea_a600_3213ac3be811row8_col1\" class=\"data row8 col1\" >0.864%</td>\n",
       "            </tr>\n",
       "            <tr>\n",
       "                                <td id=\"T_e63cb69e_dce1_11ea_a600_3213ac3be811row9_col0\" class=\"data row9 col0\" >United States of America</td>\n",
       "                        <td id=\"T_e63cb69e_dce1_11ea_a600_3213ac3be811row9_col1\" class=\"data row9 col1\" >68.837%</td>\n",
       "            </tr>\n",
       "    </tbody></table>"
      ],
      "text/plain": [
       "<pandas.io.formats.style.Styler at 0x7f8cbdf39f10>"
      ]
     },
     "execution_count": 111,
     "metadata": {},
     "output_type": "execute_result"
    }
   ],
   "source": [
    "df_country_allo = df_esg_port.groupby(['Exchange Country'])['ESG Portfolio Weight'].sum()\n",
    "df_country_allo = df_country_allo.to_frame('Portfolio Weight').reset_index()\n",
    "df_country_allo['Portfolio Weight'] = pd.Series([\"{0:.3f}%\".format(val * 100) for val in df_country_allo['Portfolio Weight']], index = df_country_allo.index)\n",
    "df_country_allo = df_country_allo.style.set_table_attributes(\"style='display:inline'\").set_caption('Portfolio Allocation by Country')\n",
    "df_country_allo.hide_index()"
   ]
  },
  {
   "cell_type": "markdown",
   "metadata": {},
   "source": [
    "# Portfolio Allocation and ESG Score by Region"
   ]
  },
  {
   "cell_type": "code",
   "execution_count": 131,
   "metadata": {},
   "outputs": [
    {
     "data": {
      "text/html": [
       "<style  type=\"text/css\" >\n",
       "</style><table id=\"T_2c79dca8_dce3_11ea_a600_3213ac3be811\" style='display:inline'><caption>Portfolio Allocation by Region</caption><thead>    <tr>        <th class=\"col_heading level0 col0\" >Exchange Region</th>        <th class=\"col_heading level0 col1\" >Portfolio Weight</th>    </tr></thead><tbody>\n",
       "                <tr>\n",
       "                                <td id=\"T_2c79dca8_dce3_11ea_a600_3213ac3be811row0_col0\" class=\"data row0 col0\" >America</td>\n",
       "                        <td id=\"T_2c79dca8_dce3_11ea_a600_3213ac3be811row0_col1\" class=\"data row0 col1\" >72.228%</td>\n",
       "            </tr>\n",
       "            <tr>\n",
       "                                <td id=\"T_2c79dca8_dce3_11ea_a600_3213ac3be811row1_col0\" class=\"data row1 col0\" >Asia</td>\n",
       "                        <td id=\"T_2c79dca8_dce3_11ea_a600_3213ac3be811row1_col1\" class=\"data row1 col1\" >20.584%</td>\n",
       "            </tr>\n",
       "            <tr>\n",
       "                                <td id=\"T_2c79dca8_dce3_11ea_a600_3213ac3be811row2_col0\" class=\"data row2 col0\" >Europe</td>\n",
       "                        <td id=\"T_2c79dca8_dce3_11ea_a600_3213ac3be811row2_col1\" class=\"data row2 col1\" >4.770%</td>\n",
       "            </tr>\n",
       "            <tr>\n",
       "                                <td id=\"T_2c79dca8_dce3_11ea_a600_3213ac3be811row3_col0\" class=\"data row3 col0\" >Oceania</td>\n",
       "                        <td id=\"T_2c79dca8_dce3_11ea_a600_3213ac3be811row3_col1\" class=\"data row3 col1\" >2.418%</td>\n",
       "            </tr>\n",
       "    </tbody></table> <style  type=\"text/css\" >\n",
       "</style><table id=\"T_2c7a1646_dce3_11ea_a600_3213ac3be811\" style='display:inline'><caption>Portfolio ESG Score by Region</caption><thead>    <tr>        <th class=\"col_heading level0 col0\" >Exchange Region</th>        <th class=\"col_heading level0 col1\" >ESG Score</th>    </tr></thead><tbody>\n",
       "                <tr>\n",
       "                                <td id=\"T_2c7a1646_dce3_11ea_a600_3213ac3be811row0_col0\" class=\"data row0 col0\" >America</td>\n",
       "                        <td id=\"T_2c7a1646_dce3_11ea_a600_3213ac3be811row0_col1\" class=\"data row0 col1\" >61.092</td>\n",
       "            </tr>\n",
       "            <tr>\n",
       "                                <td id=\"T_2c7a1646_dce3_11ea_a600_3213ac3be811row1_col0\" class=\"data row1 col0\" >Asia</td>\n",
       "                        <td id=\"T_2c7a1646_dce3_11ea_a600_3213ac3be811row1_col1\" class=\"data row1 col1\" >71.279</td>\n",
       "            </tr>\n",
       "            <tr>\n",
       "                                <td id=\"T_2c7a1646_dce3_11ea_a600_3213ac3be811row2_col0\" class=\"data row2 col0\" >Europe</td>\n",
       "                        <td id=\"T_2c7a1646_dce3_11ea_a600_3213ac3be811row2_col1\" class=\"data row2 col1\" >75.552</td>\n",
       "            </tr>\n",
       "            <tr>\n",
       "                                <td id=\"T_2c7a1646_dce3_11ea_a600_3213ac3be811row3_col0\" class=\"data row3 col0\" >Oceania</td>\n",
       "                        <td id=\"T_2c7a1646_dce3_11ea_a600_3213ac3be811row3_col1\" class=\"data row3 col1\" >78.622</td>\n",
       "            </tr>\n",
       "    </tbody></table>"
      ]
     },
     "metadata": {},
     "output_type": "display_data"
    }
   ],
   "source": [
    "display_html(df_region_allo._repr_html_()+ ' ' + df_esg_region._repr_html_(), raw=True)"
   ]
  },
  {
   "cell_type": "markdown",
   "metadata": {},
   "source": [
    "# Portfolio Allocation and ESG Score by Country"
   ]
  },
  {
   "cell_type": "code",
   "execution_count": 132,
   "metadata": {},
   "outputs": [
    {
     "data": {
      "text/html": [
       "<style  type=\"text/css\" >\n",
       "</style><table id=\"T_2d905c52_dce3_11ea_a600_3213ac3be811\" style='display:inline'><caption>Portfolio Allocation by Country</caption><thead>    <tr>        <th class=\"col_heading level0 col0\" >Exchange Country</th>        <th class=\"col_heading level0 col1\" >Portfolio Weight</th>    </tr></thead><tbody>\n",
       "                <tr>\n",
       "                                <td id=\"T_2d905c52_dce3_11ea_a600_3213ac3be811row0_col0\" class=\"data row0 col0\" >Australia</td>\n",
       "                        <td id=\"T_2d905c52_dce3_11ea_a600_3213ac3be811row0_col1\" class=\"data row0 col1\" >2.418%</td>\n",
       "            </tr>\n",
       "            <tr>\n",
       "                                <td id=\"T_2d905c52_dce3_11ea_a600_3213ac3be811row1_col0\" class=\"data row1 col0\" >Canada</td>\n",
       "                        <td id=\"T_2d905c52_dce3_11ea_a600_3213ac3be811row1_col1\" class=\"data row1 col1\" >3.391%</td>\n",
       "            </tr>\n",
       "            <tr>\n",
       "                                <td id=\"T_2d905c52_dce3_11ea_a600_3213ac3be811row2_col0\" class=\"data row2 col0\" >Denmark</td>\n",
       "                        <td id=\"T_2d905c52_dce3_11ea_a600_3213ac3be811row2_col1\" class=\"data row2 col1\" >1.438%</td>\n",
       "            </tr>\n",
       "            <tr>\n",
       "                                <td id=\"T_2d905c52_dce3_11ea_a600_3213ac3be811row3_col0\" class=\"data row3 col0\" >Germany</td>\n",
       "                        <td id=\"T_2d905c52_dce3_11ea_a600_3213ac3be811row3_col1\" class=\"data row3 col1\" >1.185%</td>\n",
       "            </tr>\n",
       "            <tr>\n",
       "                                <td id=\"T_2d905c52_dce3_11ea_a600_3213ac3be811row4_col0\" class=\"data row4 col0\" >Hong Kong</td>\n",
       "                        <td id=\"T_2d905c52_dce3_11ea_a600_3213ac3be811row4_col1\" class=\"data row4 col1\" >2.758%</td>\n",
       "            </tr>\n",
       "            <tr>\n",
       "                                <td id=\"T_2d905c52_dce3_11ea_a600_3213ac3be811row5_col0\" class=\"data row5 col0\" >Japan</td>\n",
       "                        <td id=\"T_2d905c52_dce3_11ea_a600_3213ac3be811row5_col1\" class=\"data row5 col1\" >16.667%</td>\n",
       "            </tr>\n",
       "            <tr>\n",
       "                                <td id=\"T_2d905c52_dce3_11ea_a600_3213ac3be811row6_col0\" class=\"data row6 col0\" >Korea; Republic (S. Korea)</td>\n",
       "                        <td id=\"T_2d905c52_dce3_11ea_a600_3213ac3be811row6_col1\" class=\"data row6 col1\" >1.158%</td>\n",
       "            </tr>\n",
       "            <tr>\n",
       "                                <td id=\"T_2d905c52_dce3_11ea_a600_3213ac3be811row7_col0\" class=\"data row7 col0\" >Norway</td>\n",
       "                        <td id=\"T_2d905c52_dce3_11ea_a600_3213ac3be811row7_col1\" class=\"data row7 col1\" >1.283%</td>\n",
       "            </tr>\n",
       "            <tr>\n",
       "                                <td id=\"T_2d905c52_dce3_11ea_a600_3213ac3be811row8_col0\" class=\"data row8 col0\" >Sweden</td>\n",
       "                        <td id=\"T_2d905c52_dce3_11ea_a600_3213ac3be811row8_col1\" class=\"data row8 col1\" >0.864%</td>\n",
       "            </tr>\n",
       "            <tr>\n",
       "                                <td id=\"T_2d905c52_dce3_11ea_a600_3213ac3be811row9_col0\" class=\"data row9 col0\" >United States of America</td>\n",
       "                        <td id=\"T_2d905c52_dce3_11ea_a600_3213ac3be811row9_col1\" class=\"data row9 col1\" >68.837%</td>\n",
       "            </tr>\n",
       "    </tbody></table> <style  type=\"text/css\" >\n",
       "</style><table id=\"T_2d90938e_dce3_11ea_a600_3213ac3be811\" style='display:inline'><caption>Portfolio ESG Score by Country</caption><thead>    <tr>        <th class=\"col_heading level0 col0\" >Exchange Country</th>        <th class=\"col_heading level0 col1\" >ESG Score</th>    </tr></thead><tbody>\n",
       "                <tr>\n",
       "                                <td id=\"T_2d90938e_dce3_11ea_a600_3213ac3be811row0_col0\" class=\"data row0 col0\" >Australia</td>\n",
       "                        <td id=\"T_2d90938e_dce3_11ea_a600_3213ac3be811row0_col1\" class=\"data row0 col1\" >78.622</td>\n",
       "            </tr>\n",
       "            <tr>\n",
       "                                <td id=\"T_2d90938e_dce3_11ea_a600_3213ac3be811row1_col0\" class=\"data row1 col0\" >Canada</td>\n",
       "                        <td id=\"T_2d90938e_dce3_11ea_a600_3213ac3be811row1_col1\" class=\"data row1 col1\" >66.022</td>\n",
       "            </tr>\n",
       "            <tr>\n",
       "                                <td id=\"T_2d90938e_dce3_11ea_a600_3213ac3be811row2_col0\" class=\"data row2 col0\" >Denmark</td>\n",
       "                        <td id=\"T_2d90938e_dce3_11ea_a600_3213ac3be811row2_col1\" class=\"data row2 col1\" >69.895</td>\n",
       "            </tr>\n",
       "            <tr>\n",
       "                                <td id=\"T_2d90938e_dce3_11ea_a600_3213ac3be811row3_col0\" class=\"data row3 col0\" >Germany</td>\n",
       "                        <td id=\"T_2d90938e_dce3_11ea_a600_3213ac3be811row3_col1\" class=\"data row3 col1\" >73.885</td>\n",
       "            </tr>\n",
       "            <tr>\n",
       "                                <td id=\"T_2d90938e_dce3_11ea_a600_3213ac3be811row4_col0\" class=\"data row4 col0\" >Hong Kong</td>\n",
       "                        <td id=\"T_2d90938e_dce3_11ea_a600_3213ac3be811row4_col1\" class=\"data row4 col1\" >75.101</td>\n",
       "            </tr>\n",
       "            <tr>\n",
       "                                <td id=\"T_2d90938e_dce3_11ea_a600_3213ac3be811row5_col0\" class=\"data row5 col0\" >Japan</td>\n",
       "                        <td id=\"T_2d90938e_dce3_11ea_a600_3213ac3be811row5_col1\" class=\"data row5 col1\" >70.142</td>\n",
       "            </tr>\n",
       "            <tr>\n",
       "                                <td id=\"T_2d90938e_dce3_11ea_a600_3213ac3be811row6_col0\" class=\"data row6 col0\" >Korea; Republic (S. Korea)</td>\n",
       "                        <td id=\"T_2d90938e_dce3_11ea_a600_3213ac3be811row6_col1\" class=\"data row6 col1\" >78.531</td>\n",
       "            </tr>\n",
       "            <tr>\n",
       "                                <td id=\"T_2d90938e_dce3_11ea_a600_3213ac3be811row7_col0\" class=\"data row7 col0\" >Norway</td>\n",
       "                        <td id=\"T_2d90938e_dce3_11ea_a600_3213ac3be811row7_col1\" class=\"data row7 col1\" >81.766</td>\n",
       "            </tr>\n",
       "            <tr>\n",
       "                                <td id=\"T_2d90938e_dce3_11ea_a600_3213ac3be811row8_col0\" class=\"data row8 col0\" >Sweden</td>\n",
       "                        <td id=\"T_2d90938e_dce3_11ea_a600_3213ac3be811row8_col1\" class=\"data row8 col1\" >78.031</td>\n",
       "            </tr>\n",
       "            <tr>\n",
       "                                <td id=\"T_2d90938e_dce3_11ea_a600_3213ac3be811row9_col0\" class=\"data row9 col0\" >United States of America</td>\n",
       "                        <td id=\"T_2d90938e_dce3_11ea_a600_3213ac3be811row9_col1\" class=\"data row9 col1\" >60.85</td>\n",
       "            </tr>\n",
       "    </tbody></table>"
      ]
     },
     "metadata": {},
     "output_type": "display_data"
    }
   ],
   "source": [
    "display_html(df_country_allo._repr_html_()+ ' ' + df_esg_country._repr_html_(), raw=True)"
   ]
  },
  {
   "cell_type": "markdown",
   "metadata": {},
   "source": [
    "# ESG sunburst chart"
   ]
  },
  {
   "cell_type": "code",
   "execution_count": 133,
   "metadata": {},
   "outputs": [
    {
     "data": {
      "application/vnd.plotly.v1+json": {
       "config": {
        "plotlyServerURL": "https://plot.ly"
       },
       "data": [
        {
         "branchvalues": "total",
         "customdata": [
          [
           78.6221987829051,
           78.6221987829051
          ],
          [
           "(?)",
           66.02181073295132
          ],
          [
           69.8950091319905,
           69.8950091319905
          ],
          [
           73.8853323749865,
           73.8853323749865
          ],
          [
           75.1005924094403,
           75.1005924094403
          ],
          [
           "(?)",
           70.14229519477799
          ],
          [
           78.5312795476341,
           78.5312795476341
          ],
          [
           81.7661607169701,
           81.7661607169701
          ],
          [
           78.0305599908431,
           78.0305599908431
          ],
          [
           "(?)",
           60.84965169085867
          ],
          [
           "(?)",
           61.09247522649022
          ],
          [
           "(?)",
           71.27885379281646
          ],
          [
           "(?)",
           75.55184928665116
          ],
          [
           78.6221987829051,
           78.6221987829051
          ]
         ],
         "domain": {
          "x": [
           0,
           1
          ],
          "y": [
           0,
           1
          ]
         },
         "hoverlabel": {
          "namelength": 0
         },
         "hovertemplate": "ESG Score=%{customdata[0]}<br>ESG Scoreadditional_col_for_hover=%{color}<br>labels=%{label}<br>ESG Portfolio Weight=%{value}<br>parent=%{parent}<br>id=%{id}",
         "ids": [
          "Oceania/Australia",
          "America/Canada",
          "Europe/Denmark",
          "Europe/Germany",
          "Asia/Hong Kong",
          "Asia/Japan",
          "Asia/Korea; Republic (S. Korea)",
          "Europe/Norway",
          "Europe/Sweden",
          "America/United States of America",
          "America",
          "Asia",
          "Europe",
          "Oceania"
         ],
         "insidetextorientation": "radial",
         "labels": [
          "Australia",
          "Canada",
          "Denmark",
          "Germany",
          "Hong Kong",
          "Japan",
          "Korea; Republic (S. Korea)",
          "Norway",
          "Sweden",
          "United States of America",
          "America",
          "Asia",
          "Europe",
          "Oceania"
         ],
         "marker": {
          "coloraxis": "coloraxis",
          "colors": [
           78.6221987829051,
           66.02181073295132,
           69.8950091319905,
           73.8853323749865,
           75.1005924094403,
           70.14229519477799,
           78.5312795476341,
           81.7661607169701,
           78.0305599908431,
           60.84965169085867,
           61.09247522649022,
           71.27885379281646,
           75.55184928665116,
           78.6221987829051
          ]
         },
         "name": "",
         "parents": [
          "Oceania",
          "America",
          "Europe",
          "Europe",
          "Asia",
          "Asia",
          "Asia",
          "Europe",
          "Europe",
          "America",
          "",
          "",
          "",
          ""
         ],
         "type": "sunburst",
         "values": [
          0.024183748860208788,
          0.03390972046252199,
          0.014381521820105487,
          0.011852800762930476,
          0.02758304445414428,
          0.16667281241195087,
          0.011584845497493267,
          0.012825114683692398,
          0.008636589267513666,
          0.6883698017794389,
          0.7222795222419609,
          0.20584070236358842,
          0.04769602653424203,
          0.024183748860208788
         ]
        }
       ],
       "layout": {
        "autosize": true,
        "coloraxis": {
         "cmid": 64.30283566604342,
         "colorbar": {
          "title": {
           "text": "ESG Scoreadditional_col_for_hover"
          }
         },
         "colorscale": [
          [
           0,
           "rgb(254, 252, 205)"
          ],
          [
           0.09090909090909091,
           "rgb(239, 225, 156)"
          ],
          [
           0.18181818181818182,
           "rgb(221, 201, 106)"
          ],
          [
           0.2727272727272727,
           "rgb(194, 182, 59)"
          ],
          [
           0.36363636363636365,
           "rgb(157, 167, 21)"
          ],
          [
           0.45454545454545453,
           "rgb(116, 153, 5)"
          ],
          [
           0.5454545454545454,
           "rgb(75, 138, 20)"
          ],
          [
           0.6363636363636364,
           "rgb(35, 121, 36)"
          ],
          [
           0.7272727272727273,
           "rgb(11, 100, 44)"
          ],
          [
           0.8181818181818182,
           "rgb(18, 78, 43)"
          ],
          [
           0.9090909090909091,
           "rgb(25, 56, 34)"
          ],
          [
           1,
           "rgb(23, 35, 18)"
          ]
         ]
        },
        "colorway": [
         "#6978F7",
         "#A325E9",
         "#96E05D",
         "#4A7FB9",
         "#E75A2D",
         "#FBE55A",
         "#8C8C8D",
         "#5A54F6"
        ],
        "font": {
         "color": "#D6D6D5"
        },
        "legend": {
         "font": {
          "color": "#D6D6D5"
         },
         "orientation": "v",
         "tracegroupgap": 0,
         "x": 0.1,
         "xanchor": "center",
         "y": 1.1,
         "yanchor": "top"
        },
        "margin": {
         "b": 5,
         "l": 10,
         "r": 10,
         "t": 5
        },
        "paper_bgcolor": "#1A1A1D",
        "plot_bgcolor": "#1A1A1D",
        "template": {
         "data": {
          "bar": [
           {
            "error_x": {
             "color": "#f2f5fa"
            },
            "error_y": {
             "color": "#f2f5fa"
            },
            "marker": {
             "line": {
              "color": "rgb(17,17,17)",
              "width": 0.5
             }
            },
            "type": "bar"
           }
          ],
          "barpolar": [
           {
            "marker": {
             "line": {
              "color": "rgb(17,17,17)",
              "width": 0.5
             }
            },
            "type": "barpolar"
           }
          ],
          "carpet": [
           {
            "aaxis": {
             "endlinecolor": "#A2B1C6",
             "gridcolor": "#506784",
             "linecolor": "#506784",
             "minorgridcolor": "#506784",
             "startlinecolor": "#A2B1C6"
            },
            "baxis": {
             "endlinecolor": "#A2B1C6",
             "gridcolor": "#506784",
             "linecolor": "#506784",
             "minorgridcolor": "#506784",
             "startlinecolor": "#A2B1C6"
            },
            "type": "carpet"
           }
          ],
          "choropleth": [
           {
            "colorbar": {
             "outlinewidth": 0,
             "ticks": ""
            },
            "type": "choropleth"
           }
          ],
          "contour": [
           {
            "colorbar": {
             "outlinewidth": 0,
             "ticks": ""
            },
            "colorscale": [
             [
              0,
              "#0d0887"
             ],
             [
              0.1111111111111111,
              "#46039f"
             ],
             [
              0.2222222222222222,
              "#7201a8"
             ],
             [
              0.3333333333333333,
              "#9c179e"
             ],
             [
              0.4444444444444444,
              "#bd3786"
             ],
             [
              0.5555555555555556,
              "#d8576b"
             ],
             [
              0.6666666666666666,
              "#ed7953"
             ],
             [
              0.7777777777777778,
              "#fb9f3a"
             ],
             [
              0.8888888888888888,
              "#fdca26"
             ],
             [
              1,
              "#f0f921"
             ]
            ],
            "type": "contour"
           }
          ],
          "contourcarpet": [
           {
            "colorbar": {
             "outlinewidth": 0,
             "ticks": ""
            },
            "type": "contourcarpet"
           }
          ],
          "heatmap": [
           {
            "colorbar": {
             "outlinewidth": 0,
             "ticks": ""
            },
            "colorscale": [
             [
              0,
              "#0d0887"
             ],
             [
              0.1111111111111111,
              "#46039f"
             ],
             [
              0.2222222222222222,
              "#7201a8"
             ],
             [
              0.3333333333333333,
              "#9c179e"
             ],
             [
              0.4444444444444444,
              "#bd3786"
             ],
             [
              0.5555555555555556,
              "#d8576b"
             ],
             [
              0.6666666666666666,
              "#ed7953"
             ],
             [
              0.7777777777777778,
              "#fb9f3a"
             ],
             [
              0.8888888888888888,
              "#fdca26"
             ],
             [
              1,
              "#f0f921"
             ]
            ],
            "type": "heatmap"
           }
          ],
          "heatmapgl": [
           {
            "colorbar": {
             "outlinewidth": 0,
             "ticks": ""
            },
            "colorscale": [
             [
              0,
              "#0d0887"
             ],
             [
              0.1111111111111111,
              "#46039f"
             ],
             [
              0.2222222222222222,
              "#7201a8"
             ],
             [
              0.3333333333333333,
              "#9c179e"
             ],
             [
              0.4444444444444444,
              "#bd3786"
             ],
             [
              0.5555555555555556,
              "#d8576b"
             ],
             [
              0.6666666666666666,
              "#ed7953"
             ],
             [
              0.7777777777777778,
              "#fb9f3a"
             ],
             [
              0.8888888888888888,
              "#fdca26"
             ],
             [
              1,
              "#f0f921"
             ]
            ],
            "type": "heatmapgl"
           }
          ],
          "histogram": [
           {
            "marker": {
             "colorbar": {
              "outlinewidth": 0,
              "ticks": ""
             }
            },
            "type": "histogram"
           }
          ],
          "histogram2d": [
           {
            "colorbar": {
             "outlinewidth": 0,
             "ticks": ""
            },
            "colorscale": [
             [
              0,
              "#0d0887"
             ],
             [
              0.1111111111111111,
              "#46039f"
             ],
             [
              0.2222222222222222,
              "#7201a8"
             ],
             [
              0.3333333333333333,
              "#9c179e"
             ],
             [
              0.4444444444444444,
              "#bd3786"
             ],
             [
              0.5555555555555556,
              "#d8576b"
             ],
             [
              0.6666666666666666,
              "#ed7953"
             ],
             [
              0.7777777777777778,
              "#fb9f3a"
             ],
             [
              0.8888888888888888,
              "#fdca26"
             ],
             [
              1,
              "#f0f921"
             ]
            ],
            "type": "histogram2d"
           }
          ],
          "histogram2dcontour": [
           {
            "colorbar": {
             "outlinewidth": 0,
             "ticks": ""
            },
            "colorscale": [
             [
              0,
              "#0d0887"
             ],
             [
              0.1111111111111111,
              "#46039f"
             ],
             [
              0.2222222222222222,
              "#7201a8"
             ],
             [
              0.3333333333333333,
              "#9c179e"
             ],
             [
              0.4444444444444444,
              "#bd3786"
             ],
             [
              0.5555555555555556,
              "#d8576b"
             ],
             [
              0.6666666666666666,
              "#ed7953"
             ],
             [
              0.7777777777777778,
              "#fb9f3a"
             ],
             [
              0.8888888888888888,
              "#fdca26"
             ],
             [
              1,
              "#f0f921"
             ]
            ],
            "type": "histogram2dcontour"
           }
          ],
          "mesh3d": [
           {
            "colorbar": {
             "outlinewidth": 0,
             "ticks": ""
            },
            "type": "mesh3d"
           }
          ],
          "parcoords": [
           {
            "line": {
             "colorbar": {
              "outlinewidth": 0,
              "ticks": ""
             }
            },
            "type": "parcoords"
           }
          ],
          "pie": [
           {
            "automargin": true,
            "type": "pie"
           }
          ],
          "scatter": [
           {
            "marker": {
             "line": {
              "color": "#283442"
             }
            },
            "type": "scatter"
           }
          ],
          "scatter3d": [
           {
            "line": {
             "colorbar": {
              "outlinewidth": 0,
              "ticks": ""
             }
            },
            "marker": {
             "colorbar": {
              "outlinewidth": 0,
              "ticks": ""
             }
            },
            "type": "scatter3d"
           }
          ],
          "scattercarpet": [
           {
            "marker": {
             "colorbar": {
              "outlinewidth": 0,
              "ticks": ""
             }
            },
            "type": "scattercarpet"
           }
          ],
          "scattergeo": [
           {
            "marker": {
             "colorbar": {
              "outlinewidth": 0,
              "ticks": ""
             }
            },
            "type": "scattergeo"
           }
          ],
          "scattergl": [
           {
            "marker": {
             "line": {
              "color": "#283442"
             }
            },
            "type": "scattergl"
           }
          ],
          "scattermapbox": [
           {
            "marker": {
             "colorbar": {
              "outlinewidth": 0,
              "ticks": ""
             }
            },
            "type": "scattermapbox"
           }
          ],
          "scatterpolar": [
           {
            "marker": {
             "colorbar": {
              "outlinewidth": 0,
              "ticks": ""
             }
            },
            "type": "scatterpolar"
           }
          ],
          "scatterpolargl": [
           {
            "marker": {
             "colorbar": {
              "outlinewidth": 0,
              "ticks": ""
             }
            },
            "type": "scatterpolargl"
           }
          ],
          "scatterternary": [
           {
            "marker": {
             "colorbar": {
              "outlinewidth": 0,
              "ticks": ""
             }
            },
            "type": "scatterternary"
           }
          ],
          "surface": [
           {
            "colorbar": {
             "outlinewidth": 0,
             "ticks": ""
            },
            "colorscale": [
             [
              0,
              "#0d0887"
             ],
             [
              0.1111111111111111,
              "#46039f"
             ],
             [
              0.2222222222222222,
              "#7201a8"
             ],
             [
              0.3333333333333333,
              "#9c179e"
             ],
             [
              0.4444444444444444,
              "#bd3786"
             ],
             [
              0.5555555555555556,
              "#d8576b"
             ],
             [
              0.6666666666666666,
              "#ed7953"
             ],
             [
              0.7777777777777778,
              "#fb9f3a"
             ],
             [
              0.8888888888888888,
              "#fdca26"
             ],
             [
              1,
              "#f0f921"
             ]
            ],
            "type": "surface"
           }
          ],
          "table": [
           {
            "cells": {
             "fill": {
              "color": "#506784"
             },
             "line": {
              "color": "rgb(17,17,17)"
             }
            },
            "header": {
             "fill": {
              "color": "#2a3f5f"
             },
             "line": {
              "color": "rgb(17,17,17)"
             }
            },
            "type": "table"
           }
          ]
         },
         "layout": {
          "annotationdefaults": {
           "arrowcolor": "#f2f5fa",
           "arrowhead": 0,
           "arrowwidth": 1
          },
          "coloraxis": {
           "colorbar": {
            "outlinewidth": 0,
            "ticks": ""
           }
          },
          "colorscale": {
           "diverging": [
            [
             0,
             "#8e0152"
            ],
            [
             0.1,
             "#c51b7d"
            ],
            [
             0.2,
             "#de77ae"
            ],
            [
             0.3,
             "#f1b6da"
            ],
            [
             0.4,
             "#fde0ef"
            ],
            [
             0.5,
             "#f7f7f7"
            ],
            [
             0.6,
             "#e6f5d0"
            ],
            [
             0.7,
             "#b8e186"
            ],
            [
             0.8,
             "#7fbc41"
            ],
            [
             0.9,
             "#4d9221"
            ],
            [
             1,
             "#276419"
            ]
           ],
           "sequential": [
            [
             0,
             "#0d0887"
            ],
            [
             0.1111111111111111,
             "#46039f"
            ],
            [
             0.2222222222222222,
             "#7201a8"
            ],
            [
             0.3333333333333333,
             "#9c179e"
            ],
            [
             0.4444444444444444,
             "#bd3786"
            ],
            [
             0.5555555555555556,
             "#d8576b"
            ],
            [
             0.6666666666666666,
             "#ed7953"
            ],
            [
             0.7777777777777778,
             "#fb9f3a"
            ],
            [
             0.8888888888888888,
             "#fdca26"
            ],
            [
             1,
             "#f0f921"
            ]
           ],
           "sequentialminus": [
            [
             0,
             "#0d0887"
            ],
            [
             0.1111111111111111,
             "#46039f"
            ],
            [
             0.2222222222222222,
             "#7201a8"
            ],
            [
             0.3333333333333333,
             "#9c179e"
            ],
            [
             0.4444444444444444,
             "#bd3786"
            ],
            [
             0.5555555555555556,
             "#d8576b"
            ],
            [
             0.6666666666666666,
             "#ed7953"
            ],
            [
             0.7777777777777778,
             "#fb9f3a"
            ],
            [
             0.8888888888888888,
             "#fdca26"
            ],
            [
             1,
             "#f0f921"
            ]
           ]
          },
          "colorway": [
           "#636efa",
           "#EF553B",
           "#00cc96",
           "#ab63fa",
           "#FFA15A",
           "#19d3f3",
           "#FF6692",
           "#B6E880",
           "#FF97FF",
           "#FECB52"
          ],
          "font": {
           "color": "#f2f5fa"
          },
          "geo": {
           "bgcolor": "rgb(17,17,17)",
           "lakecolor": "rgb(17,17,17)",
           "landcolor": "rgb(17,17,17)",
           "showlakes": true,
           "showland": true,
           "subunitcolor": "#506784"
          },
          "hoverlabel": {
           "align": "left"
          },
          "hovermode": "closest",
          "mapbox": {
           "style": "dark"
          },
          "paper_bgcolor": "rgb(17,17,17)",
          "plot_bgcolor": "rgb(17,17,17)",
          "polar": {
           "angularaxis": {
            "gridcolor": "#506784",
            "linecolor": "#506784",
            "ticks": ""
           },
           "bgcolor": "rgb(17,17,17)",
           "radialaxis": {
            "gridcolor": "#506784",
            "linecolor": "#506784",
            "ticks": ""
           }
          },
          "scene": {
           "xaxis": {
            "backgroundcolor": "rgb(17,17,17)",
            "gridcolor": "#506784",
            "gridwidth": 2,
            "linecolor": "#506784",
            "showbackground": true,
            "ticks": "",
            "zerolinecolor": "#C8D4E3"
           },
           "yaxis": {
            "backgroundcolor": "rgb(17,17,17)",
            "gridcolor": "#506784",
            "gridwidth": 2,
            "linecolor": "#506784",
            "showbackground": true,
            "ticks": "",
            "zerolinecolor": "#C8D4E3"
           },
           "zaxis": {
            "backgroundcolor": "rgb(17,17,17)",
            "gridcolor": "#506784",
            "gridwidth": 2,
            "linecolor": "#506784",
            "showbackground": true,
            "ticks": "",
            "zerolinecolor": "#C8D4E3"
           }
          },
          "shapedefaults": {
           "line": {
            "color": "#f2f5fa"
           }
          },
          "sliderdefaults": {
           "bgcolor": "#C8D4E3",
           "bordercolor": "rgb(17,17,17)",
           "borderwidth": 1,
           "tickwidth": 0
          },
          "ternary": {
           "aaxis": {
            "gridcolor": "#506784",
            "linecolor": "#506784",
            "ticks": ""
           },
           "baxis": {
            "gridcolor": "#506784",
            "linecolor": "#506784",
            "ticks": ""
           },
           "bgcolor": "rgb(17,17,17)",
           "caxis": {
            "gridcolor": "#506784",
            "linecolor": "#506784",
            "ticks": ""
           }
          },
          "title": {
           "x": 0.05
          },
          "updatemenudefaults": {
           "bgcolor": "#506784",
           "borderwidth": 0
          },
          "xaxis": {
           "automargin": true,
           "gridcolor": "#283442",
           "linecolor": "#506784",
           "ticks": "",
           "title": {
            "standoff": 15
           },
           "zerolinecolor": "#283442",
           "zerolinewidth": 2
          },
          "yaxis": {
           "automargin": true,
           "gridcolor": "#283442",
           "linecolor": "#506784",
           "ticks": "",
           "title": {
            "standoff": 15
           },
           "zerolinecolor": "#283442",
           "zerolinewidth": 2
          }
         }
        },
        "title": {
         "font": {
          "color": "#D6D6D5"
         },
         "x": 0.5,
         "xanchor": "center",
         "yanchor": "top"
        },
        "xaxis": {
         "color": "#D6D6D5",
         "gridcolor": "black",
         "gridwidth": 1,
         "linecolor": "#D6D6D5",
         "ticks": "outside",
         "zerolinecolor": "black",
         "zerolinewidth": 1
        },
        "yaxis": {
         "color": "#D6D6D5",
         "gridcolor": "black",
         "gridwidth": 1,
         "linecolor": "#D6D6D5",
         "side": "right",
         "ticks": "outside",
         "zerolinecolor": "black",
         "zerolinewidth": 1
        }
       }
      },
      "image/png": "[encoded data removed]",
      "text/html": [
       "<div>\n",
       "        \n",
       "        \n",
       "            <div id=\"2b23c9f6-8849-43e2-a10d-6989eca9a685\" class=\"plotly-graph-div\" style=\"height:525px; width:100%;\"></div>\n",
       "            <script type=\"text/javascript\">\n",
       "                require([\"plotly\"], function(Plotly) {\n",
       "                    window.PLOTLYENV=window.PLOTLYENV || {};\n",
       "                    \n",
       "                if (document.getElementById(\"2b23c9f6-8849-43e2-a10d-6989eca9a685\")) {\n",
       "                    Plotly.newPlot(\n",
       "                        '2b23c9f6-8849-43e2-a10d-6989eca9a685',\n",
       "                        [{\"branchvalues\": \"total\", \"customdata\": [[78.6221987829051, 78.6221987829051], [\"(?)\", 66.02181073295132], [69.8950091319905, 69.8950091319905], [73.8853323749865, 73.8853323749865], [75.1005924094403, 75.1005924094403], [\"(?)\", 70.14229519477799], [78.5312795476341, 78.5312795476341], [81.7661607169701, 81.7661607169701], [78.0305599908431, 78.0305599908431], [\"(?)\", 60.84965169085867], [\"(?)\", 61.09247522649022], [\"(?)\", 71.27885379281646], [\"(?)\", 75.55184928665116], [78.6221987829051, 78.6221987829051]], \"domain\": {\"x\": [0.0, 1.0], \"y\": [0.0, 1.0]}, \"hoverlabel\": {\"namelength\": 0}, \"hovertemplate\": \"ESG Score=%{customdata[0]}<br>ESG Scoreadditional_col_for_hover=%{color}<br>labels=%{label}<br>ESG Portfolio Weight=%{value}<br>parent=%{parent}<br>id=%{id}\", \"ids\": [\"Oceania/Australia\", \"America/Canada\", \"Europe/Denmark\", \"Europe/Germany\", \"Asia/Hong Kong\", \"Asia/Japan\", \"Asia/Korea; Republic (S. Korea)\", \"Europe/Norway\", \"Europe/Sweden\", \"America/United States of America\", \"America\", \"Asia\", \"Europe\", \"Oceania\"], \"insidetextorientation\": \"radial\", \"labels\": [\"Australia\", \"Canada\", \"Denmark\", \"Germany\", \"Hong Kong\", \"Japan\", \"Korea; Republic (S. Korea)\", \"Norway\", \"Sweden\", \"United States of America\", \"America\", \"Asia\", \"Europe\", \"Oceania\"], \"marker\": {\"coloraxis\": \"coloraxis\", \"colors\": [78.6221987829051, 66.02181073295132, 69.8950091319905, 73.8853323749865, 75.1005924094403, 70.14229519477799, 78.5312795476341, 81.7661607169701, 78.0305599908431, 60.84965169085867, 61.09247522649022, 71.27885379281646, 75.55184928665116, 78.6221987829051]}, \"name\": \"\", \"parents\": [\"Oceania\", \"America\", \"Europe\", \"Europe\", \"Asia\", \"Asia\", \"Asia\", \"Europe\", \"Europe\", \"America\", \"\", \"\", \"\", \"\"], \"type\": \"sunburst\", \"values\": [0.024183748860208788, 0.03390972046252199, 0.014381521820105487, 0.011852800762930476, 0.02758304445414428, 0.16667281241195087, 0.011584845497493267, 0.012825114683692398, 0.008636589267513666, 0.6883698017794389, 0.7222795222419609, 0.20584070236358842, 0.04769602653424203, 0.024183748860208788]}],\n",
       "                        {\"coloraxis\": {\"cmid\": 64.30283566604342, \"colorbar\": {\"title\": {\"text\": \"ESG Scoreadditional_col_for_hover\"}}, \"colorscale\": [[0.0, \"rgb(254, 252, 205)\"], [0.09090909090909091, \"rgb(239, 225, 156)\"], [0.18181818181818182, \"rgb(221, 201, 106)\"], [0.2727272727272727, \"rgb(194, 182, 59)\"], [0.36363636363636365, \"rgb(157, 167, 21)\"], [0.45454545454545453, \"rgb(116, 153, 5)\"], [0.5454545454545454, \"rgb(75, 138, 20)\"], [0.6363636363636364, \"rgb(35, 121, 36)\"], [0.7272727272727273, \"rgb(11, 100, 44)\"], [0.8181818181818182, \"rgb(18, 78, 43)\"], [0.9090909090909091, \"rgb(25, 56, 34)\"], [1.0, \"rgb(23, 35, 18)\"]]}, \"colorway\": [\"#6978F7\", \"#A325E9\", \"#96E05D\", \"#4A7FB9\", \"#E75A2D\", \"#FBE55A\", \"#8C8C8D\", \"#5A54F6\"], \"font\": {\"color\": \"#D6D6D5\"}, \"legend\": {\"font\": {\"color\": \"#D6D6D5\"}, \"orientation\": \"v\", \"tracegroupgap\": 0, \"x\": 0.1, \"xanchor\": \"center\", \"y\": 1.1, \"yanchor\": \"top\"}, \"margin\": {\"b\": 5, \"l\": 10, \"r\": 10, \"t\": 5}, \"paper_bgcolor\": \"#1A1A1D\", \"plot_bgcolor\": \"#1A1A1D\", \"template\": {\"data\": {\"bar\": [{\"error_x\": {\"color\": \"#f2f5fa\"}, \"error_y\": {\"color\": \"#f2f5fa\"}, \"marker\": {\"line\": {\"color\": \"rgb(17,17,17)\", \"width\": 0.5}}, \"type\": \"bar\"}], \"barpolar\": [{\"marker\": {\"line\": {\"color\": \"rgb(17,17,17)\", \"width\": 0.5}}, \"type\": \"barpolar\"}], \"carpet\": [{\"aaxis\": {\"endlinecolor\": \"#A2B1C6\", \"gridcolor\": \"#506784\", \"linecolor\": \"#506784\", \"minorgridcolor\": \"#506784\", \"startlinecolor\": \"#A2B1C6\"}, \"baxis\": {\"endlinecolor\": \"#A2B1C6\", \"gridcolor\": \"#506784\", \"linecolor\": \"#506784\", \"minorgridcolor\": \"#506784\", \"startlinecolor\": \"#A2B1C6\"}, \"type\": \"carpet\"}], \"choropleth\": [{\"colorbar\": {\"outlinewidth\": 0, \"ticks\": \"\"}, \"type\": \"choropleth\"}], \"contour\": [{\"colorbar\": {\"outlinewidth\": 0, \"ticks\": \"\"}, \"colorscale\": [[0.0, \"#0d0887\"], [0.1111111111111111, \"#46039f\"], [0.2222222222222222, \"#7201a8\"], [0.3333333333333333, \"#9c179e\"], [0.4444444444444444, \"#bd3786\"], [0.5555555555555556, \"#d8576b\"], [0.6666666666666666, \"#ed7953\"], [0.7777777777777778, \"#fb9f3a\"], [0.8888888888888888, \"#fdca26\"], [1.0, \"#f0f921\"]], \"type\": \"contour\"}], \"contourcarpet\": [{\"colorbar\": {\"outlinewidth\": 0, \"ticks\": \"\"}, \"type\": \"contourcarpet\"}], \"heatmap\": [{\"colorbar\": {\"outlinewidth\": 0, \"ticks\": \"\"}, \"colorscale\": [[0.0, \"#0d0887\"], [0.1111111111111111, \"#46039f\"], [0.2222222222222222, \"#7201a8\"], [0.3333333333333333, \"#9c179e\"], [0.4444444444444444, \"#bd3786\"], [0.5555555555555556, \"#d8576b\"], [0.6666666666666666, \"#ed7953\"], [0.7777777777777778, \"#fb9f3a\"], [0.8888888888888888, \"#fdca26\"], [1.0, \"#f0f921\"]], \"type\": \"heatmap\"}], \"heatmapgl\": [{\"colorbar\": {\"outlinewidth\": 0, \"ticks\": \"\"}, \"colorscale\": [[0.0, \"#0d0887\"], [0.1111111111111111, \"#46039f\"], [0.2222222222222222, \"#7201a8\"], [0.3333333333333333, \"#9c179e\"], [0.4444444444444444, \"#bd3786\"], [0.5555555555555556, \"#d8576b\"], [0.6666666666666666, \"#ed7953\"], [0.7777777777777778, \"#fb9f3a\"], [0.8888888888888888, \"#fdca26\"], [1.0, \"#f0f921\"]], \"type\": \"heatmapgl\"}], \"histogram\": [{\"marker\": {\"colorbar\": {\"outlinewidth\": 0, \"ticks\": \"\"}}, \"type\": \"histogram\"}], \"histogram2d\": [{\"colorbar\": {\"outlinewidth\": 0, \"ticks\": \"\"}, \"colorscale\": [[0.0, \"#0d0887\"], [0.1111111111111111, \"#46039f\"], [0.2222222222222222, \"#7201a8\"], [0.3333333333333333, \"#9c179e\"], [0.4444444444444444, \"#bd3786\"], [0.5555555555555556, \"#d8576b\"], [0.6666666666666666, \"#ed7953\"], [0.7777777777777778, \"#fb9f3a\"], [0.8888888888888888, \"#fdca26\"], [1.0, \"#f0f921\"]], \"type\": \"histogram2d\"}], \"histogram2dcontour\": [{\"colorbar\": {\"outlinewidth\": 0, \"ticks\": \"\"}, \"colorscale\": [[0.0, \"#0d0887\"], [0.1111111111111111, \"#46039f\"], [0.2222222222222222, \"#7201a8\"], [0.3333333333333333, \"#9c179e\"], [0.4444444444444444, \"#bd3786\"], [0.5555555555555556, \"#d8576b\"], [0.6666666666666666, \"#ed7953\"], [0.7777777777777778, \"#fb9f3a\"], [0.8888888888888888, \"#fdca26\"], [1.0, \"#f0f921\"]], \"type\": \"histogram2dcontour\"}], \"mesh3d\": [{\"colorbar\": {\"outlinewidth\": 0, \"ticks\": \"\"}, \"type\": \"mesh3d\"}], \"parcoords\": [{\"line\": {\"colorbar\": {\"outlinewidth\": 0, \"ticks\": \"\"}}, \"type\": \"parcoords\"}], \"pie\": [{\"automargin\": true, \"type\": \"pie\"}], \"scatter\": [{\"marker\": {\"line\": {\"color\": \"#283442\"}}, \"type\": \"scatter\"}], \"scatter3d\": [{\"line\": {\"colorbar\": {\"outlinewidth\": 0, \"ticks\": \"\"}}, \"marker\": {\"colorbar\": {\"outlinewidth\": 0, \"ticks\": \"\"}}, \"type\": \"scatter3d\"}], \"scattercarpet\": [{\"marker\": {\"colorbar\": {\"outlinewidth\": 0, \"ticks\": \"\"}}, \"type\": \"scattercarpet\"}], \"scattergeo\": [{\"marker\": {\"colorbar\": {\"outlinewidth\": 0, \"ticks\": \"\"}}, \"type\": \"scattergeo\"}], \"scattergl\": [{\"marker\": {\"line\": {\"color\": \"#283442\"}}, \"type\": \"scattergl\"}], \"scattermapbox\": [{\"marker\": {\"colorbar\": {\"outlinewidth\": 0, \"ticks\": \"\"}}, \"type\": \"scattermapbox\"}], \"scatterpolar\": [{\"marker\": {\"colorbar\": {\"outlinewidth\": 0, \"ticks\": \"\"}}, \"type\": \"scatterpolar\"}], \"scatterpolargl\": [{\"marker\": {\"colorbar\": {\"outlinewidth\": 0, \"ticks\": \"\"}}, \"type\": \"scatterpolargl\"}], \"scatterternary\": [{\"marker\": {\"colorbar\": {\"outlinewidth\": 0, \"ticks\": \"\"}}, \"type\": \"scatterternary\"}], \"surface\": [{\"colorbar\": {\"outlinewidth\": 0, \"ticks\": \"\"}, \"colorscale\": [[0.0, \"#0d0887\"], [0.1111111111111111, \"#46039f\"], [0.2222222222222222, \"#7201a8\"], [0.3333333333333333, \"#9c179e\"], [0.4444444444444444, \"#bd3786\"], [0.5555555555555556, \"#d8576b\"], [0.6666666666666666, \"#ed7953\"], [0.7777777777777778, \"#fb9f3a\"], [0.8888888888888888, \"#fdca26\"], [1.0, \"#f0f921\"]], \"type\": \"surface\"}], \"table\": [{\"cells\": {\"fill\": {\"color\": \"#506784\"}, \"line\": {\"color\": \"rgb(17,17,17)\"}}, \"header\": {\"fill\": {\"color\": \"#2a3f5f\"}, \"line\": {\"color\": \"rgb(17,17,17)\"}}, \"type\": \"table\"}]}, \"layout\": {\"annotationdefaults\": {\"arrowcolor\": \"#f2f5fa\", \"arrowhead\": 0, \"arrowwidth\": 1}, \"coloraxis\": {\"colorbar\": {\"outlinewidth\": 0, \"ticks\": \"\"}}, \"colorscale\": {\"diverging\": [[0, \"#8e0152\"], [0.1, \"#c51b7d\"], [0.2, \"#de77ae\"], [0.3, \"#f1b6da\"], [0.4, \"#fde0ef\"], [0.5, \"#f7f7f7\"], [0.6, \"#e6f5d0\"], [0.7, \"#b8e186\"], [0.8, \"#7fbc41\"], [0.9, \"#4d9221\"], [1, \"#276419\"]], \"sequential\": [[0.0, \"#0d0887\"], [0.1111111111111111, \"#46039f\"], [0.2222222222222222, \"#7201a8\"], [0.3333333333333333, \"#9c179e\"], [0.4444444444444444, \"#bd3786\"], [0.5555555555555556, \"#d8576b\"], [0.6666666666666666, \"#ed7953\"], [0.7777777777777778, \"#fb9f3a\"], [0.8888888888888888, \"#fdca26\"], [1.0, \"#f0f921\"]], \"sequentialminus\": [[0.0, \"#0d0887\"], [0.1111111111111111, \"#46039f\"], [0.2222222222222222, \"#7201a8\"], [0.3333333333333333, \"#9c179e\"], [0.4444444444444444, \"#bd3786\"], [0.5555555555555556, \"#d8576b\"], [0.6666666666666666, \"#ed7953\"], [0.7777777777777778, \"#fb9f3a\"], [0.8888888888888888, \"#fdca26\"], [1.0, \"#f0f921\"]]}, \"colorway\": [\"#636efa\", \"#EF553B\", \"#00cc96\", \"#ab63fa\", \"#FFA15A\", \"#19d3f3\", \"#FF6692\", \"#B6E880\", \"#FF97FF\", \"#FECB52\"], \"font\": {\"color\": \"#f2f5fa\"}, \"geo\": {\"bgcolor\": \"rgb(17,17,17)\", \"lakecolor\": \"rgb(17,17,17)\", \"landcolor\": \"rgb(17,17,17)\", \"showlakes\": true, \"showland\": true, \"subunitcolor\": \"#506784\"}, \"hoverlabel\": {\"align\": \"left\"}, \"hovermode\": \"closest\", \"mapbox\": {\"style\": \"dark\"}, \"paper_bgcolor\": \"rgb(17,17,17)\", \"plot_bgcolor\": \"rgb(17,17,17)\", \"polar\": {\"angularaxis\": {\"gridcolor\": \"#506784\", \"linecolor\": \"#506784\", \"ticks\": \"\"}, \"bgcolor\": \"rgb(17,17,17)\", \"radialaxis\": {\"gridcolor\": \"#506784\", \"linecolor\": \"#506784\", \"ticks\": \"\"}}, \"scene\": {\"xaxis\": {\"backgroundcolor\": \"rgb(17,17,17)\", \"gridcolor\": \"#506784\", \"gridwidth\": 2, \"linecolor\": \"#506784\", \"showbackground\": true, \"ticks\": \"\", \"zerolinecolor\": \"#C8D4E3\"}, \"yaxis\": {\"backgroundcolor\": \"rgb(17,17,17)\", \"gridcolor\": \"#506784\", \"gridwidth\": 2, \"linecolor\": \"#506784\", \"showbackground\": true, \"ticks\": \"\", \"zerolinecolor\": \"#C8D4E3\"}, \"zaxis\": {\"backgroundcolor\": \"rgb(17,17,17)\", \"gridcolor\": \"#506784\", \"gridwidth\": 2, \"linecolor\": \"#506784\", \"showbackground\": true, \"ticks\": \"\", \"zerolinecolor\": \"#C8D4E3\"}}, \"shapedefaults\": {\"line\": {\"color\": \"#f2f5fa\"}}, \"sliderdefaults\": {\"bgcolor\": \"#C8D4E3\", \"bordercolor\": \"rgb(17,17,17)\", \"borderwidth\": 1, \"tickwidth\": 0}, \"ternary\": {\"aaxis\": {\"gridcolor\": \"#506784\", \"linecolor\": \"#506784\", \"ticks\": \"\"}, \"baxis\": {\"gridcolor\": \"#506784\", \"linecolor\": \"#506784\", \"ticks\": \"\"}, \"bgcolor\": \"rgb(17,17,17)\", \"caxis\": {\"gridcolor\": \"#506784\", \"linecolor\": \"#506784\", \"ticks\": \"\"}}, \"title\": {\"x\": 0.05}, \"updatemenudefaults\": {\"bgcolor\": \"#506784\", \"borderwidth\": 0}, \"xaxis\": {\"automargin\": true, \"gridcolor\": \"#283442\", \"linecolor\": \"#506784\", \"ticks\": \"\", \"title\": {\"standoff\": 15}, \"zerolinecolor\": \"#283442\", \"zerolinewidth\": 2}, \"yaxis\": {\"automargin\": true, \"gridcolor\": \"#283442\", \"linecolor\": \"#506784\", \"ticks\": \"\", \"title\": {\"standoff\": 15}, \"zerolinecolor\": \"#283442\", \"zerolinewidth\": 2}}}, \"title\": {\"font\": {\"color\": \"#D6D6D5\"}, \"x\": 0.5, \"xanchor\": \"center\", \"yanchor\": \"top\"}, \"xaxis\": {\"color\": \"#D6D6D5\", \"gridcolor\": \"black\", \"gridwidth\": 1, \"linecolor\": \"#D6D6D5\", \"ticks\": \"outside\", \"zerolinecolor\": \"black\", \"zerolinewidth\": 1}, \"yaxis\": {\"color\": \"#D6D6D5\", \"gridcolor\": \"black\", \"gridwidth\": 1, \"linecolor\": \"#D6D6D5\", \"side\": \"right\", \"ticks\": \"outside\", \"zerolinecolor\": \"black\", \"zerolinewidth\": 1}},\n",
       "                        {\"responsive\": true}\n",
       "                    ).then(function(){\n",
       "                            \n",
       "var gd = document.getElementById('2b23c9f6-8849-43e2-a10d-6989eca9a685');\n",
       "var x = new MutationObserver(function (mutations, observer) {{\n",
       "        var display = window.getComputedStyle(gd).display;\n",
       "        if (!display || display === 'none') {{\n",
       "            console.log([gd, 'removed!']);\n",
       "            Plotly.purge(gd);\n",
       "            observer.disconnect();\n",
       "        }}\n",
       "}});\n",
       "\n",
       "// Listen for the removal of the full notebook cells\n",
       "var notebookContainer = gd.closest('#notebook-container');\n",
       "if (notebookContainer) {{\n",
       "    x.observe(notebookContainer, {childList: true});\n",
       "}}\n",
       "\n",
       "// Listen for the clearing of the current output cell\n",
       "var outputEl = gd.closest('.output');\n",
       "if (outputEl) {{\n",
       "    x.observe(outputEl, {childList: true});\n",
       "}}\n",
       "\n",
       "                        })\n",
       "                };\n",
       "                });\n",
       "            </script>\n",
       "        </div>"
      ]
     },
     "metadata": {},
     "output_type": "display_data"
    }
   ],
   "source": [
    "df_cht = df_esg_port\n",
    "fig = px.sunburst(df_cht, path=['Exchange Region', 'Exchange Country'], values='ESG Portfolio Weight',\n",
    "                  color='ESG Score', hover_data=['ESG Score'],\n",
    "                  color_continuous_scale='Speed',\n",
    "                  color_continuous_midpoint=np.average(df_cht['ESG Score'], weights=df_cht['ESG Portfolio Weight']))\n",
    "fig.update_traces(insidetextorientation='radial') \n",
    "fig.layout.template = 'plotly_dark'\n",
    "refinitiv_layout(fig)\n",
    "fig"
   ]
  },
  {
   "cell_type": "code",
   "execution_count": null,
   "metadata": {},
   "outputs": [],
   "source": []
  }
 ],
 "metadata": {
  "kernelspec": {
   "display_name": "Python 3",
   "language": "python",
   "name": "python3"
  },
  "language_info": {
   "codemirror_mode": {
    "name": "ipython",
    "version": 3
   },
   "file_extension": ".py",
   "mimetype": "text/x-python",
   "name": "python",
   "nbconvert_exporter": "python",
   "pygments_lexer": "ipython3",
   "version": "3.7.4"
  }
 },
 "nbformat": 4,
 "nbformat_minor": 4
}
